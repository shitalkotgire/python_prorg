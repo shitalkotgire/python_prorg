{
 "cells": [
  {
   "cell_type": "code",
   "execution_count": 14,
   "id": "c1e64d5f",
   "metadata": {},
   "outputs": [
    {
     "name": "stdout",
     "output_type": "stream",
     "text": [
      " The name is Shital,the salery is 20,employee id is 455\n",
      "None\n",
      "20\n"
     ]
    }
   ],
   "source": [
    "#class variable and class methods to change class variable\n",
    "\n",
    "\"\"\"Python class method is a way to define a function for the Python class. \n",
    "It receives the class as an implicit first argument. Using @classmethod decorator, \n",
    "it is possible to create as many constructors for a class that behaves like a factory constructor.\"\"\"\n",
    "\n",
    "class employee():\n",
    "    no_of_leaves=10      #class variable\n",
    "    \n",
    "    def __init__(self,aname,aroll_no,aemp_id):\n",
    "        self.name=aname\n",
    "        self.roll_no=aroll_no\n",
    "        self.emp_id=aemp_id\n",
    "        \n",
    "    def printdetails(self):\n",
    "        return f\" The name is {self.name},the salery is {self.roll_no},employee id is {self.emp_id}\"\n",
    "    \n",
    "    @classmethod\n",
    "    def change_leave(cls,leaves):   #class method takes cls as default parameter\n",
    "        cls.no_of_leaves=leaves\n",
    "        \n",
    "shital=employee(\"Shital\",20,455)\n",
    "print(shital.printdetails())\n",
    "print(shital.change_leave(20))\n",
    "print(shital.no_of_leaves)"
   ]
  },
  {
   "cell_type": "code",
   "execution_count": 16,
   "id": "877620ce",
   "metadata": {},
   "outputs": [
    {
     "name": "stdout",
     "output_type": "stream",
     "text": [
      "480\n"
     ]
    }
   ],
   "source": [
    "#Class Methods As Alternative Constructors\n",
    "class Employee:\n",
    "    no_of_leaves = 8\n",
    "\n",
    "    def __init__(self, aname, asalary, arole):\n",
    "        self.name = aname\n",
    "        self.salary = asalary\n",
    "        self.role = arole\n",
    "\n",
    "    def printdetails(self):\n",
    "        return f\"The Name is {self.name}. Salary is {self.salary} and role is {self.role}\"\n",
    "\n",
    "    @classmethod\n",
    "    def change_leaves(cls, newleaves):\n",
    "        cls.no_of_leaves = newleaves\n",
    "\n",
    "    @classmethod\n",
    "    def from_dash(cls, string):\n",
    "        # params = string.split(\"-\")\n",
    "        # print(params)\n",
    "        # return cls(params[0], params[1], params[2])\n",
    "        return cls(*string.split(\"-\"))\n",
    "\n",
    "\n",
    "harry = Employee(\"Harry\", 255, \"Instructor\")\n",
    "rohan = Employee(\"Rohan\", 455, \"Student\")\n",
    "karan = Employee.from_dash(\"Karan-480-Student\")\n",
    "\n",
    "print(karan.salary)"
   ]
  },
  {
   "cell_type": "code",
   "execution_count": 19,
   "id": "db9bfe12",
   "metadata": {},
   "outputs": [],
   "source": [
    "#Static Methods In Python \n",
    "''' Static methods in Python are extremely similar to python class methods,\n",
    "but the difference is that a static method is bound to a class rather than the objects for that class.\n",
    "To define a static method, we use @staticmethod decorator, which is a built-in decorator. \n",
    "Also, there is no need to import any module to use decorators. \n",
    "Using a static method in a class, we permit it to be accessed only by the class objects or inside the class.\n",
    "\n",
    "There are few limitations related to static methods, such as:\n",
    "Unlike, class method a static method cannot alter or change any variable value or state of the class.\n",
    "Static methods do not have any knowledge related to class\n",
    "However, we prefer the static method, at places where it could work to make our program more efficient \n",
    "and faster as we do not have to pass self as a parameter, so the efficiency of the program increases.\n",
    "Static methods have a very clear use-case. When we need some functionality not for an Object but with the complete class,\n",
    "we make a method static. This is advantageous when we need to create utility methods.\n",
    "Finally, note that in a static method, we do not need the self or cls to be passed as the first argument.\n",
    "'''\n",
    "class Student:\n",
    "    @staticmethod\n",
    "    def myfunc():\n",
    "        pass\n",
    "    #Code to be executed\n",
    "#staticmethod(class_name.method())"
   ]
  },
  {
   "cell_type": "code",
   "execution_count": null,
   "id": "2ad5937c",
   "metadata": {},
   "outputs": [],
   "source": [
    "# class Employee:\n",
    "    no_of_leaves = 8\n",
    "\n",
    "    def __init__(self, aname, asalary, arole):\n",
    "        self.name = aname\n",
    "        self.salary = asalary\n",
    "        self.role = arole\n",
    "\n",
    "    def printdetails(self):\n",
    "        return f\"The Name is {self.name}. Salary is {self.salary} and role is {self.role}\"\n",
    "\n",
    "    @classmethod\n",
    "    def change_leaves(cls, newleaves):\n",
    "        cls.no_of_leaves = newleaves\n",
    "\n",
    "    @classmethod\n",
    "    def from_dash(cls, string):\n",
    "        return cls(*string.split(\"-\"))\n",
    "\n",
    "    @staticmethod\n",
    "    def printgood(string):\n",
    "        print(\"This is good \" + string)\n",
    "\n",
    "harry = Employee(\"Harry\", 255, \"Instructor\")\n",
    "rohan = Employee(\"Rohan\", 455, \"Student\")\n",
    "karan = Employee.from_dash(\"Karan-480-Student\")\n",
    "\n",
    "Employee.printgood(\"Rohan\")\n"
   ]
  },
  {
   "cell_type": "markdown",
   "id": "6138fc89",
   "metadata": {},
   "source": [
    "# Abstraction & Encapsulation "
   ]
  },
  {
   "cell_type": "code",
   "execution_count": null,
   "id": "d3b1bafd",
   "metadata": {},
   "outputs": [],
   "source": [
    "'''Abstraction refers to hiding the unnecessary details so that the focus could be on the whole product\n",
    "instead of parts of the project separately. \n",
    "It is a mechanism that represents the important features without including implementation details.\n",
    "Abstraction helps us in partitioning the program into many independent concepts so, \n",
    "we may hide the irrelevant details in the code. It offers the greatest flexibility when using abstract data type objects\n",
    "in different situations.\n",
    "\n",
    "Encapsulation means hiding under layers. When working with classes and handling sensitive data,\n",
    "global access to all the variables used in the program is not secure. \n",
    "In Encapsulation, the internal representation of an object is generally hidden from outside to secure the data.\n",
    "It improves the maintainability of an application and helps the developers to organize the code better.\n",
    "'''"
   ]
  },
  {
   "cell_type": "code",
   "execution_count": null,
   "id": "cc24f95a",
   "metadata": {},
   "outputs": [],
   "source": []
  }
 ],
 "metadata": {
  "kernelspec": {
   "display_name": "Python 3",
   "language": "python",
   "name": "python3"
  },
  "language_info": {
   "codemirror_mode": {
    "name": "ipython",
    "version": 3
   },
   "file_extension": ".py",
   "mimetype": "text/x-python",
   "name": "python",
   "nbconvert_exporter": "python",
   "pygments_lexer": "ipython3",
   "version": "3.9.4"
  }
 },
 "nbformat": 4,
 "nbformat_minor": 5
}
