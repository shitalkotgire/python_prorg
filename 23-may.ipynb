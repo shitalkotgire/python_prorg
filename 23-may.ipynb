{
 "cells": [
  {
   "cell_type": "code",
   "execution_count": 1,
   "id": "722ccf4b",
   "metadata": {},
   "outputs": [
    {
     "data": {
      "text/plain": [
       "'Genrator is function which is responsible to genrate a sequence of values\\nwe can write Genrator fun just like ordinory fun but it uses\\nyeild keyword insted of return\\n'"
      ]
     },
     "execution_count": 1,
     "metadata": {},
     "output_type": "execute_result"
    }
   ],
   "source": [
    "#genrator\n",
    "\"\"\"Genrator is function which is responsible to genrate a sequence of values\n",
    "we can write Genrator fun just like ordinory fun but it uses\n",
    "yeild keyword insted of return\n",
    "\"\"\"\n"
   ]
  },
  {
   "cell_type": "code",
   "execution_count": 3,
   "id": "aef2471b",
   "metadata": {},
   "outputs": [
    {
     "name": "stdout",
     "output_type": "stream",
     "text": [
      "start countdown\n",
      "5\n",
      "4\n",
      "3\n",
      "2\n",
      "1\n"
     ]
    }
   ],
   "source": [
    "#genrator function\n",
    "def countdown(num):\n",
    "    print(\"start countdown\")\n",
    "    while(num>0):\n",
    "        yield num\n",
    "        num=num-1\n",
    "\n",
    "values=countdown(5)\n",
    "\n",
    "for i in values:\n",
    "    print(i)\n",
    "    \n",
    "    "
   ]
  },
  {
   "cell_type": "code",
   "execution_count": 5,
   "id": "a4e2e60a",
   "metadata": {},
   "outputs": [
    {
     "name": "stdout",
     "output_type": "stream",
     "text": [
      "[1, 4, 9, 16]\n"
     ]
    }
   ],
   "source": [
    "#genrator expression\n",
    "#not tuple comprenhention\n",
    "my_num= (x*x for x in [1,2,3,4])\n",
    "print(list(my_num))"
   ]
  },
  {
   "cell_type": "code",
   "execution_count": null,
   "id": "6c196e11",
   "metadata": {},
   "outputs": [],
   "source": [
    "#Advantages\n",
    "1.When campared to iterator very easy to use.\n",
    "2.Improve memory utilization and performance.\n",
    "3.Genrators are best suitable for reading data from large number of large files\n",
    "like cvs or xls files\n",
    "4 Generators work great for web scraping and crawling.\n"
   ]
  }
 ],
 "metadata": {
  "kernelspec": {
   "display_name": "Python 3",
   "language": "python",
   "name": "python3"
  },
  "language_info": {
   "codemirror_mode": {
    "name": "ipython",
    "version": 3
   },
   "file_extension": ".py",
   "mimetype": "text/x-python",
   "name": "python",
   "nbconvert_exporter": "python",
   "pygments_lexer": "ipython3",
   "version": "3.9.4"
  }
 },
 "nbformat": 4,
 "nbformat_minor": 5
}
