{
 "cells": [
  {
   "cell_type": "code",
   "execution_count": 31,
   "id": "45075a46",
   "metadata": {},
   "outputs": [
    {
     "name": "stdout",
     "output_type": "stream",
     "text": [
      "lst1 : ['a', 'b', ['ab', 'ba']]\n",
      "lst2 : ['a', 'b', ['ab', 'ba']]\n",
      "lst1 : ['a', 'b', ['ab', 'ba'], 'd']\n",
      "lst2: ['a', 'b', ['ab', 'ba'], 'c']\n",
      "lst1 : ['a', 'b', ['ab', 'ba', 'as'], 'd']\n",
      "lst2: ['a', 'b', ['ab', 'ba', 'as'], 'c']\n",
      "lst1 : 1831334480192\n",
      "lst2: 1831336320896\n",
      "1831292309296\n",
      "1831292309296\n",
      "1831334610432\n",
      "1831334610432\n"
     ]
    },
    {
     "data": {
      "text/plain": [
       "True"
      ]
     },
     "execution_count": 31,
     "metadata": {},
     "output_type": "execute_result"
    }
   ],
   "source": [
    "#from copy import copy,deepcopy \n",
    "\n",
    "lst1=['a','b',['ab','ba']]\n",
    "lst2=lst1.copy()\n",
    "lst2=copy(lst1)\n",
    "\n",
    "\n",
    "print(\"lst1 :\",lst1)\n",
    "print(\"lst2 :\",lst2)\n",
    "lst2.append('c')\n",
    "lst1.append('d')\n",
    "print(\"lst1 :\",lst1)\n",
    "print(\"lst2:\",lst2)\n",
    "\n",
    "lst2[2].append('as')\n",
    "print(\"lst1 :\",lst1)\n",
    "print(\"lst2:\",lst2)\n",
    "\n",
    "print(\"lst1 :\",id(lst1))\n",
    "print(\"lst2:\",id(lst2))\n",
    "#print(\"lst1[2] :\",id(lst1[2]))\n",
    "print(id(lst1[0]))\n",
    "print(id(lst2[0]))\n"
   ]
  },
  {
   "cell_type": "code",
   "execution_count": 38,
   "id": "4b69e707",
   "metadata": {},
   "outputs": [
    {
     "name": "stdout",
     "output_type": "stream",
     "text": [
      "[1, 2, 3, 4, [5, 6], 7]\n",
      "[1, 2, 3, 4, [5, 6]]\n",
      "1831336344384\n",
      "1831336329536\n"
     ]
    }
   ],
   "source": [
    "list3=[1,2,3,4,[5,6]]\n",
    "list4=list(list3)\n",
    "list3.append(7)\n",
    "print(list3)\n",
    "print(list4)\n",
    "print(id(list3))\n",
    "print(id(list4))"
   ]
  },
  {
   "cell_type": "code",
   "execution_count": 43,
   "id": "7a4150b9",
   "metadata": {},
   "outputs": [
    {
     "name": "stdout",
     "output_type": "stream",
     "text": [
      "[1, 2, 3, 4, [5, 6, 7]]\n",
      "[1, 2, 3, 4, [5, 6, 7]]\n",
      "1831335252992\n",
      "1831335540480\n"
     ]
    }
   ],
   "source": [
    "list3=[1,2,3,4,[5,6]]\n",
    "list4=list3[:]\n",
    "c\n",
    "print(list3)\n",
    "print(list4)\n",
    "\n",
    "print(id(list3))\n",
    "print(id(list4))"
   ]
  },
  {
   "cell_type": "code",
   "execution_count": 47,
   "id": "fd5d8252",
   "metadata": {},
   "outputs": [
    {
     "name": "stdout",
     "output_type": "stream",
     "text": [
      "[1, 2, 3, 4, [5, 6]]\n",
      "[1, 2, 3, 4, [5, 6]]\n",
      "[1, 2, 3, 4, [5, 6, 11]]\n",
      "[1, 2, 3, 4, [5, 6, 10]]\n",
      "1831336449792\n",
      "1831335557824\n"
     ]
    }
   ],
   "source": [
    "import copy \n",
    "list3=[1,2,3,4,[5,6]]\n",
    "list4=copy.deepcopy(list3)\n",
    "print(list3)\n",
    "print(list4)\n",
    "list4[4].append(10)\n",
    "list3[4].append(11)\n",
    "print(list3)\n",
    "print(list4)\n",
    "\n",
    "print(id(list3))\n",
    "print(id(list4))\n"
   ]
  },
  {
   "cell_type": "code",
   "execution_count": null,
   "id": "380c8df0",
   "metadata": {},
   "outputs": [],
   "source": [
    "list3=[1,2,3,4,[5,6]]\n",
    "list4=[i for i]"
   ]
  }
 ],
 "metadata": {
  "kernelspec": {
   "display_name": "Python 3",
   "language": "python",
   "name": "python3"
  },
  "language_info": {
   "codemirror_mode": {
    "name": "ipython",
    "version": 3
   },
   "file_extension": ".py",
   "mimetype": "text/x-python",
   "name": "python",
   "nbconvert_exporter": "python",
   "pygments_lexer": "ipython3",
   "version": "3.9.4"
  }
 },
 "nbformat": 4,
 "nbformat_minor": 5
}
