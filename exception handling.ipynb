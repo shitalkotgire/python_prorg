{
 "cells": [
  {
   "cell_type": "markdown",
   "id": "e416a8b4",
   "metadata": {},
   "source": [
    "# Exception Handling"
   ]
  },
  {
   "cell_type": "code",
   "execution_count": 1,
   "id": "5dab2e0c",
   "metadata": {},
   "outputs": [
    {
     "data": {
      "text/plain": [
       "'\\n\"Error” is a critical condition that cannot be handled by the code of the program.\\n “Exception” is the exceptional situation that can be handled by the code of the program.\\n  error is caused due to lack of system resources, and an exception is caused because of your code.\\n  exceptions are recoverable. \\n  \\n  \\n  The try block lets you test a block of code for errors.\\n\\nThe except block lets you handle the error.\\n\\nThe finally block lets you execute code, regardless of the result of the try- and except blocks.\\nThese exceptions can be handled using the try statement:'"
      ]
     },
     "execution_count": 1,
     "metadata": {},
     "output_type": "execute_result"
    }
   ],
   "source": [
    "\"\"\"\n",
    "\"Error” is a critical condition that cannot be handled by the code of the program.\n",
    " “Exception” is the exceptional situation that can be handled by the code of the program.\n",
    "  error is caused due to lack of system resources, and an exception is caused because of your code.\n",
    "  exceptions are recoverable. \n",
    "  \n",
    "  \n",
    "  The try block lets you test a block of code for errors.\n",
    "\n",
    "The except block lets you handle the error.\n",
    "\n",
    "The finally block lets you execute code, regardless of the result of the try- and except blocks.\n",
    "These exceptions can be handled using the try statement:\"\"\"\n"
   ]
  },
  {
   "cell_type": "code",
   "execution_count": 26,
   "id": "52407db4",
   "metadata": {},
   "outputs": [
    {
     "data": {
      "text/plain": [
       "'\\n#why need of expetional handling\\nException handling makes your code more robust/ powerful and helps prevent potential failures \\nthat would cause your program to stop in an uncontrolled manner. '"
      ]
     },
     "execution_count": 26,
     "metadata": {},
     "output_type": "execute_result"
    }
   ],
   "source": [
    "\"\"\"\n",
    "#why need of expetional handling\n",
    "Exception handling makes your code more robust/ powerful and helps prevent potential failures \n",
    "that would cause your program to stop in an uncontrolled manner. \"\"\""
   ]
  },
  {
   "cell_type": "code",
   "execution_count": null,
   "id": "d8e14a78",
   "metadata": {},
   "outputs": [],
   "source": [
    "#types of Errors \n",
    "Syntax Error \n",
    "\n",
    "Out of Memory Error \n",
    "Recursion Error \n",
    "    RecursionError: maximum recursion depth exceeded Exceptions\n",
    "Assertion Error\n",
    "Attribute Error\n",
    "Import Error\n",
    "IndexError\n",
    "KeyError"
   ]
  },
  {
   "cell_type": "markdown",
   "id": "59afb50a",
   "metadata": {},
   "source": [
    "#types of Errors\n",
    "Syntax Error\n",
    "Out of Memory Error\n",
    "Recursion Error\n",
    "    RecursionError: maximum recursion depth exceeded\n",
    "Exceptions"
   ]
  },
  {
   "cell_type": "code",
   "execution_count": null,
   "id": "a779e72d",
   "metadata": {},
   "outputs": [],
   "source": [
    "a = 2\n",
    "b = 'DataCamp'\n",
    "a + b"
   ]
  },
  {
   "cell_type": "code",
   "execution_count": 27,
   "id": "98038287",
   "metadata": {},
   "outputs": [
    {
     "ename": "ZeroDivisionError",
     "evalue": "division by zero",
     "output_type": "error",
     "traceback": [
      "\u001b[1;31m---------------------------------------------------------------------------\u001b[0m",
      "\u001b[1;31mZeroDivisionError\u001b[0m                         Traceback (most recent call last)",
      "\u001b[1;32m<ipython-input-27-4f160e12d41d>\u001b[0m in \u001b[0;36m<module>\u001b[1;34m\u001b[0m\n\u001b[0;32m      1\u001b[0m \u001b[1;31m#Zero Division Error\u001b[0m\u001b[1;33m\u001b[0m\u001b[1;33m\u001b[0m\u001b[1;33m\u001b[0m\u001b[0m\n\u001b[1;32m----> 2\u001b[1;33m \u001b[0ma\u001b[0m\u001b[1;33m=\u001b[0m\u001b[1;36m100\u001b[0m\u001b[1;33m/\u001b[0m\u001b[1;36m0\u001b[0m\u001b[1;33m\u001b[0m\u001b[1;33m\u001b[0m\u001b[0m\n\u001b[0m",
      "\u001b[1;31mZeroDivisionError\u001b[0m: division by zero"
     ]
    }
   ],
   "source": [
    "#Zero Division Error\n",
    "a=100/0"
   ]
  },
  {
   "cell_type": "markdown",
   "id": "7bcc9488",
   "metadata": {},
   "source": [
    "Try: It will run the code block in which you expect an error to occur.\n",
    "\n",
    "Except: Here, you will define the type of exception you expect in the try block (built-in or custom).\n",
    "\n",
    "Else: If there isn't any exception, then this block of code will be executed \n",
    "Finally: Irrespective of whether there is an exception or not, this block of code will always be executed."
   ]
  },
  {
   "cell_type": "code",
   "execution_count": null,
   "id": "b03ca0cd",
   "metadata": {},
   "outputs": [],
   "source": []
  },
  {
   "cell_type": "code",
   "execution_count": null,
   "id": "7a851e5d",
   "metadata": {},
   "outputs": [],
   "source": []
  },
  {
   "cell_type": "code",
   "execution_count": null,
   "id": "ffc88974",
   "metadata": {},
   "outputs": [],
   "source": [
    "https://www.datacamp.com/community/tutorials/exception-handling-python?utm_source=adwords_ppc&utm_campaignid=1455363063&utm_adgroupid=65083631748&utm_device=c&utm_keyword=&utm_matchtype=b&utm_network=g&utm_adpostion=&utm_creative=332602034364&utm_targetid=aud-438999696719:dsa-429603003980&utm_loc_interest_ms=&utm_loc_physical_ms=9062107&gclid=Cj0KCQjwna2FBhDPARIsACAEc_XV1vgwOK3rXl3rxkJ4lXCIK2tps2iWLn6SvXo8jyjSD6I_MA4OdTcaAtjnEALw_wcB"
   ]
  },
  {
   "cell_type": "code",
   "execution_count": 6,
   "id": "350825dc",
   "metadata": {
    "scrolled": true
   },
   "outputs": [
    {
     "ename": "NameError",
     "evalue": "name 'X' is not defined",
     "output_type": "error",
     "traceback": [
      "\u001b[1;31m---------------------------------------------------------------------------\u001b[0m",
      "\u001b[1;31mNameError\u001b[0m                                 Traceback (most recent call last)",
      "\u001b[1;32m<ipython-input-6-fa0134f942c4>\u001b[0m in \u001b[0;36m<module>\u001b[1;34m\u001b[0m\n\u001b[1;32m----> 1\u001b[1;33m \u001b[0mprint\u001b[0m\u001b[1;33m(\u001b[0m\u001b[0mX\u001b[0m\u001b[1;33m)\u001b[0m\u001b[1;33m\u001b[0m\u001b[1;33m\u001b[0m\u001b[0m\n\u001b[0m",
      "\u001b[1;31mNameError\u001b[0m: name 'X' is not defined"
     ]
    }
   ],
   "source": [
    "print(X)"
   ]
  },
  {
   "cell_type": "code",
   "execution_count": null,
   "id": "62e253a3",
   "metadata": {},
   "outputs": [],
   "source": [
    "#syntax\n",
    "try:\n",
    "       # Some Code.... \n",
    "\n",
    "except:\n",
    "       # optional block\n",
    "       # Handling of exception (if required)\n",
    "\n",
    "else:\n",
    "       # execute if no exception\n",
    "\n",
    "finally:\n",
    "      # Some code .....(always executed)\n",
    "    "
   ]
  },
  {
   "cell_type": "code",
   "execution_count": 9,
   "id": "fa2693c7",
   "metadata": {},
   "outputs": [
    {
     "name": "stdout",
     "output_type": "stream",
     "text": [
      " x is not define\n"
     ]
    }
   ],
   "source": [
    "try:\n",
    "    print(X)\n",
    "except NameError:\n",
    "    print(\" x is not define\")"
   ]
  },
  {
   "cell_type": "code",
   "execution_count": 10,
   "id": "f8996d55",
   "metadata": {},
   "outputs": [
    {
     "name": "stdout",
     "output_type": "stream",
     "text": [
      "Variable x is not defined\n"
     ]
    }
   ],
   "source": [
    "#You can define as many exception blocks as you want\n",
    "try:\n",
    "  print(x)\n",
    "except NameError:\n",
    "  print(\"Variable x is not defined\")\n",
    "except:\n",
    "  print(\"Something else went wrong\")"
   ]
  },
  {
   "cell_type": "code",
   "execution_count": 9,
   "id": "fa26df6a",
   "metadata": {},
   "outputs": [
    {
     "name": "stdout",
     "output_type": "stream",
     "text": [
      "Variable x is not defined\n"
     ]
    }
   ],
   "source": [
    "#we can use the else keyword to define a block of code to be executed if no errors were raised\n",
    "try:\n",
    "  print(x)\n",
    "except:\n",
    "  print(\"Variable x is not defined\")\n",
    "else:\n",
    "    print(\"define x\")"
   ]
  },
  {
   "cell_type": "code",
   "execution_count": 4,
   "id": "7b81a155",
   "metadata": {},
   "outputs": [
    {
     "name": "stdout",
     "output_type": "stream",
     "text": [
      "Something went wrong\n",
      "The 'try except' is finished\n"
     ]
    }
   ],
   "source": [
    "#The finally block, if specified, will be executed regardless if the try block raises an error or not.\n",
    "try:\n",
    "  print(x)\n",
    "except:\n",
    "  print(\"Something went wrong\")\n",
    "finally:\n",
    "  print(\"The 'try except' is finished\")"
   ]
  },
  {
   "cell_type": "code",
   "execution_count": 4,
   "id": "2ae787d5",
   "metadata": {},
   "outputs": [
    {
     "name": "stdout",
     "output_type": "stream",
     "text": [
      "Something went wrong when writing to the file\n",
      "done\n"
     ]
    }
   ],
   "source": [
    "try:\n",
    "  file1=open(\"demofile.txt\")\n",
    "  file1.write(\"Lorum Ipsum\")\n",
    "except:\n",
    "  print(\"Something went wrong when writing to the file\")\n",
    "finally:\n",
    "    file1.close()\n",
    "    print(\"done\")\n"
   ]
  },
  {
   "cell_type": "code",
   "execution_count": 5,
   "id": "e3c8addb",
   "metadata": {},
   "outputs": [
    {
     "name": "stdout",
     "output_type": "stream",
     "text": [
      "Key Error Exception Raised.\n"
     ]
    }
   ],
   "source": [
    "try:  \n",
    "    a = {1:'a', 2:'b', 3:'c'}  \n",
    "    print (a[4])  \n",
    "except LookupError:  \n",
    "    print (\"Key Error Exception Raised.\")\n",
    "else:  \n",
    "    print (\"Success, no error!\")"
   ]
  },
  {
   "cell_type": "markdown",
   "id": "d053267d",
   "metadata": {},
   "source": [
    "# Raise an exception\n"
   ]
  },
  {
   "cell_type": "code",
   "execution_count": 5,
   "id": "7fd00803",
   "metadata": {},
   "outputs": [
    {
     "name": "stdout",
     "output_type": "stream",
     "text": [
      "check\n"
     ]
    },
    {
     "ename": "Exception",
     "evalue": "Sorry, no numbers below zero",
     "output_type": "error",
     "traceback": [
      "\u001b[1;31m---------------------------------------------------------------------------\u001b[0m",
      "\u001b[1;31mException\u001b[0m                                 Traceback (most recent call last)",
      "\u001b[1;32m<ipython-input-5-cc9b0f254328>\u001b[0m in \u001b[0;36m<module>\u001b[1;34m\u001b[0m\n\u001b[0;32m      4\u001b[0m \u001b[1;32mif\u001b[0m \u001b[0mx\u001b[0m \u001b[1;33m<\u001b[0m \u001b[1;36m0\u001b[0m\u001b[1;33m:\u001b[0m\u001b[1;33m\u001b[0m\u001b[1;33m\u001b[0m\u001b[0m\n\u001b[0;32m      5\u001b[0m     \u001b[0mprint\u001b[0m\u001b[1;33m(\u001b[0m\u001b[1;34m\"check\"\u001b[0m\u001b[1;33m)\u001b[0m\u001b[1;33m\u001b[0m\u001b[1;33m\u001b[0m\u001b[0m\n\u001b[1;32m----> 6\u001b[1;33m     \u001b[1;32mraise\u001b[0m \u001b[0mException\u001b[0m\u001b[1;33m(\u001b[0m\u001b[1;34m\"Sorry, no numbers below zero\"\u001b[0m\u001b[1;33m)\u001b[0m\u001b[1;33m\u001b[0m\u001b[1;33m\u001b[0m\u001b[0m\n\u001b[0m",
      "\u001b[1;31mException\u001b[0m: Sorry, no numbers below zero"
     ]
    }
   ],
   "source": [
    "#with raise keyword you can choose to throw an exception and error if a condition occurs.\n",
    "x = -1\n",
    "\n",
    "if x < 0:\n",
    "    print(\"check\")\n",
    "    raise Exception(\"Sorry, no numbers below zero\")"
   ]
  },
  {
   "cell_type": "code",
   "execution_count": 25,
   "id": "05a5e612",
   "metadata": {},
   "outputs": [
    {
     "ename": "TypeError",
     "evalue": "Only integers are allowed",
     "output_type": "error",
     "traceback": [
      "\u001b[1;31m---------------------------------------------------------------------------\u001b[0m",
      "\u001b[1;31mTypeError\u001b[0m                                 Traceback (most recent call last)",
      "\u001b[1;32m<ipython-input-25-bc91768a6271>\u001b[0m in \u001b[0;36m<module>\u001b[1;34m\u001b[0m\n\u001b[0;32m      2\u001b[0m \u001b[1;33m\u001b[0m\u001b[0m\n\u001b[0;32m      3\u001b[0m \u001b[1;32mif\u001b[0m \u001b[1;32mnot\u001b[0m \u001b[0mtype\u001b[0m\u001b[1;33m(\u001b[0m\u001b[0mx\u001b[0m\u001b[1;33m)\u001b[0m \u001b[1;32mis\u001b[0m \u001b[0mint\u001b[0m\u001b[1;33m:\u001b[0m\u001b[1;33m\u001b[0m\u001b[1;33m\u001b[0m\u001b[0m\n\u001b[1;32m----> 4\u001b[1;33m   \u001b[1;32mraise\u001b[0m \u001b[0mTypeError\u001b[0m\u001b[1;33m(\u001b[0m\u001b[1;34m\"Only integers are allowed\"\u001b[0m\u001b[1;33m)\u001b[0m\u001b[1;33m\u001b[0m\u001b[1;33m\u001b[0m\u001b[0m\n\u001b[0m",
      "\u001b[1;31mTypeError\u001b[0m: Only integers are allowed"
     ]
    }
   ],
   "source": [
    "x = \"hello\"\n",
    "\n",
    "if not type(x) is int:\n",
    "  raise TypeError(\"Only integers are allowed\")\n"
   ]
  },
  {
   "cell_type": "code",
   "execution_count": 17,
   "id": "44c79c43",
   "metadata": {},
   "outputs": [
    {
     "name": "stdout",
     "output_type": "stream",
     "text": [
      "Exiting early\n",
      "Yielding 0\n",
      "0\n",
      "<method-wrapper '__next__' of generator object at 0x000002EA4A0C0040>\n"
     ]
    }
   ],
   "source": [
    "def my_generator():\n",
    "    try:\n",
    "        for i in range(5):\n",
    "            print ('Yielding', i)\n",
    "            yield i\n",
    "    except GeneratorExit:\n",
    "        print ('Exiting early')\n",
    "  \n",
    "g = my_generator()\n",
    "#print(type(g))\n",
    "#for in\n",
    "print(g.__next__())\n",
    "print(g.__next__)\n",
    "#print (next(g))\n",
    "#g.close()"
   ]
  },
  {
   "cell_type": "code",
   "execution_count": 8,
   "id": "a665e3c3",
   "metadata": {},
   "outputs": [
    {
     "name": "stdout",
     "output_type": "stream",
     "text": [
      "Press Return or Ctrl-C:\n",
      "Enter value:2\n",
      "valid input\n",
      "No exception\n"
     ]
    }
   ],
   "source": [
    "#ignored = input()\n",
    "print ('Press Return or Ctrl-C:',)\n",
    "ignored = input(\"Enter value:\")\n",
    "try:\n",
    "    if ignored==\"2\":\n",
    "#   isinstance(ignored,int):\n",
    "        print(\"valid input\")\n",
    "except Exception:\n",
    "    print ('Caught exception:', err)\n",
    "except KeyboardInterrupt:\n",
    "    print ('Caught KeyboardInterrupt')\n",
    "else:\n",
    "    print ('No exception')"
   ]
  },
  {
   "cell_type": "code",
   "execution_count": 20,
   "id": "c690cb05",
   "metadata": {},
   "outputs": [
    {
     "ename": "TypeError",
     "evalue": "Only integers are allowed",
     "output_type": "error",
     "traceback": [
      "\u001b[1;31m---------------------------------------------------------------------------\u001b[0m",
      "\u001b[1;31mTypeError\u001b[0m                                 Traceback (most recent call last)",
      "\u001b[1;32m<ipython-input-20-ce8aca7ae648>\u001b[0m in \u001b[0;36m<module>\u001b[1;34m\u001b[0m\n\u001b[0;32m      2\u001b[0m \u001b[1;33m\u001b[0m\u001b[0m\n\u001b[0;32m      3\u001b[0m \u001b[1;32mif\u001b[0m \u001b[1;32mnot\u001b[0m \u001b[0mtype\u001b[0m\u001b[1;33m(\u001b[0m\u001b[0mx\u001b[0m\u001b[1;33m)\u001b[0m \u001b[1;32mis\u001b[0m \u001b[0mint\u001b[0m\u001b[1;33m:\u001b[0m\u001b[1;33m\u001b[0m\u001b[1;33m\u001b[0m\u001b[0m\n\u001b[1;32m----> 4\u001b[1;33m       \u001b[1;32mraise\u001b[0m \u001b[0mTypeError\u001b[0m\u001b[1;33m(\u001b[0m\u001b[1;34m\"Only integers are allowed\"\u001b[0m\u001b[1;33m)\u001b[0m\u001b[1;33m\u001b[0m\u001b[1;33m\u001b[0m\u001b[0m\n\u001b[0m",
      "\u001b[1;31mTypeError\u001b[0m: Only integers are allowed"
     ]
    }
   ],
   "source": [
    "x = \"hello\"\n",
    "\n",
    "if not type(x) is int:\n",
    "      raise TypeError(\"Only integers are allowed\")"
   ]
  },
  {
   "cell_type": "code",
   "execution_count": 10,
   "id": "de4d0668",
   "metadata": {},
   "outputs": [
    {
     "name": "stdout",
     "output_type": "stream",
     "text": [
      "('E', 'r', 'r', 'o', 'r')\n"
     ]
    }
   ],
   "source": [
    "class Networkerror(RuntimeError):\n",
    "    def __init__(self, arg):\n",
    "        self.args = arg\n",
    "  \n",
    "try:\n",
    "    raise Networkerror(\"Error\")\n",
    "  \n",
    "except Networkerror as e:\n",
    "    print (e.args)"
   ]
  },
  {
   "cell_type": "code",
   "execution_count": null,
   "id": "223d76b3",
   "metadata": {},
   "outputs": [],
   "source": [
    ", programs that make use try-except blocks to handle exceptions will run slightly slower,\n",
    "and the size of your code will increase."
   ]
  },
  {
   "cell_type": "code",
   "execution_count": null,
   "id": "30aae930",
   "metadata": {},
   "outputs": [],
   "source": [
    "try:\n",
    "    inp = input()\n",
    "    print ('Press Ctrl+C or Interrupt the Kernel:')\n",
    "except KeyboardInterrupt:\n",
    "    print ('Caught KeyboardInterrupt')\n",
    "else:\n",
    "    print ('No exception occurred')"
   ]
  },
  {
   "cell_type": "code",
   "execution_count": null,
   "id": "407f5505",
   "metadata": {},
   "outputs": [],
   "source": []
  }
 ],
 "metadata": {
  "kernelspec": {
   "display_name": "Python 3",
   "language": "python",
   "name": "python3"
  },
  "language_info": {
   "codemirror_mode": {
    "name": "ipython",
    "version": 3
   },
   "file_extension": ".py",
   "mimetype": "text/x-python",
   "name": "python",
   "nbconvert_exporter": "python",
   "pygments_lexer": "ipython3",
   "version": "3.9.4"
  }
 },
 "nbformat": 4,
 "nbformat_minor": 5
}
