{
 "cells": [
  {
   "cell_type": "code",
   "execution_count": 2,
   "id": "8d005e80",
   "metadata": {},
   "outputs": [
    {
     "name": "stdout",
     "output_type": "stream",
     "text": [
      "1\n",
      "4\n",
      "9\n",
      "16\n",
      "25\n"
     ]
    }
   ],
   "source": [
    "square ={1:1,2:4,3:9,4:16,5:25}\n",
    "#for i,j in square.items()\n",
    "for i in square:\n",
    "    print(square[i])\n",
    "    "
   ]
  },
  {
   "cell_type": "code",
   "execution_count": null,
   "id": "3b89595c",
   "metadata": {},
   "outputs": [],
   "source": [
    "def factorial(no)\n",
    "\n",
    "\n",
    "n=int(input(Enter no for factorial:))\n",
    "factor"
   ]
  }
 ],
 "metadata": {
  "kernelspec": {
   "display_name": "Python 3",
   "language": "python",
   "name": "python3"
  },
  "language_info": {
   "codemirror_mode": {
    "name": "ipython",
    "version": 3
   },
   "file_extension": ".py",
   "mimetype": "text/x-python",
   "name": "python",
   "nbconvert_exporter": "python",
   "pygments_lexer": "ipython3",
   "version": "3.9.4"
  }
 },
 "nbformat": 4,
 "nbformat_minor": 5
}
