{
 "cells": [
  {
   "cell_type": "code",
   "execution_count": 8,
   "id": "9971dc47",
   "metadata": {},
   "outputs": [
    {
     "name": "stdout",
     "output_type": "stream",
     "text": [
      "Enter first string:pooja\n",
      "Enter second string:monoj\n",
      "{'j', 'a', 'p', 'o'}\n",
      "{'j', 'n', 'm', 'o'}\n",
      "{'a', 'n', 'o', 'm', 'j', 'p'}\n"
     ]
    }
   ],
   "source": [
    "#string union n intersection \n",
    "str1=input(\"Enter first string:\")\n",
    "str2=input(\"Enter second string:\")\n",
    "s1=set(str1)\n",
    "s2=set(str2)\n",
    "print(s1)\n",
    "print(s2)\n",
    "#lis=s1 & s2\n",
    "lis=s1|s2\n",
    "#lis=s1.intersection(s2)\n",
    "print(lis)"
   ]
  },
  {
   "cell_type": "code",
   "execution_count": 9,
   "id": "a64673bb",
   "metadata": {},
   "outputs": [
    {
     "name": "stdout",
     "output_type": "stream",
     "text": [
      "{'Naina': 35, 'kimi': 36, 'sheela': 37}\n"
     ]
    }
   ],
   "source": [
    "#converting list in to dict\n",
    "list1=[\"Naina\",\"kimi\",\"sheela\"]\n",
    "list2=[35,36,37]\n",
    "result={}\n",
    "#def list_to_dict():\n",
    "keys=list1\n",
    "values=list2\n",
    "result=dict(zip(keys,values))\n",
    "print (result)"
   ]
  },
  {
   "cell_type": "code",
   "execution_count": 10,
   "id": "ff51841d",
   "metadata": {},
   "outputs": [
    {
     "name": "stdout",
     "output_type": "stream",
     "text": [
      "(1, 'one')\n",
      "(2, 'two')\n",
      "(3, 'three')\n"
     ]
    }
   ],
   "source": [
    "#dect to tuple\n",
    "x={1:'one',2:'two',3:'three'}\n",
    "for i in x.items():\n",
    "    print(i)"
   ]
  },
  {
   "cell_type": "code",
   "execution_count": 16,
   "id": "8a639b71",
   "metadata": {},
   "outputs": [
    {
     "name": "stdout",
     "output_type": "stream",
     "text": [
      "(1, 2, 3)\n",
      "('one', 'two', 'three')\n"
     ]
    }
   ],
   "source": [
    "#dect to tuple\n",
    "list1=[]\n",
    "list2=[]\n",
    "x={1:'one',2:'two',3:'three'}\n",
    "for i,j in x.items():\n",
    "    list1.append(i)\n",
    "    list2.append(j)\n",
    "print(tuple(list1))\n",
    "print(tuple(list2))"
   ]
  },
  {
   "cell_type": "code",
   "execution_count": 19,
   "id": "2153d6d7",
   "metadata": {},
   "outputs": [
    {
     "name": "stdout",
     "output_type": "stream",
     "text": [
      "(1, 'one', 2, 'two', 3, 'three')\n"
     ]
    }
   ],
   "source": [
    "list1=[]\n",
    "list2=[]\n",
    "x={1:'one',2:'two',3:'three'}\n",
    "for i,j in x.items():\n",
    "    list1.append(i)\n",
    "    list1.append(j)\n",
    "print(tuple(list1))\n"
   ]
  },
  {
   "cell_type": "code",
   "execution_count": null,
   "id": "be0eec20",
   "metadata": {},
   "outputs": [],
   "source": []
  }
 ],
 "metadata": {
  "kernelspec": {
   "display_name": "Python 3",
   "language": "python",
   "name": "python3"
  },
  "language_info": {
   "codemirror_mode": {
    "name": "ipython",
    "version": 3
   },
   "file_extension": ".py",
   "mimetype": "text/x-python",
   "name": "python",
   "nbconvert_exporter": "python",
   "pygments_lexer": "ipython3",
   "version": "3.9.4"
  }
 },
 "nbformat": 4,
 "nbformat_minor": 5
}
