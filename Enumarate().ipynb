{
 "cells": [
  {
   "cell_type": "code",
   "execution_count": 1,
   "id": "d966d3d0",
   "metadata": {},
   "outputs": [
    {
     "data": {
      "text/plain": [
       "'Enumerate() method adds a counter to an iterable and returns it in a form of enumerate object. \\nThis enumerate object can then be used directly in for loops or be converted into a list of tuples using list() method.\\nenumerate(iterable, start=0)\\n\\nParameters:\\nIterable: any object that supports iteration\\nStart: the index value from which the counter is \\n              to be started, by default it is \\n'"
      ]
     },
     "execution_count": 1,
     "metadata": {},
     "output_type": "execute_result"
    }
   ],
   "source": [
    "\"\"\"Enumerate() method adds a counter to an iterable and returns it in a form of enumerate object. \n",
    "This enumerate object can then be used directly in for loops or be converted into a list of tuples using list() method.\n",
    "enumerate(iterable, start=0)\n",
    "\n",
    "Parameters:\n",
    "Iterable: any object that supports iteration\n",
    "Start: the index value from which the counter is \n",
    "              to be started, by default it is \n",
    "\"\"\""
   ]
  },
  {
   "cell_type": "code",
   "execution_count": 24,
   "id": "4eb417d0",
   "metadata": {},
   "outputs": [
    {
     "ename": "SyntaxError",
     "evalue": "invalid syntax (<ipython-input-24-a70fb3cb8ec3>, line 15)",
     "output_type": "error",
     "traceback": [
      "\u001b[1;36m  File \u001b[1;32m\"<ipython-input-24-a70fb3cb8ec3>\"\u001b[1;36m, line \u001b[1;32m15\u001b[0m\n\u001b[1;33m    print(list(obj1).[0])\u001b[0m\n\u001b[1;37m                     ^\u001b[0m\n\u001b[1;31mSyntaxError\u001b[0m\u001b[1;31m:\u001b[0m invalid syntax\n"
     ]
    }
   ],
   "source": [
    "l1 = [\"eat\",\"sleep\",\"repeat\"] #list\n",
    "s1 = \"geek\"                   #string\n",
    " \n",
    "# creating enumerate objects\n",
    "obj1 = enumerate(l1)\n",
    "obj2 = enumerate(s1)\n",
    "print (\"Return type:\",type(obj1))\n",
    "print (\"Return type:\",type(obj2))\n",
    "print(list(obj1))\n",
    "print(list(enumerate(l1)))\n",
    " \n",
    "# changing start index to 2 from 0\n",
    "print (list(enumerate(s1,2)))\n",
    "print (tuple(enumerate(s1,2)))\n",
    "#print(list(obj1)[0])"
   ]
  },
  {
   "cell_type": "code",
   "execution_count": 26,
   "id": "ad5032ab",
   "metadata": {},
   "outputs": [
    {
     "name": "stdout",
     "output_type": "stream",
     "text": [
      "(0, 'eat')\n",
      "(1, 'sleep')\n",
      "(2, 'repeat')\n",
      "100 eat\n",
      "101 sleep\n",
      "102 repeat\n",
      "(100, 'eat')\n",
      "(101, 'sleep')\n",
      "(102, 'repeat')\n"
     ]
    }
   ],
   "source": [
    "# Python program to illustrate\n",
    "# enumerate function in loops\n",
    "l1 = [\"eat\",\"sleep\",\"repeat\"]\n",
    " \n",
    "# printing the tuples in object directly\n",
    "for ele in enumerate(l1):\n",
    "    print (ele)\n",
    "print\n",
    "# changing index and printing separately\n",
    "for count,ele in enumerate(l1,100):\n",
    "    print (count,ele)\n",
    "for ele in enumerate(l1,100):\n",
    "    print (ele)  "
   ]
  },
  {
   "cell_type": "code",
   "execution_count": null,
   "id": "1dcb1340",
   "metadata": {},
   "outputs": [],
   "source": []
  }
 ],
 "metadata": {
  "kernelspec": {
   "display_name": "Python 3",
   "language": "python",
   "name": "python3"
  },
  "language_info": {
   "codemirror_mode": {
    "name": "ipython",
    "version": 3
   },
   "file_extension": ".py",
   "mimetype": "text/x-python",
   "name": "python",
   "nbconvert_exporter": "python",
   "pygments_lexer": "ipython3",
   "version": "3.9.4"
  }
 },
 "nbformat": 4,
 "nbformat_minor": 5
}
