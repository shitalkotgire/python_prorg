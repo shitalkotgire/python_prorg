{
 "cells": [
  {
   "cell_type": "code",
   "execution_count": 5,
   "id": "b9ffdfd2",
   "metadata": {},
   "outputs": [
    {
     "name": "stdout",
     "output_type": "stream",
     "text": [
      "swappy is actually aspiderman\n",
      "danny is actually abatman\n",
      "dary is actually airoman\n",
      "ammy is actually ashaktiman\n"
     ]
    }
   ],
   "source": [
    "names=[\"swappy\",\"danny\",\"dary\",'ammy']\n",
    "heroes=['spiderman','batman','iroman','shaktiman']\n",
    "for index,name in enumerate(names):\n",
    "    #print(index,name)\n",
    "    hero=heroes[index]\n",
    "    print(f\"{name} is actually a{hero}\")"
   ]
  },
  {
   "cell_type": "code",
   "execution_count": 7,
   "id": "abcd69e2",
   "metadata": {},
   "outputs": [
    {
     "name": "stdout",
     "output_type": "stream",
     "text": [
      "swappy spiderman\n",
      "danny batman\n",
      "dary iroman\n",
      "ammy shaktiman\n"
     ]
    }
   ],
   "source": [
    "names=[\"swappy\",\"danny\",\"dary\",'ammy']\n",
    "heroes=['spiderman','batman','iroman','shaktiman']\n",
    "for name ,hero in zip(names,heroes):\n",
    "    print(name,hero)"
   ]
  },
  {
   "cell_type": "code",
   "execution_count": 11,
   "id": "17f23e0a",
   "metadata": {},
   "outputs": [
    {
     "name": "stdout",
     "output_type": "stream",
     "text": [
      "('swappy', 'spiderman')\n",
      "('danny', 'batman')\n",
      "('dary', 'iroman')\n",
      "('ammy', 'shaktiman')\n"
     ]
    }
   ],
   "source": [
    "names=[\"swappy\",\"danny\",\"dary\",'ammy']\n",
    "heroes=['spiderman','batman','iroman','shaktiman']\n",
    "kry=[]\n",
    "for values in zip(names,heroes):\n",
    "    print(values)\n",
    "#zip function store result in tuple"
   ]
  },
  {
   "cell_type": "code",
   "execution_count": 16,
   "id": "014fad1f",
   "metadata": {},
   "outputs": [
    {
     "name": "stdout",
     "output_type": "stream",
     "text": [
      "<zip object at 0x000002097A236300>\n",
      "[(1, 'one'), (2, 'two'), (3, 'three')]\n"
     ]
    }
   ],
   "source": [
    "num=[1,2,3]\n",
    "str=['one','two','three']\n",
    "result=zip(num,str)\n",
    "#print(result) #cant disply it create zip object\n",
    "print(list(result))"
   ]
  },
  {
   "cell_type": "code",
   "execution_count": 24,
   "id": "7cfc8892",
   "metadata": {},
   "outputs": [
    {
     "name": "stdout",
     "output_type": "stream",
     "text": [
      "{1: 'one', 2: 'two', 3: 'three'}\n"
     ]
    }
   ],
   "source": [
    "num=[1,2,3]\n",
    "str=['one','two','three']\n",
    "result=zip(num,str)\n",
    "#for i in result:\n",
    " #   print(i)\n",
    "#print(list(result))\n",
    "print(dict(result))"
   ]
  },
  {
   "cell_type": "code",
   "execution_count": 27,
   "id": "a441b8db",
   "metadata": {},
   "outputs": [
    {
     "name": "stdout",
     "output_type": "stream",
     "text": [
      "('swappy', 'spiderman')\n",
      "('danny', 'batman')\n",
      "('dary', 'iroman')\n",
      "('ammy', 'shaktiman')\n",
      "['swappy', 'spiderman', 'danny', 'batman', 'dary', 'iroman', 'ammy', 'shaktiman']\n"
     ]
    }
   ],
   "source": [
    "names=[\"swappy\",\"danny\",\"dary\",'ammy']\n",
    "heroes=['spiderman','batman','iroman','shaktiman']\n",
    "key=[]\n",
    "for values in zip (names,heroes):\n",
    "    print(values)\n",
    "    key+=values\n",
    "    #key=key+values #not allow\n",
    "print(key)"
   ]
  },
  {
   "cell_type": "code",
   "execution_count": null,
   "id": "020fc56a",
   "metadata": {},
   "outputs": [],
   "source": []
  }
 ],
 "metadata": {
  "kernelspec": {
   "display_name": "Python 3",
   "language": "python",
   "name": "python3"
  },
  "language_info": {
   "codemirror_mode": {
    "name": "ipython",
    "version": 3
   },
   "file_extension": ".py",
   "mimetype": "text/x-python",
   "name": "python",
   "nbconvert_exporter": "python",
   "pygments_lexer": "ipython3",
   "version": "3.9.4"
  }
 },
 "nbformat": 4,
 "nbformat_minor": 5
}
