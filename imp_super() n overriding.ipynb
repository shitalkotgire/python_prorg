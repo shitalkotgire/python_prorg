{
 "cells": [
  {
   "cell_type": "code",
   "execution_count": 20,
   "id": "ee9d298f",
   "metadata": {},
   "outputs": [
    {
     "name": "stdout",
     "output_type": "stream",
     "text": [
      "I am a class variable in class A\n",
      "I am inside class B's constructor.\n",
      "Special. I am inside class B's constructor. Instance var in class B.\n",
      "Instance var in class B.\n"
     ]
    }
   ],
   "source": [
    "class A:\n",
    "    classvar1 = \"I am a class variable in class A\"\n",
    "    def __init__(self):\n",
    "        self.var1 = \"I am inside class A's constructor.\"\n",
    "        self.classvar1 = \"Instance var in class A.\"\n",
    "        self.special = \"Special.\"\n",
    "\n",
    "class B(A):\n",
    "    classvar1 = \"I am in class B\"\n",
    "\n",
    "    def __init__(self):\n",
    "        super().__init__()\n",
    "        self.var1 = \"I am inside class B's constructor.\"\n",
    "        self.classvar1 = \"Instance var in class B.\"\n",
    "        #super().__init__()\n",
    "        print(super().classvar1) #call class variable\n",
    "\n",
    "\n",
    "a = A()\n",
    "b = B()\n",
    "print(b.var1)  #init method override so ignore init from class A\n",
    "print(b.special, b.var1, b.classvar1)\n",
    "print(b.classvar1) #first instance variable call then class variable\n",
    "\n"
   ]
  },
  {
   "cell_type": "code",
   "execution_count": null,
   "id": "b3154e8a",
   "metadata": {},
   "outputs": [],
   "source": []
  }
 ],
 "metadata": {
  "kernelspec": {
   "display_name": "Python 3",
   "language": "python",
   "name": "python3"
  },
  "language_info": {
   "codemirror_mode": {
    "name": "ipython",
    "version": 3
   },
   "file_extension": ".py",
   "mimetype": "text/x-python",
   "name": "python",
   "nbconvert_exporter": "python",
   "pygments_lexer": "ipython3",
   "version": "3.9.4"
  }
 },
 "nbformat": 4,
 "nbformat_minor": 5
}
