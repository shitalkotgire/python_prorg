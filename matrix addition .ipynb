{
 "cells": [
  {
   "cell_type": "code",
   "execution_count": null,
   "id": "8096ca74",
   "metadata": {},
   "outputs": [],
   "source": [
    "\n"
   ]
  },
  {
   "cell_type": "code",
   "execution_count": null,
   "id": "1ecabc4b",
   "metadata": {},
   "outputs": [],
   "source": []
  },
  {
   "cell_type": "code",
   "execution_count": null,
   "id": "d2dae5a5",
   "metadata": {},
   "outputs": [],
   "source": []
  },
  {
   "cell_type": "code",
   "execution_count": 24,
   "id": "6b8e4c01",
   "metadata": {},
   "outputs": [
    {
     "name": "stdout",
     "output_type": "stream",
     "text": [
      "Enter the first no :60\n",
      "Enter the second no :10\n",
      "Enter the third no :20\n",
      "60\n"
     ]
    }
   ],
   "source": [
    "#Write a Python function to find the Max of three numbers. \n",
    "def max(x,y,z):\n",
    "    if x>y and  x>z:\n",
    "        return x\n",
    "    elif y>z:\n",
    "        return y\n",
    "    else:\n",
    "        return z\n",
    "\n",
    "a=int(input(\"Enter the first no :\"))\n",
    "b=int(input(\"Enter the second no :\"))\n",
    "c=int(input(\"Enter the third no :\"))\n",
    "print( max(a,b,c))\n"
   ]
  },
  {
   "cell_type": "code",
   "execution_count": 32,
   "id": "66c30c5c",
   "metadata": {},
   "outputs": [
    {
     "name": "stdout",
     "output_type": "stream",
     "text": [
      "20\n"
     ]
    }
   ],
   "source": [
    "# Write a Python function to sum all the numbers in a list.\n",
    "#list =[8, 2, 3, 0, 7]\n",
    "def sum(list):\n",
    "    tsum=0\n",
    "    for i in list:\n",
    "        tsum=tsum+i\n",
    "    return tsum\n",
    "#    print (tsum)\n",
    "    \n",
    "list =[8, 2, 3, 10, 7]\n",
    "result=sum(list)\n",
    "print(result)\n",
    "\n"
   ]
  },
  {
   "cell_type": "code",
   "execution_count": 33,
   "id": "3b33b1b7",
   "metadata": {},
   "outputs": [
    {
     "data": {
      "text/plain": [
       "30"
      ]
     },
     "execution_count": 33,
     "metadata": {},
     "output_type": "execute_result"
    }
   ],
   "source": [
    "def add(a,b):\n",
    "    c=a+b\n",
    "    return c\n",
    "add(10,20)"
   ]
  },
  {
   "cell_type": "code",
   "execution_count": null,
   "id": "23bf9cec",
   "metadata": {},
   "outputs": [],
   "source": []
  },
  {
   "cell_type": "code",
   "execution_count": null,
   "id": "0923d6ea",
   "metadata": {},
   "outputs": [],
   "source": [
    "#addition of 2 matrix\n",
    "\n",
    "l1=[]\n",
    "l2=[]\n",
    "\n",
    "#n=\n",
    "print(f\"enter  1st {}*{} matrix:\",n,n)\n",
    "for i in range(4):\n",
    "    l1.append([])\n",
    "    for j in range(4):\n",
    "        l1[i].append(int(input()))\n",
    "print(\"enter 2 nd 3*3 matrix:\")\n",
    "for i in range(4):\n",
    "    l2.append([])\n",
    "    for j in range(4):\n",
    "        l2[i].append(int(input()))\n",
    "        \n",
    "\n",
    "print(l1)\n",
    "print(l2)\n",
    "\n",
    "def addmatrix(x1,x2):\n",
    "    l3=[[0,0,0,0],\n",
    "        [0,0,0,0],\n",
    "        [0,0,0,0],\n",
    "        [0,0,0,0]]\n",
    "    for i in range (len(x2)): \n",
    "        for j in range (len(x2[0])):\n",
    "            l3[i][j]=x1[i][j]+x2[i][j]  \n",
    "    print(l3) \n",
    "\n",
    "addmatrix(l1,l2)\n",
    "\n"
   ]
  },
  {
   "cell_type": "code",
   "execution_count": null,
   "id": "48e19a5a",
   "metadata": {},
   "outputs": [],
   "source": [
    "#matrix input from user\n",
    "l1=[]\n",
    "l2=[]\n",
    "l3=[]\n",
    "\n",
    "n=int(input(\"Enter value of dimention\"))\n",
    "print(\"enter  1st 3*3 matrix:\")\n",
    "for i in range(n):\n",
    "    l1.append([])\n",
    "    for j in range(n):\n",
    "        l1[i].append(int(input()))\n",
    "        \n",
    "print(\"enter 2 nd 3*3 matrix:\")\n",
    "for i in range(n):\n",
    "    l2.append([])\n",
    "    for j in range(n):\n",
    "        l2[i].append(int(input()))\n",
    "    \n",
    "for i in range(n):\n",
    "    l3.append([])\n",
    "    for j in range(n):\n",
    "        l3[i]=0\n",
    "\n",
    "print(l1)\n",
    "print(l2)\n"
   ]
  },
  {
   "cell_type": "markdown",
   "id": "929ef3e9",
   "metadata": {},
   "source": [
    "l3=[]\n",
    "for i in range(n):\n",
    "    l3.append([])\n",
    "    for j in range(n):\n",
    "        l3[i]=0\n",
    "print(l3)"
   ]
  },
  {
   "cell_type": "code",
   "execution_count": 92,
   "id": "03fd9201",
   "metadata": {},
   "outputs": [
    {
     "ename": "IndexError",
     "evalue": "list assignment index out of range",
     "output_type": "error",
     "traceback": [
      "\u001b[1;31m---------------------------------------------------------------------------\u001b[0m",
      "\u001b[1;31mIndexError\u001b[0m                                Traceback (most recent call last)",
      "\u001b[1;32m<ipython-input-92-4fe632ea202d>\u001b[0m in \u001b[0;36m<module>\u001b[1;34m\u001b[0m\n\u001b[0;32m      4\u001b[0m     \u001b[0ml3\u001b[0m\u001b[1;33m[\u001b[0m\u001b[0mi\u001b[0m\u001b[1;33m]\u001b[0m\u001b[1;33m=\u001b[0m\u001b[1;36m0\u001b[0m\u001b[1;33m\u001b[0m\u001b[1;33m\u001b[0m\u001b[0m\n\u001b[0;32m      5\u001b[0m     \u001b[1;32mfor\u001b[0m \u001b[0mj\u001b[0m \u001b[1;32min\u001b[0m \u001b[0mrange\u001b[0m\u001b[1;33m(\u001b[0m\u001b[1;36m3\u001b[0m\u001b[1;33m)\u001b[0m\u001b[1;33m:\u001b[0m\u001b[1;33m\u001b[0m\u001b[1;33m\u001b[0m\u001b[0m\n\u001b[1;32m----> 6\u001b[1;33m         \u001b[0ml3\u001b[0m\u001b[1;33m[\u001b[0m\u001b[0mj\u001b[0m\u001b[1;33m]\u001b[0m\u001b[1;33m=\u001b[0m\u001b[1;36m0\u001b[0m\u001b[1;33m\u001b[0m\u001b[1;33m\u001b[0m\u001b[0m\n\u001b[0m\u001b[0;32m      7\u001b[0m \u001b[0mprint\u001b[0m\u001b[1;33m(\u001b[0m\u001b[0ml3\u001b[0m\u001b[1;33m)\u001b[0m\u001b[1;33m\u001b[0m\u001b[1;33m\u001b[0m\u001b[0m\n",
      "\u001b[1;31mIndexError\u001b[0m: list assignment index out of range"
     ]
    }
   ],
   "source": [
    "# trying to take empty matrix\n",
    "l3=[]\n",
    "for i in range(3):\n",
    "    l3.append([])\n",
    "    #l3[i]=0\n",
    "    for j in range(3):    \n",
    "        l3[j]=0\n",
    "print(l3)"
   ]
  },
  {
   "cell_type": "code",
   "execution_count": 95,
   "id": "d2c63e5a",
   "metadata": {},
   "outputs": [
    {
     "name": "stdout",
     "output_type": "stream",
     "text": [
      "enter 1st 3*3 matrix:\n"
     ]
    }
   ],
   "source": [
    "n=3\n",
    "print(f\"enter 1st {n}*{n} matrix:\")"
   ]
  },
  {
   "cell_type": "code",
   "execution_count": null,
   "id": "f85c54d5",
   "metadata": {},
   "outputs": [],
   "source": []
  }
 ],
 "metadata": {
  "kernelspec": {
   "display_name": "Python 3",
   "language": "python",
   "name": "python3"
  },
  "language_info": {
   "codemirror_mode": {
    "name": "ipython",
    "version": 3
   },
   "file_extension": ".py",
   "mimetype": "text/x-python",
   "name": "python",
   "nbconvert_exporter": "python",
   "pygments_lexer": "ipython3",
   "version": "3.9.4"
  }
 },
 "nbformat": 4,
 "nbformat_minor": 5
}
