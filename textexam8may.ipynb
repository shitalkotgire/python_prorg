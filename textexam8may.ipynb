{
 "cells": [
  {
   "cell_type": "code",
   "execution_count": 19,
   "id": "d19be20f",
   "metadata": {},
   "outputs": [
    {
     "name": "stdout",
     "output_type": "stream",
     "text": [
      "a= 10\n",
      "b= 20\n",
      "20 is grater\n"
     ]
    }
   ],
   "source": [
    "#comparing 2 no's\n",
    "print (\"a=\" ,end=\" \")\n",
    "a=int(input ())\n",
    "print (\"b=\",end=\" \")\n",
    "b=int(input())\n",
    "if a>=b:\n",
    "    print (\"%d is grater\"%a)\n",
    "else:\n",
    "    print (\"%d is grater\"%b)"
   ]
  },
  {
   "cell_type": "code",
   "execution_count": 22,
   "id": "d4434860",
   "metadata": {},
   "outputs": [
    {
     "name": "stdout",
     "output_type": "stream",
     "text": [
      "[1, 4, 9, 16, 25]\n"
     ]
    }
   ],
   "source": [
    "#finding square of list\n",
    "list1=[1,2,3,4,5]\n",
    "squ=[]\n",
    "for i in list1:\n",
    "    squ.append(i*i)\n",
    "print (squ)"
   ]
  },
  {
   "cell_type": "markdown",
   "id": "cbcb67ef",
   "metadata": {},
   "source": [
    "num1=int(input(\"enter number1:\"))"
   ]
  },
  {
   "cell_type": "raw",
   "id": "1be50645",
   "metadata": {},
   "source": [
    "num1=int(input(\"enter number1:\"))\n"
   ]
  },
  {
   "cell_type": "code",
   "execution_count": 23,
   "id": "889a08f0",
   "metadata": {},
   "outputs": [
    {
     "data": {
      "text/plain": [
       "4"
      ]
     },
     "execution_count": 23,
     "metadata": {},
     "output_type": "execute_result"
    }
   ],
   "source": [
    "4\n"
   ]
  },
  {
   "cell_type": "code",
   "execution_count": 28,
   "id": "29dcd7cb",
   "metadata": {},
   "outputs": [
    {
     "ename": "SyntaxError",
     "evalue": "invalid syntax (<ipython-input-28-6619f680c08b>, line 1)",
     "output_type": "error",
     "traceback": [
      "\u001b[1;36m  File \u001b[1;32m\"<ipython-input-28-6619f680c08b>\"\u001b[1;36m, line \u001b[1;32m1\u001b[0m\n\u001b[1;33m    dict1= {i: i*i for i inrang(1,11)}\u001b[0m\n\u001b[1;37m                         ^\u001b[0m\n\u001b[1;31mSyntaxError\u001b[0m\u001b[1;31m:\u001b[0m invalid syntax\n"
     ]
    }
   ],
   "source": [
    "dict1= {i: i*i for i in rang(1,11)}\n",
    "print (dict1)"
   ]
  },
  {
   "cell_type": "code",
   "execution_count": 42,
   "id": "7cc9a4be",
   "metadata": {},
   "outputs": [
    {
     "name": "stdout",
     "output_type": "stream",
     "text": [
      "a= 1 b= 2 c= 3 d= 4\n"
     ]
    }
   ],
   "source": [
    "#packing and unpacing on tuple\n",
    "t1=[1,2,3,4]\n",
    "a,b,c,d=t1\n",
    "print(\"a=\", a,\"b=\",b,\"c=\",c,\"d=\",d)"
   ]
  },
  {
   "cell_type": "code",
   "execution_count": 44,
   "id": "d95d0885",
   "metadata": {},
   "outputs": [
    {
     "name": "stdout",
     "output_type": "stream",
     "text": [
      "a= 1 b= 2 c= 3 d= 4\n",
      "<class 'tuple'>\n"
     ]
    }
   ],
   "source": [
    "t1= 1,2,3,4 # without brakets its takes as tuple\n",
    "a,b,c,d=t1\n",
    "print(\"a=\", a,\"b=\",b,\"c=\",c,\"d=\",d)\n",
    "print (type(t1))"
   ]
  },
  {
   "cell_type": "code",
   "execution_count": null,
   "id": "519b8318",
   "metadata": {},
   "outputs": [],
   "source": []
  }
 ],
 "metadata": {
  "kernelspec": {
   "display_name": "Python 3",
   "language": "python",
   "name": "python3"
  },
  "language_info": {
   "codemirror_mode": {
    "name": "ipython",
    "version": 3
   },
   "file_extension": ".py",
   "mimetype": "text/x-python",
   "name": "python",
   "nbconvert_exporter": "python",
   "pygments_lexer": "ipython3",
   "version": "3.9.4"
  }
 },
 "nbformat": 4,
 "nbformat_minor": 5
}
