{
 "cells": [
  {
   "cell_type": "code",
   "execution_count": 9,
   "id": "f7fb58b3",
   "metadata": {},
   "outputs": [
    {
     "name": "stdout",
     "output_type": "stream",
     "text": [
      "constructor of class A\n",
      "Method 1 of class A\n",
      "constructor of class B\n",
      "Method 1 of class A\n",
      "Method 1 of class B\n"
     ]
    }
   ],
   "source": [
    "#this is without inherantance\n",
    "#class B using/accesing  methods of class A\n",
    "class A:\n",
    "    def __init__(self):\n",
    "        print(\"constructor of class A\")\n",
    "    def method1(self):\n",
    "        print(\"Method 1 of class A\")\n",
    "class B:\n",
    "    def __init__(self):\n",
    "        self.obj_a1=A()\n",
    "        print(\"constructor of class B\")\n",
    "        \n",
    "    def method1(self):\n",
    "        obj_a.method1()\n",
    "        print(\"Method 1 of class B\")\n",
    "\n",
    "obj_a=A()  #init method call\n",
    "obj_a.method1() \n",
    "\n",
    "obj_b=B()\n",
    "obj_b.method1()\n",
    "    "
   ]
  },
  {
   "cell_type": "code",
   "execution_count": 12,
   "id": "ba2bb9d8",
   "metadata": {},
   "outputs": [
    {
     "name": "stdout",
     "output_type": "stream",
     "text": [
      "constructor of class B\n",
      "Method1 of class A\n",
      "Method2 of class A\n"
     ]
    }
   ],
   "source": [
    "#single inheritance\n",
    "class A:\n",
    "    def __init__(self):\n",
    "        print(\"constructor of class A\")\n",
    "    def method1(self):\n",
    "        print(\"Method1 of class A\" )\n",
    "    def method2(self):\n",
    "        print(\"Method2 of class A\" )\n",
    "\n",
    "class B(A):\n",
    "    def __init__(self):\n",
    "        print(\"constructor of class B\")\n",
    "#    def method1(self):\n",
    "#        print(\"Method1 of class B\" )\n",
    "    \n",
    "\n",
    "b=B()\n",
    "b.method1()\n",
    "b.method2()\n",
    "\n",
    "    "
   ]
  },
  {
   "cell_type": "code",
   "execution_count": 14,
   "id": "b5192f92",
   "metadata": {},
   "outputs": [
    {
     "name": "stdout",
     "output_type": "stream",
     "text": [
      "constructor of class B\n",
      "Method1 of class B\n",
      "Method2 of class A\n",
      "constructor of class C\n",
      "Method1 of class A\n",
      "Method2 of class A\n",
      "Method3 of class C\n"
     ]
    }
   ],
   "source": [
    "# Hierarchical inherentance\n",
    "class A:\n",
    "    def __init__(self):\n",
    "        print(\"constructor of class A\")\n",
    "    def method1(self):\n",
    "        print(\"Method1 of class A\" )\n",
    "    def method2(self):\n",
    "        print(\"Method2 of class A\" )\n",
    "\n",
    "class B(A):\n",
    "    def __init__(self):\n",
    "        print(\"constructor of class B\")\n",
    "    def method1(self):\n",
    "        print(\"Method1 of class B\" )\n",
    "    \n",
    "class C(A):\n",
    "    def __init__(self):\n",
    "        print(\"constructor of class C\")\n",
    "    def method3(self):\n",
    "        print(\"Method3 of class C\" )\n",
    "    \n",
    "\n",
    "b=B()\n",
    "b.method1()\n",
    "b.method2()\n",
    "\n",
    "c=C()\n",
    "c.method1()\n",
    "c.method2()\n",
    "c.method3()\n"
   ]
  },
  {
   "cell_type": "code",
   "execution_count": 17,
   "id": "5ed82eb5",
   "metadata": {},
   "outputs": [
    {
     "name": "stdout",
     "output_type": "stream",
     "text": [
      "constructor of class C\n",
      "Method1 of class C\n",
      "Method2 of class A\n"
     ]
    }
   ],
   "source": [
    "#multilevel inheritance\n",
    "\n",
    "class A:\n",
    "    def __init__(self):\n",
    "        print(\"constructor of class A\")\n",
    "    def method1(self):\n",
    "        print(\"Method1 of class A\" )\n",
    "    def method2(self):\n",
    "        print(\"Method2 of class A\" )\n",
    "\n",
    "class B(A):\n",
    "    def __init__(self):\n",
    "        super(B,self).__init__()\n",
    "        print(\"constructor of class B\")\n",
    "    def method1(self):\n",
    "        super(B,self).method1()\n",
    "        print(\"Method1 of class B\" )\n",
    "    \n",
    "class C(B):\n",
    "    def __init__(self):\n",
    "        super(C,self).__init__() # call method init of immideate parent class(base class b)\n",
    "        print(\"constructor of class C\")\n",
    "    def method1(self):\n",
    "        super(C,self).method1()\n",
    "        print(\"Method1 of class C\" )\n",
    "        \n",
    "c=C()\n",
    "c.method1()\n",
    "c.method2()\n"
   ]
  },
  {
   "cell_type": "code",
   "execution_count": 19,
   "id": "27a309c4",
   "metadata": {},
   "outputs": [
    {
     "name": "stdout",
     "output_type": "stream",
     "text": [
      "constructor of class B\n",
      "constructor of class C\n",
      "[<class '__main__.C'>, <class '__main__.B'>, <class '__main__.A'>, <class 'object'>]\n",
      "Method1 of class B\n",
      "Method1 of class C\n",
      "Method2 of class A\n"
     ]
    }
   ],
   "source": [
    "#multiple inheritance\n",
    "class A:\n",
    "    def __init__(self):\n",
    "        print(\"constructor of class A\")\n",
    "    def method1(self):\n",
    "        print(\"Method1 of class A\" )\n",
    "    def method2(self):\n",
    "        print(\"Method2 of class A\" )\n",
    "\n",
    "class B:\n",
    "    def __init__(self):\n",
    "        print(\"constructor of class B\")\n",
    "    def method1(self):\n",
    "        print(\"Method1 of class B\" )\n",
    "    \n",
    "class C(B,A): #MRO method resolution order left to rightexcution \n",
    "    #fist excute A's methods then B's\n",
    "    def __init__(self):\n",
    "        super(C,self).__init__() # call method init of immideate parent class(base class b)\n",
    "        print(\"constructor of class C\")\n",
    "        print(C.mro())\n",
    "        \n",
    "    def method1(self):\n",
    "        super(C,self).method1()\n",
    "        print(\"Method1 of class C\" )\n",
    "        \n",
    "c=C()\n",
    "c.method1()\n",
    "c.method2()\n"
   ]
  },
  {
   "cell_type": "code",
   "execution_count": 22,
   "id": "e1cdcf8e",
   "metadata": {},
   "outputs": [
    {
     "name": "stdout",
     "output_type": "stream",
     "text": [
      "constructor of class D\n",
      "[<class '__main__.D'>, <class '__main__.C'>, <class '__main__.B'>, <class '__main__.A'>, <class 'object'>]\n",
      "Method1 of class C\n"
     ]
    }
   ],
   "source": [
    "#hybrid inheritance\n",
    "#diomond shape inheritance\n",
    "class A:\n",
    "    def __init__(self):\n",
    "        print(\"constructor of class A\")\n",
    "   \n",
    "class B(A):\n",
    "    def __init__(self):\n",
    "        print(\"constructor of class B\")\n",
    "    def method1(self):\n",
    "        print(\"Method1 of class B\" )\n",
    "    \n",
    "class C(A):\n",
    "    def __init__(self):\n",
    "        print(\"constructor of class C\")\n",
    "    def method1(self):\n",
    "        print(\"Method1 of class C\" )\n",
    "        \n",
    "class D(C,B):\n",
    "    def __init__(self):\n",
    "        print(\"constructor of class D\")\n",
    "        print(D.mro())\n",
    "\n",
    "    \n",
    "d=D()\n",
    "d.method1()\n"
   ]
  },
  {
   "cell_type": "code",
   "execution_count": null,
   "id": "c78cbaab",
   "metadata": {},
   "outputs": [],
   "source": []
  }
 ],
 "metadata": {
  "kernelspec": {
   "display_name": "Python 3",
   "language": "python",
   "name": "python3"
  },
  "language_info": {
   "codemirror_mode": {
    "name": "ipython",
    "version": 3
   },
   "file_extension": ".py",
   "mimetype": "text/x-python",
   "name": "python",
   "nbconvert_exporter": "python",
   "pygments_lexer": "ipython3",
   "version": "3.9.4"
  }
 },
 "nbformat": 4,
 "nbformat_minor": 5
}
