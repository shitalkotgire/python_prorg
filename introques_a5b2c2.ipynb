{
 "cells": [
  {
   "cell_type": "code",
   "execution_count": 2,
   "id": "d7b1eb24",
   "metadata": {},
   "outputs": [
    {
     "name": "stdout",
     "output_type": "stream",
     "text": [
      "1619996632768\n",
      "1619996632640\n",
      "1619947776304\n",
      "1619947776304\n"
     ]
    }
   ],
   "source": [
    "ls1=[1,2,3,4]\n",
    "ls2=[1,2,3,4]\n",
    "print(id(ls1))\n",
    "print(id(ls2))\n",
    "print(id(ls1[0]))\n",
    "print(id(ls2[0]))"
   ]
  },
  {
   "cell_type": "code",
   "execution_count": 16,
   "id": "fc9bd1db",
   "metadata": {},
   "outputs": [
    {
     "name": "stdout",
     "output_type": "stream",
     "text": [
      "{'a': 5, 'b': 2, 'c': 2}\n",
      "a5b2c2\n"
     ]
    }
   ],
   "source": [
    "s1=\"aaabbccaa\"\n",
    "#output=a5b2c2|\n",
    "d={}\n",
    "for i in range (len(s1)):\n",
    "    key=s1[i]\n",
    "    if key not in d:\n",
    "        d[key]=1\n",
    "    else:\n",
    "        d[key]+=1\n",
    "print(d)\n",
    "s2=\"\"\n",
    "for key,value in d.items():\n",
    "    s2+=key\n",
    "    s2+=str(value)\n",
    "print(s2)"
   ]
  },
  {
   "cell_type": "code",
   "execution_count": 17,
   "id": "3f2bdc89",
   "metadata": {},
   "outputs": [
    {
     "name": "stdout",
     "output_type": "stream",
     "text": [
      "Counter({'a': 5, 'b': 2, 'c': 2})\n",
      "a5b2c2\n"
     ]
    }
   ],
   "source": [
    "from collections import Counter\n",
    "s1=\"aaabbccaa\"\n",
    "d=Counter(s1)\n",
    "print(d)\n",
    "s2=\"\"\n",
    "for key,value in d.items():\n",
    "    s2+=key\n",
    "    s2+=str(value)\n",
    "print(s2)"
   ]
  },
  {
   "cell_type": "code",
   "execution_count": 23,
   "id": "9e6973f7",
   "metadata": {},
   "outputs": [
    {
     "name": "stdout",
     "output_type": "stream",
     "text": [
      "1619947776592\n",
      "1619947776592\n",
      "1619996359792 1619996358160\n"
     ]
    }
   ],
   "source": [
    "x=10\n",
    "y=10\n",
    "print(id(x))\n",
    "print(id(y))\n",
    "p=300\n",
    "q=300\n",
    "\n",
    "print(id(p),id(q))\n",
    "\n"
   ]
  },
  {
   "cell_type": "code",
   "execution_count": null,
   "id": "063c3000",
   "metadata": {},
   "outputs": [],
   "source": []
  }
 ],
 "metadata": {
  "kernelspec": {
   "display_name": "Python 3",
   "language": "python",
   "name": "python3"
  },
  "language_info": {
   "codemirror_mode": {
    "name": "ipython",
    "version": 3
   },
   "file_extension": ".py",
   "mimetype": "text/x-python",
   "name": "python",
   "nbconvert_exporter": "python",
   "pygments_lexer": "ipython3",
   "version": "3.9.4"
  }
 },
 "nbformat": 4,
 "nbformat_minor": 5
}
