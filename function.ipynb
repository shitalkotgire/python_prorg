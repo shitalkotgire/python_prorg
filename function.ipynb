{
 "cells": [
  {
   "cell_type": "code",
   "execution_count": 1,
   "id": "3a28186c",
   "metadata": {},
   "outputs": [],
   "source": [
    "#function\n"
   ]
  },
  {
   "cell_type": "code",
   "execution_count": 4,
   "id": "eb6c72f4",
   "metadata": {},
   "outputs": [],
   "source": [
    "#If you do not know how many arguments that will be passed into your function, add a * before the parameter name in the function definition.\n",
    "\n",
    "#This way the function will receive a tuple of arguments, and can access the items accordingly:"
   ]
  },
  {
   "cell_type": "code",
   "execution_count": 3,
   "id": "496c40d1",
   "metadata": {},
   "outputs": [
    {
     "name": "stdout",
     "output_type": "stream",
     "text": [
      "The youngest child is Linus\n"
     ]
    }
   ],
   "source": [
    "def my_function(*kids):\n",
    "  print(\"The youngest child is \" + kids[2]) #recives as tuple\n",
    "\n",
    "my_function(\"Emil\", \"Tobias\", \"Linus\")"
   ]
  },
  {
   "cell_type": "code",
   "execution_count": 5,
   "id": "46c6ae8c",
   "metadata": {},
   "outputs": [
    {
     "name": "stdout",
     "output_type": "stream",
     "text": [
      "The youngest child is Linus\n"
     ]
    }
   ],
   "source": [
    "#You can also send arguments with the key = value syntax.\n",
    "\n",
    "#This way the order of the arguments does not matter.\n",
    "def my_function(child3, child2, child1):\n",
    "  print(\"The youngest child is \" + child3)\n",
    "\n",
    "my_function(child1 = \"Emil\", child2 = \"Tobias\", child3 = \"Linus\")"
   ]
  },
  {
   "cell_type": "code",
   "execution_count": 6,
   "id": "caf2df4d",
   "metadata": {},
   "outputs": [
    {
     "name": "stdout",
     "output_type": "stream",
     "text": [
      "His last name is Refsnes\n"
     ]
    }
   ],
   "source": [
    "#Arbitrary Keyword Arguments, **kwargs\n",
    "#function will receive a dictionary of arguments,\n",
    "#and can access the items accordingly:\n",
    "def my_function(**kid):  ##recives as dict\n",
    "  print(\"His last name is \" + kid[\"lname\"])\n",
    "\n",
    "my_function(fname = \"Tobias\", lname = \"Refsnes\")"
   ]
  },
  {
   "cell_type": "code",
   "execution_count": 27,
   "id": "738e1c08",
   "metadata": {},
   "outputs": [
    {
     "name": "stdout",
     "output_type": "stream",
     "text": [
      "\tShital\tShital\tShital\tShital\tShital\tShital\tShital\tShital\tShital\tShital\n"
     ]
    }
   ],
   "source": [
    "def xyz(name):\n",
    "    print(name*10)\n",
    "xyz(\"\\tShital\")"
   ]
  },
  {
   "cell_type": "code",
   "execution_count": 21,
   "id": "73b728f7",
   "metadata": {},
   "outputs": [
    {
     "name": "stdout",
     "output_type": "stream",
     "text": [
      "60\n"
     ]
    }
   ],
   "source": [
    "def abc(x, y):\n",
    "    return x+y\n",
    "result= abc(40,20)\n",
    "print(result)\n",
    "    "
   ]
  },
  {
   "cell_type": "code",
   "execution_count": 22,
   "id": "802502df",
   "metadata": {},
   "outputs": [
    {
     "name": "stdout",
     "output_type": "stream",
     "text": [
      "20\n",
      "-20\n"
     ]
    }
   ],
   "source": [
    "def abc(x, y):\n",
    "    return x-y\n",
    "result= abc(40,20)\n",
    "result1= abc(20,40)\n",
    "print(result)\n",
    "print(result1)"
   ]
  },
  {
   "cell_type": "code",
   "execution_count": 29,
   "id": "8c5b3716",
   "metadata": {},
   "outputs": [
    {
     "name": "stdout",
     "output_type": "stream",
     "text": [
      "Hi my name  Shital my age is 4\n",
      "Hi my name  shital my age is 4\n",
      "Hi my name  Shital my age is 4\n",
      "Hi my name  Shital my age is 4\n"
     ]
    }
   ],
   "source": [
    "def xyz(name,age):\n",
    "    print(\"Hi my name \",name,\"my age is\", age)\n",
    "xyz(name= \"Shital\", age=\"4\")    #(keyword arg, keyword arg)\n",
    "xyz(age=\"4\",name=\"shital\")      #(keyword arg, keyword arg)\n",
    "xyz(\"Shital\",\"4\")               #(position arg, position arg)\n",
    "xyz(\"Shital\", age=\"4\")          #(position arg,keyword arg)\n",
    "#xyz(name= \"Shital\",\"4\")  rule is (position argument,keyword argument )\n",
    "#xyz( age=\"4\",\"shital\")  "
   ]
  },
  {
   "cell_type": "code",
   "execution_count": null,
   "id": "cea1ffba",
   "metadata": {},
   "outputs": [],
   "source": []
  },
  {
   "cell_type": "code",
   "execution_count": null,
   "id": "43699217",
   "metadata": {},
   "outputs": [],
   "source": [
    "You can send any data types of argument to a function (string, number, list, dictionary etc.), and it will be treated as the same data type inside the function.\n",
    "\n",
    "E.g. if you send a List as an argument, it will still be a List when it reaches the function:"
   ]
  },
  {
   "cell_type": "code",
   "execution_count": 30,
   "id": "225817a4",
   "metadata": {},
   "outputs": [
    {
     "name": "stdout",
     "output_type": "stream",
     "text": [
      "apple\n",
      "banana\n",
      "cherry\n"
     ]
    }
   ],
   "source": [
    "def my_function(food):\n",
    "  for x in food:\n",
    "    print(x)\n",
    "\n",
    "fruits = [\"apple\", \"banana\", \"cherry\"]\n",
    "\n",
    "my_function(fruits)\n"
   ]
  },
  {
   "cell_type": "code",
   "execution_count": null,
   "id": "4897793d",
   "metadata": {},
   "outputs": [],
   "source": []
  },
  {
   "cell_type": "code",
   "execution_count": null,
   "id": "47bf2066",
   "metadata": {},
   "outputs": [],
   "source": [
    "''''''function definitions cannot be empty, \n",
    "but if you for some reason have a function definition with no content, \n",
    "put in the pass statement to avoid getting an error.''''''"
   ]
  },
  {
   "cell_type": "code",
   "execution_count": 31,
   "id": "ec6cec7c",
   "metadata": {},
   "outputs": [
    {
     "name": "stdout",
     "output_type": "stream",
     "text": [
      "Python is fantastic\n"
     ]
    }
   ],
   "source": [
    "#To change the value of a global variable inside a function, refer to the variable by using the global keyword:\n",
    "x = \"awesome\"\n",
    "\n",
    "def myfunc():\n",
    "  global x\n",
    "  x = \"fantastic\"\n",
    "\n",
    "myfunc()\n",
    "\n",
    "print(\"Python is \" + x)"
   ]
  },
  {
   "cell_type": "code",
   "execution_count": 41,
   "id": "91048245",
   "metadata": {},
   "outputs": [
    {
     "name": "stdout",
     "output_type": "stream",
     "text": [
      "factorial of number 5\n",
      "120\n"
     ]
    }
   ],
   "source": [
    "#recursion function\n",
    "#factorial \n",
    "def factorial(n):\n",
    "    if n==0:\n",
    "        return 1\n",
    "    else :\n",
    "        result=n*factorial(n-1)\n",
    "    return result\n",
    "# c=factoial(int(input(\"enter number\"))\n",
    "n = int(input(\"factorial of number \"))  \n",
    "c=factorial(n)\n",
    "print (c)        \n"
   ]
  },
  {
   "cell_type": "code",
   "execution_count": null,
   "id": "e9c9187b",
   "metadata": {},
   "outputs": [],
   "source": []
  },
  {
   "cell_type": "code",
   "execution_count": 49,
   "id": "0cbf7bef",
   "metadata": {},
   "outputs": [
    {
     "name": "stdout",
     "output_type": "stream",
     "text": [
      "Fibonacci sequence:\n",
      "0\n",
      "1\n",
      "1\n",
      "2\n",
      "3\n",
      "5\n",
      "8\n",
      "13\n",
      "21\n",
      "34\n"
     ]
    }
   ],
   "source": [
    "# Function for nth Fibonacci number\n",
    "def Fibonacci(n):\n",
    "    if n < 0:\n",
    "        print(\"Incorrect input\")\n",
    "    elif n == 0:\n",
    "        return 0\n",
    "    elif n == 1 or n == 2:\n",
    "        return 1\n",
    "    else:\n",
    "        return Fibonacci(n-1) + Fibonacci(n-2)\n",
    " \n",
    "nterms = 10\n",
    "\n",
    "print(\"Fibonacci sequence:\")\n",
    "for i in range(nterms):\n",
    "       print(Fibonacci(i))"
   ]
  },
  {
   "cell_type": "code",
   "execution_count": null,
   "id": "a644d746",
   "metadata": {},
   "outputs": [],
   "source": []
  }
 ],
 "metadata": {
  "kernelspec": {
   "display_name": "Python 3",
   "language": "python",
   "name": "python3"
  },
  "language_info": {
   "codemirror_mode": {
    "name": "ipython",
    "version": 3
   },
   "file_extension": ".py",
   "mimetype": "text/x-python",
   "name": "python",
   "nbconvert_exporter": "python",
   "pygments_lexer": "ipython3",
   "version": "3.9.4"
  }
 },
 "nbformat": 4,
 "nbformat_minor": 5
}
