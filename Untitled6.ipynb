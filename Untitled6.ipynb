{
 "cells": [
  {
   "cell_type": "code",
   "execution_count": null,
   "id": "da2d2f46",
   "metadata": {},
   "outputs": [
    {
     "name": "stdout",
     "output_type": "stream",
     "text": [
      "Enter the number:1\n"
     ]
    }
   ],
   "source": [
    "def fact(no):\n",
    "    if no==1 and no==0:\n",
    "        return 1\n",
    "    else:\n",
    "        return fact(no-1)*no\n",
    "    \n",
    "num=int(input(\"Enter the number:\"))\n",
    "print(f\"Factorial of num{fact(num)}\")"
   ]
  },
  {
   "cell_type": "code",
   "execution_count": 11,
   "id": "66deaf30",
   "metadata": {},
   "outputs": [
    {
     "name": "stdout",
     "output_type": "stream",
     "text": [
      "20\n"
     ]
    }
   ],
   "source": [
    "x=10\n",
    "y=20\n",
    "big=(lambda x,y:x if x>y else y)\n",
    "print(big(x,y))"
   ]
  },
  {
   "cell_type": "code",
   "execution_count": 26,
   "id": "63f172ea",
   "metadata": {},
   "outputs": [
    {
     "name": "stdout",
     "output_type": "stream",
     "text": [
      "HELLO PYTHON\n"
     ]
    }
   ],
   "source": [
    "def decor(fun1):\n",
    "    def inner():\n",
    "        str=fun1()\n",
    "        return str.upper()\n",
    "    return inner\n",
    "        \n",
    "@decor\n",
    "def upper():\n",
    "    return \"hello python\"\n",
    "\n",
    "print(upper())\n"
   ]
  },
  {
   "cell_type": "code",
   "execution_count": null,
   "id": "ee57c7fa",
   "metadata": {},
   "outputs": [],
   "source": [
    "x=10\n",
    "y=0\n",
    "try \n",
    "    z=x/0\n",
    "except "
   ]
  }
 ],
 "metadata": {
  "kernelspec": {
   "display_name": "Python 3",
   "language": "python",
   "name": "python3"
  },
  "language_info": {
   "codemirror_mode": {
    "name": "ipython",
    "version": 3
   },
   "file_extension": ".py",
   "mimetype": "text/x-python",
   "name": "python",
   "nbconvert_exporter": "python",
   "pygments_lexer": "ipython3",
   "version": "3.9.4"
  }
 },
 "nbformat": 4,
 "nbformat_minor": 5
}
