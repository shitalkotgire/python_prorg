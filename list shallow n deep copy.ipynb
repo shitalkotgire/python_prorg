{
 "cells": [
  {
   "cell_type": "code",
   "execution_count": 3,
   "id": "a941d1ef",
   "metadata": {},
   "outputs": [
    {
     "name": "stdout",
     "output_type": "stream",
     "text": [
      "['red', 'blue']\n",
      "['red', 'blue']\n",
      "['red', 'green']\n",
      "['red', 'green']\n"
     ]
    }
   ],
   "source": [
    "col1=[\"red\",\"blue\"]\n",
    "col2=col1\n",
    "print (col1)\n",
    "print (col2)\n",
    "col2[1]=\"green\"\n",
    "print (col1)\n",
    "print (col2)"
   ]
  },
  {
   "cell_type": "code",
   "execution_count": 4,
   "id": "362446f2",
   "metadata": {},
   "outputs": [
    {
     "name": "stdout",
     "output_type": "stream",
     "text": [
      "['red', 'blue']\n",
      "['red', 'blue']\n",
      "['red', 'blue']\n",
      "['red', 'green']\n"
     ]
    }
   ],
   "source": [
    "col1=[\"red\",\"blue\"]\n",
    "col2=col1[:]\n",
    "print (col1)\n",
    "print (col2)\n",
    "col2[1]=\"green\"\n",
    "print (col1)\n",
    "print (col2)"
   ]
  },
  {
   "cell_type": "code",
   "execution_count": 7,
   "id": "45d61ae9",
   "metadata": {},
   "outputs": [
    {
     "name": "stdout",
     "output_type": "stream",
     "text": [
      "['a', 'b', ['ab', 'ba']]\n",
      "['a', 'b', ['ab', 'ba']]\n",
      "['a', 'b', ['ab', 'ba']]\n",
      "['c', 'b', ['ab', 'ba']]\n",
      "['a', 'b', ['ab', 'd']]\n",
      "['c', 'b', ['ab', 'd']]\n"
     ]
    }
   ],
   "source": [
    "list1=['a','b',['ab','ba']]\n",
    "list2=list1[:]\n",
    "print(list1)\n",
    "print(list2)\n",
    "list2[0]='c'\n",
    "print(list1)\n",
    "print(list2)\n",
    "list2[2][1]='d'\n",
    "print(list1)\n",
    "print(list2)"
   ]
  },
  {
   "cell_type": "code",
   "execution_count": 9,
   "id": "be37f102",
   "metadata": {},
   "outputs": [
    {
     "name": "stdout",
     "output_type": "stream",
     "text": [
      "['a', 'b', ['ab', 'ba']]\n",
      "['a', 'b', ['ab', 'ba']]\n",
      "['a', 'b', ['ab', 'ba']]\n",
      "['c', 'b', ['ab', 'ba']]\n",
      "['a', 'b', ['ab', 'ba']]\n",
      "['c', 'b', ['ab', 'd']]\n"
     ]
    }
   ],
   "source": [
    " from copy import deepcopy #deepcopy method imports from copy module\n",
    "\n",
    "list1=['a','b',['ab','ba']]\n",
    "list2=deepcopy(list1)\n",
    "print(list1)\n",
    "print(list2)\n",
    "list2[0]='c'\n",
    "print(list1)\n",
    "print(list2)\n",
    "list2[2][1]='d'\n",
    "print(list1)\n",
    "print(list2)"
   ]
  },
  {
   "cell_type": "code",
   "execution_count": 13,
   "id": "4bf3c0d0",
   "metadata": {},
   "outputs": [
    {
     "name": "stdout",
     "output_type": "stream",
     "text": [
      "85.0\n",
      "85\n"
     ]
    }
   ],
   "source": [
    "g1=80\n",
    "g2=90\n",
    "avg=(g1+g2)/2\n",
    "avg2=(g1+g2)//2\n",
    "print(avg)\n",
    "print(avg2)"
   ]
  },
  {
   "cell_type": "code",
   "execution_count": 15,
   "id": "43045398",
   "metadata": {},
   "outputs": [
    {
     "name": "stdout",
     "output_type": "stream",
     "text": [
      "1111,2\n"
     ]
    }
   ],
   "source": [
    "print (('1111,2'))"
   ]
  },
  {
   "cell_type": "code",
   "execution_count": null,
   "id": "915c8c09",
   "metadata": {},
   "outputs": [],
   "source": []
  }
 ],
 "metadata": {
  "kernelspec": {
   "display_name": "Python 3",
   "language": "python",
   "name": "python3"
  },
  "language_info": {
   "codemirror_mode": {
    "name": "ipython",
    "version": 3
   },
   "file_extension": ".py",
   "mimetype": "text/x-python",
   "name": "python",
   "nbconvert_exporter": "python",
   "pygments_lexer": "ipython3",
   "version": "3.9.4"
  }
 },
 "nbformat": 4,
 "nbformat_minor": 5
}
