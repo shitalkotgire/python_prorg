{
 "cells": [
  {
   "cell_type": "code",
   "execution_count": 8,
   "id": "07294c11",
   "metadata": {},
   "outputs": [
    {
     "name": "stdout",
     "output_type": "stream",
     "text": [
      "shital sneha\n",
      "python python\n",
      "java python\n",
      "java c++\n",
      "{'name': 'shital', 'lan': 'java'}\n",
      "{'name': 'sneha'}\n",
      "{'__module__': '__main__', 'lan': 'c++', '__dict__': <attribute '__dict__' of 'A' objects>, '__weakref__': <attribute '__weakref__' of 'A' objects>, '__doc__': None}\n"
     ]
    }
   ],
   "source": [
    "class A():\n",
    "    lan='python'\n",
    "    pass\n",
    "a=A()\n",
    "b=A()\n",
    "a.name='shital'\n",
    "b.name='sneha'\n",
    "print(a.name,b.name)\n",
    "print(a.lan,b.lan)\n",
    "a.lan='java'\n",
    "print(a.lan,b.lan)\n",
    "A.lan='c++'\n",
    "print(a.lan,b.lan)\n",
    "print(a.__dict__)\n",
    "print(b.__dict__)\n",
    "print(A.__dict__)"
   ]
  },
  {
   "cell_type": "code",
   "execution_count": null,
   "id": "3339b7c6",
   "metadata": {},
   "outputs": [],
   "source": []
  }
 ],
 "metadata": {
  "kernelspec": {
   "display_name": "Python 3",
   "language": "python",
   "name": "python3"
  },
  "language_info": {
   "codemirror_mode": {
    "name": "ipython",
    "version": 3
   },
   "file_extension": ".py",
   "mimetype": "text/x-python",
   "name": "python",
   "nbconvert_exporter": "python",
   "pygments_lexer": "ipython3",
   "version": "3.9.4"
  }
 },
 "nbformat": 4,
 "nbformat_minor": 5
}
