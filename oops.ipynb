{
 "cells": [
  {
   "cell_type": "code",
   "execution_count": null,
   "id": "eccc89b0",
   "metadata": {},
   "outputs": [],
   "source": [
    "# OOPs concepts\n"
   ]
  },
  {
   "cell_type": "code",
   "execution_count": 1,
   "id": "c193b157",
   "metadata": {},
   "outputs": [
    {
     "data": {
      "text/plain": [
       "'\"class\\nobject \\nencapsulation\\ninheritance\\nabstraction\\npolymorphism'"
      ]
     },
     "execution_count": 1,
     "metadata": {},
     "output_type": "execute_result"
    }
   ],
   "source": [
    "\"\"\"\"class\n",
    "object \n",
    "encapsulation\n",
    "inheritance\n",
    "abstraction\n",
    "polymorphism\"\"\"\n"
   ]
  },
  {
   "cell_type": "code",
   "execution_count": 2,
   "id": "abb88882",
   "metadata": {},
   "outputs": [],
   "source": [
    "\n",
    "class name:\n",
    "    def sum1():\n",
    "        pass\n",
    "    def sub1():\n",
    "        pass\n",
    "  "
   ]
  },
  {
   "cell_type": "code",
   "execution_count": null,
   "id": "5de353c9",
   "metadata": {},
   "outputs": [],
   "source": []
  }
 ],
 "metadata": {
  "kernelspec": {
   "display_name": "Python 3",
   "language": "python",
   "name": "python3"
  },
  "language_info": {
   "codemirror_mode": {
    "name": "ipython",
    "version": 3
   },
   "file_extension": ".py",
   "mimetype": "text/x-python",
   "name": "python",
   "nbconvert_exporter": "python",
   "pygments_lexer": "ipython3",
   "version": "3.9.4"
  }
 },
 "nbformat": 4,
 "nbformat_minor": 5
}
