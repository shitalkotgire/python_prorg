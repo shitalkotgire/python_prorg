{
 "cells": [
  {
   "cell_type": "code",
   "execution_count": 6,
   "id": "cc7ddb0c",
   "metadata": {},
   "outputs": [],
   "source": [
    "#function\n",
    "x=[1,2,3,4,5]"
   ]
  },
  {
   "cell_type": "code",
   "execution_count": 15,
   "id": "0db68e97",
   "metadata": {},
   "outputs": [],
   "source": [
    "def odd_num(num):\n",
    "    if num%2!=0:\n",
    "        return True"
   ]
  },
  {
   "cell_type": "code",
   "execution_count": 11,
   "id": "6507d8f9",
   "metadata": {},
   "outputs": [
    {
     "data": {
      "text/plain": [
       "<function __main__.<lambda>(x)>"
      ]
     },
     "execution_count": 11,
     "metadata": {},
     "output_type": "execute_result"
    }
   ],
   "source": [
    "x=[1,2,3,4,5]\n",
    "lambda x: x%2!=0"
   ]
  },
  {
   "cell_type": "code",
   "execution_count": 10,
   "id": "b3a1b668",
   "metadata": {},
   "outputs": [
    {
     "name": "stdout",
     "output_type": "stream",
     "text": [
      "[1, 3, 5]\n"
     ]
    }
   ],
   "source": [
    "list1=[1,2,3,4,5]\n",
    "print (list(filter(lambda x:x%2!=0,list1)))"
   ]
  },
  {
   "cell_type": "code",
   "execution_count": 16,
   "id": "abb1d232",
   "metadata": {},
   "outputs": [
    {
     "name": "stdout",
     "output_type": "stream",
     "text": [
      "[1, 3, 5]\n"
     ]
    }
   ],
   "source": [
    "list1=[1,2,3,4,5]\n",
    "print (list(filter(odd_num,list1)))"
   ]
  },
  {
   "cell_type": "code",
   "execution_count": null,
   "id": "bdb8684c",
   "metadata": {},
   "outputs": [],
   "source": [
    "#Decorators"
   ]
  },
  {
   "cell_type": "code",
   "execution_count": 28,
   "id": "7ab6f084",
   "metadata": {},
   "outputs": [
    {
     "name": "stdout",
     "output_type": "stream",
     "text": [
      "shital\n"
     ]
    },
    {
     "data": {
      "text/plain": [
       "<function __main__.fun1()>"
      ]
     },
     "execution_count": 28,
     "metadata": {},
     "output_type": "execute_result"
    }
   ],
   "source": [
    "def make_deco(func):\n",
    "#   def inner(*args,**kwarg):\n",
    "    def wrapper(*args,**kwarg):\n",
    "        print(\"shital\")\n",
    "#        func()\n",
    "        return func \n",
    "#   return inner\n",
    "    return wrapper\n",
    "\n",
    "\n",
    "#@make_deco\n",
    "def fun1():\n",
    "    print(\"Hello\")\n",
    "\n",
    "#fun1()\n",
    "deco=make_deco(fun1)\n",
    "#print(type(deco))\n",
    "deco()"
   ]
  },
  {
   "cell_type": "code",
   "execution_count": 34,
   "id": "2f46d0fe",
   "metadata": {},
   "outputs": [
    {
     "name": "stdout",
     "output_type": "stream",
     "text": [
      "end\n",
      "time: 1621683216.5349092\n"
     ]
    }
   ],
   "source": [
    "import time\n",
    "def my_timer(func):\n",
    "#    import time\n",
    "    def inner(*args,**kwargs):\n",
    "        t1=time.time()\n",
    "        result=func(*args,**kwargs)\n",
    "        t2=time.time()\n",
    "        total_time=t2-t1 \n",
    "        print(\"time:\",t2)\n",
    "    return inner\n",
    "\n",
    "@my_timer\n",
    "def example():\n",
    "    for i in range(1,9999):\n",
    "        y=i+1\n",
    "    print(\"end\")\n",
    "    \n",
    "example()"
   ]
  },
  {
   "cell_type": "code",
   "execution_count": 37,
   "id": "31653638",
   "metadata": {},
   "outputs": [
    {
     "ename": "TypeError",
     "evalue": "can only concatenate list (not \"tuple\") to list",
     "output_type": "error",
     "traceback": [
      "\u001b[1;31m---------------------------------------------------------------------------\u001b[0m",
      "\u001b[1;31mTypeError\u001b[0m                                 Traceback (most recent call last)",
      "\u001b[1;32m<ipython-input-37-dd74dccf8996>\u001b[0m in \u001b[0;36m<module>\u001b[1;34m\u001b[0m\n\u001b[0;32m      1\u001b[0m \u001b[0mlist1\u001b[0m\u001b[1;33m=\u001b[0m\u001b[1;33m[\u001b[0m\u001b[1;36m1\u001b[0m\u001b[1;33m,\u001b[0m\u001b[1;36m2\u001b[0m\u001b[1;33m,\u001b[0m\u001b[1;36m3\u001b[0m\u001b[1;33m,\u001b[0m\u001b[1;36m4\u001b[0m\u001b[1;33m,\u001b[0m\u001b[1;36m5\u001b[0m\u001b[1;33m]\u001b[0m\u001b[1;33m\u001b[0m\u001b[1;33m\u001b[0m\u001b[0m\n\u001b[0;32m      2\u001b[0m \u001b[0mt1\u001b[0m\u001b[1;33m=\u001b[0m\u001b[1;33m(\u001b[0m\u001b[1;36m10\u001b[0m\u001b[1;33m,\u001b[0m\u001b[1;36m20\u001b[0m\u001b[1;33m,\u001b[0m\u001b[1;36m30\u001b[0m\u001b[1;33m,\u001b[0m\u001b[1;36m40\u001b[0m\u001b[1;33m)\u001b[0m\u001b[1;33m\u001b[0m\u001b[1;33m\u001b[0m\u001b[0m\n\u001b[1;32m----> 3\u001b[1;33m \u001b[0mlist1\u001b[0m\u001b[1;33m=\u001b[0m\u001b[0mlist1\u001b[0m\u001b[1;33m+\u001b[0m\u001b[0mt1\u001b[0m\u001b[1;33m\u001b[0m\u001b[1;33m\u001b[0m\u001b[0m\n\u001b[0m\u001b[0;32m      4\u001b[0m \u001b[0mprint\u001b[0m\u001b[1;33m(\u001b[0m\u001b[0mlist2\u001b[0m\u001b[1;33m)\u001b[0m\u001b[1;33m\u001b[0m\u001b[1;33m\u001b[0m\u001b[0m\n",
      "\u001b[1;31mTypeError\u001b[0m: can only concatenate list (not \"tuple\") to list"
     ]
    }
   ],
   "source": [
    "list1=[1,2,3,4,5]\n",
    "t1=(10,20,30,40)\n",
    "list1=list1+t1\n",
    "print(list2)\n"
   ]
  },
  {
   "cell_type": "code",
   "execution_count": 36,
   "id": "aa714b7d",
   "metadata": {},
   "outputs": [
    {
     "name": "stdout",
     "output_type": "stream",
     "text": [
      "[1, 2, 3, 4, 5, 10, 20, 30, 40]\n"
     ]
    }
   ],
   "source": [
    "list1=[1,2,3,4,5]\n",
    "t1=(10,20,30,40)\n",
    "list1+=t1\n",
    "print(list1)\n"
   ]
  },
  {
   "cell_type": "code",
   "execution_count": null,
   "id": "da7dbcba",
   "metadata": {},
   "outputs": [],
   "source": []
  }
 ],
 "metadata": {
  "kernelspec": {
   "display_name": "Python 3",
   "language": "python",
   "name": "python3"
  },
  "language_info": {
   "codemirror_mode": {
    "name": "ipython",
    "version": 3
   },
   "file_extension": ".py",
   "mimetype": "text/x-python",
   "name": "python",
   "nbconvert_exporter": "python",
   "pygments_lexer": "ipython3",
   "version": "3.9.4"
  }
 },
 "nbformat": 4,
 "nbformat_minor": 5
}
