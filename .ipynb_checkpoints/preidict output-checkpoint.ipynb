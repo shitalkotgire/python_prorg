{
 "cells": [
  {
   "cell_type": "code",
   "execution_count": 3,
   "id": "4cf20641",
   "metadata": {},
   "outputs": [
    {
     "name": "stdout",
     "output_type": "stream",
     "text": [
      "[6, 6, 6, 6]\n"
     ]
    }
   ],
   "source": [
    "def multipliers():\n",
    "    return [lambda x:i*x for i in range(4)]\n",
    "\n",
    "print([m(2) for m in multipliers()])"
   ]
  },
  {
   "cell_type": "code",
   "execution_count": 11,
   "id": "978bd350",
   "metadata": {},
   "outputs": [
    {
     "name": "stdout",
     "output_type": "stream",
     "text": [
      "list1= [10, 'a']\n",
      "list2= [123]\n",
      "list3= [10, 'a']\n"
     ]
    }
   ],
   "source": [
    "def extendlist(val,list=[]):\n",
    "    list.append(val)\n",
    "    return list\n",
    "list1=extendlist(10)\n",
    "list2=extendlist(123,[])\n",
    "list3=extendlist('a')\n",
    "\n",
    "print(\"list1=\",list1)\n",
    "print(\"list2=\",list2)\n",
    "print(\"list3=\",list3)"
   ]
  },
  {
   "cell_type": "code",
   "execution_count": 15,
   "id": "0317c619",
   "metadata": {},
   "outputs": [
    {
     "name": "stdout",
     "output_type": "stream",
     "text": [
      "[]\n"
     ]
    }
   ],
   "source": [
    "list=['a','b','c','d']\n",
    "print(list[10:])"
   ]
  },
  {
   "cell_type": "code",
   "execution_count": 4,
   "id": "0fdd1dd8",
   "metadata": {},
   "outputs": [
    {
     "ename": "SyntaxError",
     "evalue": "invalid syntax (<ipython-input-4-ca4dd3aa6519>, line 5)",
     "output_type": "error",
     "traceback": [
      "\u001b[1;36m  File \u001b[1;32m\"<ipython-input-4-ca4dd3aa6519>\"\u001b[1;36m, line \u001b[1;32m5\u001b[0m\n\u001b[1;33m    return n *n+\u001b[0m\n\u001b[1;37m                ^\u001b[0m\n\u001b[1;31mSyntaxError\u001b[0m\u001b[1;31m:\u001b[0m invalid syntax\n"
     ]
    }
   ],
   "source": [
    "def calc_sum(n):\n",
    "    if n==1:\n",
    "        return 1\n",
    "    else:\n",
    "        return n *n+\n",
    "    calc_sum(n-1)*calc_sum(n-1)\n",
    "\n",
    "sum=calc_sum(3)\n",
    "print(sum)\n"
   ]
  },
  {
   "cell_type": "code",
   "execution_count": 26,
   "id": "b21641bf",
   "metadata": {},
   "outputs": [
    {
     "name": "stdout",
     "output_type": "stream",
     "text": [
      "[(0, 'a'), (1, 'b'), (1, 'c'), (0, 'd'), (1, 'e'), (2, 'f'), (2, 'g'), (0, 'h'), (1, 'i')]\n",
      "[]\n",
      "[(0, 'g'), (1, 'e'), (1, 'e'), (0, 'k'), (1, 's'), (2, 'f'), (2, 'o'), (0, 'r'), (1, 'g')]\n",
      "[]\n"
     ]
    }
   ],
   "source": [
    "#python prog to sort one list using other list\n",
    "def sort_list(list1, list2):\n",
    "    zipped_pairs = zip(list2, list1)   #list2 is first element \n",
    "    #print(list(zipped_pairs))\n",
    "    #print(sorted(zipped_pairs))\n",
    "    \n",
    "    z = [x for _, x in sorted(zipped_pairs)] #sort perform on first element  secomd ele ignored with use of \"_\"\n",
    "    return z\n",
    "\n",
    "x = [\"a\", \"b\", \"c\", \"d\", \"e\", \"f\", \"g\", \"h\", \"i\"]\n",
    "y = [ 0, 1, 1, 0, 1, 2, 2, 0, 1]\n",
    "print(sort_list(x, y))\n",
    "\n",
    "x = [\"g\", \"e\", \"e\", \"k\", \"s\", \"f\", \"o\", \"r\", \"g\", \"e\", \"e\", \"k\", \"s\"]\n",
    "y = [ 0, 1, 1, 0, 1, 2, 2, 0, 1]\n",
    "print(sort_list(x, y))"
   ]
  },
  {
   "cell_type": "code",
   "execution_count": 25,
   "id": "0ffc2d92",
   "metadata": {},
   "outputs": [
    {
     "name": "stdout",
     "output_type": "stream",
     "text": [
      "['3', '4', '5', '6', '1', '2']\n"
     ]
    }
   ],
   "source": [
    "first_list = [\"O\",\"X\",\"A\",\"C\",\"D\",\"K\"]\n",
    "second_list = ['1','2','3','4','5','6']\n",
    "\n",
    "zipped_pairs = zip(first_list,second_list)\n",
    "#print(list(zipped_pairs))\n",
    "sorted_pairs = sorted(zipped_pairs)\n",
    "#print(sorted_pairs)\n",
    "\n",
    "result = [item[1] for item in sorted_pairs]\n",
    "\n",
    "print(result)"
   ]
  },
  {
   "cell_type": "code",
   "execution_count": null,
   "id": "da33663e",
   "metadata": {},
   "outputs": [],
   "source": []
  },
  {
   "cell_type": "code",
   "execution_count": null,
   "id": "f2da263e",
   "metadata": {},
   "outputs": [],
   "source": []
  }
 ],
 "metadata": {
  "kernelspec": {
   "display_name": "Python 3",
   "language": "python",
   "name": "python3"
  },
  "language_info": {
   "codemirror_mode": {
    "name": "ipython",
    "version": 3
   },
   "file_extension": ".py",
   "mimetype": "text/x-python",
   "name": "python",
   "nbconvert_exporter": "python",
   "pygments_lexer": "ipython3",
   "version": "3.9.4"
  }
 },
 "nbformat": 4,
 "nbformat_minor": 5
}
