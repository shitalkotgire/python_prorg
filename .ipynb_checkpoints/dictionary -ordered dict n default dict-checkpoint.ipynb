{
 "cells": [
  {
   "cell_type": "code",
   "execution_count": 22,
   "id": "9eaf298a",
   "metadata": {},
   "outputs": [
    {
     "name": "stdout",
     "output_type": "stream",
     "text": [
      "Empty Dictionary: \n",
      "{}\n",
      "\n",
      "Dictionary with the use of dict(): \n",
      "{1: 'Geeks', 2: 'For', 3: 'Geeks'}\n",
      "\n",
      "Dictionary with each item as a pair: \n",
      "{1: 'Geeks', 2: 'For'}\n"
     ]
    }
   ],
   "source": [
    "# Creating an empty Dictionary\n",
    "Dict = {}\n",
    "print(\"Empty Dictionary: \")\n",
    "print(Dict)\n",
    "  \n",
    "# Creating a Dictionary\n",
    "# with dict() method\n",
    "Dict = dict({1: 'Geeks', 2: 'For', 3:'Geeks'})\n",
    "print(\"\\nDictionary with the use of dict(): \")\n",
    "print(Dict)\n",
    "  \n",
    "# Creating a Dictionary\n",
    "# with each item as a Pair\n",
    "Dict = dict([(1, 'Geeks'), (2, 'For')])\n",
    "print(\"\\nDictionary with each item as a pair: \")\n",
    "print(Dict)"
   ]
  },
  {
   "cell_type": "code",
   "execution_count": 21,
   "id": "e74d764f",
   "metadata": {},
   "outputs": [
    {
     "name": "stdout",
     "output_type": "stream",
     "text": [
      "1 a\n",
      "2 b\n",
      "3 c\n",
      "1\n",
      "2\n",
      "3\n",
      "0 1 a\n",
      "1 2 b\n",
      "2 3 c\n",
      "(0, 1)\n",
      "(1, 2)\n",
      "(2, 3)\n"
     ]
    }
   ],
   "source": [
    "d={1:'a',2:'b',3:'c'}\n",
    "for i in d:\n",
    "    print(i,d[i])\n",
    "\n",
    "for i in d:\n",
    "    print(i)\n",
    "\n",
    "for index,key in enumerate(d):\n",
    "    print(index,key,d[key])\n",
    "for ele in enumerate(d): #only get key not value\n",
    "    print (ele)"
   ]
  },
  {
   "cell_type": "code",
   "execution_count": 23,
   "id": "6e4eb593",
   "metadata": {},
   "outputs": [
    {
     "name": "stdout",
     "output_type": "stream",
     "text": [
      "Empty Dictionary: \n",
      "{}\n",
      "\n",
      "Dictionary after adding 3 elements: \n",
      "{0: 'Geeks', 2: 'For', 3: 1}\n",
      "\n",
      "Dictionary after adding 3 elements: \n",
      "{0: 'Geeks', 2: 'For', 3: 1, 'Value_set': (2, 3, 4)}\n",
      "\n",
      "Updated key value: \n",
      "{0: 'Geeks', 2: 'Welcome', 3: 1, 'Value_set': (2, 3, 4)}\n",
      "\n",
      "Adding a Nested Key: \n",
      "{0: 'Geeks', 2: 'Welcome', 3: 1, 'Value_set': (2, 3, 4), 5: {'Nested': {'1': 'Life', '2': 'Geeks'}}}\n"
     ]
    }
   ],
   "source": [
    "# Creating an empty Dictionary\n",
    "Dict = {}\n",
    "print(\"Empty Dictionary: \")\n",
    "print(Dict)\n",
    "  \n",
    "# Adding elements one at a time\n",
    "Dict[0] = 'Geeks'\n",
    "Dict[2] = 'For'\n",
    "Dict[3] = 1\n",
    "print(\"\\nDictionary after adding 3 elements: \")\n",
    "print(Dict)\n",
    "  \n",
    "# Adding set of values \n",
    "# to a single Key\n",
    "Dict['Value_set'] = 2, 3, 4\n",
    "print(\"\\nDictionary after adding 3 elements: \")\n",
    "print(Dict)\n",
    "  \n",
    "# Updating existing Key's Value\n",
    "Dict[2] = 'Welcome'\n",
    "print(\"\\nUpdated key value: \")\n",
    "print(Dict)\n",
    "  \n",
    "# Adding Nested Key value to Dictionary\n",
    "Dict[5] = {'Nested' :{'1' : 'Life', '2' : 'Geeks'}}\n",
    "print(\"\\nAdding a Nested Key: \")\n",
    "print(Dict)"
   ]
  },
  {
   "cell_type": "code",
   "execution_count": 25,
   "id": "f1b0edf4",
   "metadata": {},
   "outputs": [
    {
     "name": "stdout",
     "output_type": "stream",
     "text": [
      "Accessing a element using key:\n",
      "For\n",
      "Accessing a element using key:\n",
      "Geeks\n",
      "Accessing a element using get:\n",
      "Geeks\n"
     ]
    }
   ],
   "source": [
    "# accessing a element from a Dictionary \n",
    "  \n",
    "# Creating a Dictionary \n",
    "Dict = {1: 'Geeks', 'name': 'For', 3: 'Geeks'}\n",
    "  \n",
    "# accessing a element using key\n",
    "print(\"Accessing a element using key:\")\n",
    "print(Dict['name'])\n",
    "  \n",
    "# accessing a element using key\n",
    "print(\"Accessing a element using key:\")\n",
    "print(Dict[1])\n",
    "# accessing a element using get() method\n",
    "print(\"Accessing a element using get:\")\n",
    "print(Dict.get(3))"
   ]
  },
  {
   "cell_type": "code",
   "execution_count": 27,
   "id": "2e75cf53",
   "metadata": {},
   "outputs": [
    {
     "name": "stdout",
     "output_type": "stream",
     "text": [
      "{1: 'Geeks'}\n",
      "Geeks\n",
      "For\n",
      "\n",
      "Deleting a key from Nested Dictionary: \n",
      "{'Dict1': {1: 'Geeks'}, 'Dict2': {}}\n"
     ]
    }
   ],
   "source": [
    "#Accessing element of a nested dictionary\n",
    "#In order to access the value of any key in nested dictionary, use indexing [] syntax.\n",
    "\n",
    "\n",
    "# Creating a Dictionary\n",
    "Dict = {'Dict1': {1: 'Geeks'},\n",
    "        'Dict2': {'Name': 'For'}}\n",
    "  \n",
    "# Accessing element using key\n",
    "print(Dict['Dict1'])\n",
    "print(Dict['Dict1'][1])\n",
    "print(Dict['Dict2']['Name'])\n",
    "\n",
    "# Deleting a Key from Nested Dictionary\n",
    "del Dict['Dict2']['Name']\n",
    "print(\"\\nDeleting a key from Nested Dictionary: \")\n",
    "print(Dict)"
   ]
  },
  {
   "cell_type": "code",
   "execution_count": null,
   "id": "9e1c08da",
   "metadata": {},
   "outputs": [],
   "source": [
    "#Pop() method is used to return and delete the value of the key specified.\n",
    "# Creating a Dictionary\n",
    "Dict = {1: 'Geeks', 'name': 'For', 3: 'Geeks'}\n",
    "  \n",
    "# Deleting a key \n",
    "# using pop() method\n",
    "pop_ele = Dict.pop(1)\n",
    "print('\\nDictionary after deletion: ' + str(Dict))\n",
    "print('Value associated to poped key is: ' + str(pop_ele))"
   ]
  },
  {
   "cell_type": "code",
   "execution_count": 28,
   "id": "b429f2aa",
   "metadata": {},
   "outputs": [
    {
     "name": "stdout",
     "output_type": "stream",
     "text": [
      "\n",
      "Dictionary after deletion: {1: 'Geeks', 'name': 'For'}\n",
      "The arbitrary pair returned is: (3, 'Geeks')\n"
     ]
    }
   ],
   "source": [
    "#The popitem() returns and removes an arbitrary element (key, value) pair from the dictionary.\n",
    "# Creating Dictionary\n",
    "Dict = {1: 'Geeks', 'name': 'For', 3: 'Geeks'}\n",
    "  \n",
    "# Deleting an arbitrary key\n",
    "# using popitem() function\n",
    "pop_ele = Dict.popitem()\n",
    "print(\"\\nDictionary after deletion: \" + str(Dict))\n",
    "print(\"The arbitrary pair returned is: \" + str(pop_ele))"
   ]
  },
  {
   "cell_type": "code",
   "execution_count": 30,
   "id": "292e0a0c",
   "metadata": {},
   "outputs": [
    {
     "ename": "NameError",
     "evalue": "name 'dict' is not defined",
     "output_type": "error",
     "traceback": [
      "\u001b[1;31m---------------------------------------------------------------------------\u001b[0m",
      "\u001b[1;31mNameError\u001b[0m                                 Traceback (most recent call last)",
      "\u001b[1;32m<ipython-input-30-82cd66d4d827>\u001b[0m in \u001b[0;36m<module>\u001b[1;34m\u001b[0m\n\u001b[0;32m      9\u001b[0m \u001b[1;31m# Deleting entire Dictionary\u001b[0m\u001b[1;33m\u001b[0m\u001b[1;33m\u001b[0m\u001b[1;33m\u001b[0m\u001b[0m\n\u001b[0;32m     10\u001b[0m \u001b[0mDict\u001b[0m\u001b[1;33m.\u001b[0m\u001b[0mclear\u001b[0m\u001b[1;33m(\u001b[0m\u001b[1;33m)\u001b[0m\u001b[1;33m\u001b[0m\u001b[1;33m\u001b[0m\u001b[0m\n\u001b[1;32m---> 11\u001b[1;33m \u001b[1;32mdel\u001b[0m \u001b[0mdict\u001b[0m\u001b[1;33m\u001b[0m\u001b[1;33m\u001b[0m\u001b[0m\n\u001b[0m\u001b[0;32m     12\u001b[0m \u001b[0mprint\u001b[0m\u001b[1;33m(\u001b[0m\u001b[1;34m\"\\nDeleting Entire Dictionary: \"\u001b[0m\u001b[1;33m)\u001b[0m\u001b[1;33m\u001b[0m\u001b[1;33m\u001b[0m\u001b[0m\n\u001b[0;32m     13\u001b[0m \u001b[0mprint\u001b[0m\u001b[1;33m(\u001b[0m\u001b[0mDict\u001b[0m\u001b[1;33m)\u001b[0m\u001b[1;33m\u001b[0m\u001b[1;33m\u001b[0m\u001b[0m\n",
      "\u001b[1;31mNameError\u001b[0m: name 'dict' is not defined"
     ]
    }
   ],
   "source": [
    "#Using clear() method\n",
    "#All the items from a dictionary can be deleted at once by using clear() method.\n",
    "\n",
    "\n",
    "# Creating a Dictionary\n",
    "Dict = {1: 'Geeks', 'name': 'For', 3: 'Geeks'}\n",
    "  \n",
    "  \n",
    "# Deleting entire Dictionary\n",
    "Dict.clear()\n",
    "#del dict\n",
    "print(\"\\nDeleting Entire Dictionary: \")\n",
    "print(Dict)"
   ]
  },
  {
   "cell_type": "markdown",
   "id": "69407b17",
   "metadata": {},
   "source": [
    "# ordered dict\n"
   ]
  },
  {
   "cell_type": "code",
   "execution_count": 15,
   "id": "3a4c76aa",
   "metadata": {},
   "outputs": [
    {
     "name": "stdout",
     "output_type": "stream",
     "text": [
      "This is a Dict:\n",
      "\n",
      "a 1\n",
      "b 2\n",
      "c 3\n",
      "d 4\n",
      "\n",
      "This is an Ordered Dict:\n",
      "\n",
      "a 1\n",
      "b 2\n",
      "c 3\n",
      "d 4\n"
     ]
    }
   ],
   "source": [
    "#An OrderedDict is a dictionary subclass that remembers the order that keys were first inserted.\n",
    "\"\"\"A regular dict doesn’t track the insertion order, and iterating it gives the values in an arbitrary order. \n",
    "By contrast, the order the items are inserted is remembered by OrderedDict.\n",
    "\"\"\"\n",
    "from collections import OrderedDict\n",
    "  \n",
    "print(\"This is a Dict:\\n\")\n",
    "d = {}\n",
    "d['a'] = 1\n",
    "d['b'] = 2\n",
    "d['c'] = 3\n",
    "d['d'] = 4\n",
    "  \n",
    "for key, value in d.items(): #it can be arbitory order\n",
    "    print(key, value)\n",
    "  \n",
    "print(\"\\nThis is an Ordered Dict:\\n\")\n",
    "od = OrderedDict()\n",
    "od['a'] = 1\n",
    "od['b'] = 2\n",
    "od['c'] = 3\n",
    "od['d'] = 4\n",
    "  \n",
    "for key, value in od.items():\n",
    "    print(key, value)"
   ]
  },
  {
   "cell_type": "code",
   "execution_count": 16,
   "id": "654f0867",
   "metadata": {},
   "outputs": [
    {
     "name": "stdout",
     "output_type": "stream",
     "text": [
      "Before:\n",
      "\n",
      "a 1\n",
      "b 2\n",
      "c 3\n",
      "d 4\n",
      "\n",
      "After:\n",
      "\n",
      "a 1\n",
      "b 2\n",
      "c 5\n",
      "d 4\n"
     ]
    }
   ],
   "source": [
    "#Key value Change: \n",
    "from collections import OrderedDict\n",
    "  \n",
    "print(\"Before:\\n\")\n",
    "od = OrderedDict()\n",
    "od['a'] = 1\n",
    "od['b'] = 2\n",
    "od['c'] = 3\n",
    "od['d'] = 4\n",
    "for key, value in od.items():\n",
    "    print(key, value)\n",
    "  \n",
    "print(\"\\nAfter:\\n\")\n",
    "od['c'] = 5\n",
    "for key, value in od.items():\n",
    "    print(key, value)"
   ]
  },
  {
   "cell_type": "code",
   "execution_count": 17,
   "id": "82f6ffc7",
   "metadata": {},
   "outputs": [
    {
     "name": "stdout",
     "output_type": "stream",
     "text": [
      "Before deleting:\n",
      "\n",
      "a 1\n",
      "b 2\n",
      "c 3\n",
      "d 4\n",
      "\n",
      "After deleting:\n",
      "\n",
      "a 1\n",
      "b 2\n",
      "d 4\n",
      "\n",
      "After re-inserting:\n",
      "\n",
      "a 1\n",
      "b 2\n",
      "d 4\n",
      "c 3\n"
     ]
    }
   ],
   "source": [
    "# re-inserion in OrderedDict\n",
    "from collections import OrderedDict\n",
    "  \n",
    "print(\"Before deleting:\\n\")\n",
    "od = OrderedDict()\n",
    "od['a'] = 1\n",
    "od['b'] = 2\n",
    "od['c'] = 3\n",
    "od['d'] = 4\n",
    "  \n",
    "for key, value in od.items():\n",
    "    print(key, value)\n",
    "  \n",
    "print(\"\\nAfter deleting:\\n\")\n",
    "od.pop('c')\n",
    "for key, value in od.items():\n",
    "    print(key, value)\n",
    "  \n",
    "print(\"\\nAfter re-inserting:\\n\")\n",
    "od['c'] = 3\n",
    "for key, value in od.items():\n",
    "    print(key, value)"
   ]
  },
  {
   "cell_type": "code",
   "execution_count": 18,
   "id": "e2f19990",
   "metadata": {
    "scrolled": true
   },
   "outputs": [
    {
     "data": {
      "text/plain": [
       "'Other Considerations:\\n\\nOrdered dict in Python version 2.7 consumes more memory than normal dict. This is due to the underlying Doubly Linked List implementation for keeping the order. In Python 2.7 Ordered Dict is not dict subclass, it’s a specialized container from collections module.\\nStarting from Python 3.7, insertion order of Python dictionaries is guaranteed.\\nOrdered Dict can be used as a stack with the help of popitem function. Try implementing LRU cache with Ordered Dict.'"
      ]
     },
     "execution_count": 18,
     "metadata": {},
     "output_type": "execute_result"
    }
   ],
   "source": [
    "\"\"\"Other Considerations:\n",
    "\n",
    "Ordered dict in Python version 2.7 consumes more memory than normal dict. This is due to the underlying Doubly Linked List implementation for keeping the order. In Python 2.7 Ordered Dict is not dict subclass, it’s a specialized container from collections module.\n",
    "Starting from Python 3.7, insertion order of Python dictionaries is guaranteed.\n",
    "Ordered Dict can be used as a stack with the help of popitem function. Try implementing LRU cache with Ordered Dict.\"\"\""
   ]
  },
  {
   "cell_type": "markdown",
   "id": "28b0cbb9",
   "metadata": {},
   "source": [
    "# setdefault()\n"
   ]
  },
  {
   "cell_type": "code",
   "execution_count": 31,
   "id": "5a0bc7a5",
   "metadata": {},
   "outputs": [
    {
     "data": {
      "text/plain": [
       "'Syntax: dict.setdefault(key, default_value)\\nParameters: It takes two parameters: \\nkey – Key to be searched in the dictionary. \\ndefault_value (optional) – Key with a value default_value is inserted to the dictionary if key is not in the dictionary. If not provided, the default_value will be None.\\nReturns: \\nValue of the key if it is in the dictionary. \\nNone if key is not in the dictionary and default_value is not specified. \\ndefault_value if key is not in the dictionary and default_value is specified.'"
      ]
     },
     "execution_count": 31,
     "metadata": {},
     "output_type": "execute_result"
    }
   ],
   "source": [
    "\"\"\"Syntax: dict.setdefault(key, default_value)\n",
    "Parameters: It takes two parameters: \n",
    "key – Key to be searched in the dictionary. \n",
    "default_value (optional) – Key with a value default_value is inserted to the dictionary if key is not in the dictionary. If not provided, the default_value will be None.\n",
    "Returns: \n",
    "Value of the key if it is in the dictionary. \n",
    "None if key is not in the dictionary and default_value is not specified. \n",
    "default_value if key is not in the dictionary and default_value is specified.\"\"\""
   ]
  },
  {
   "cell_type": "code",
   "execution_count": 32,
   "id": "f70c0af8",
   "metadata": {},
   "outputs": [
    {
     "name": "stdout",
     "output_type": "stream",
     "text": [
      "Dictionary: {'A': 'Geeks', 'B': 'For', 'C': 'Geeks'}\n",
      "Third_value: Geeks\n"
     ]
    }
   ],
   "source": [
    "# of setdefault() method in Dictionary\n",
    " \n",
    "Dictionary1 = { 'A': 'Geeks', 'B': 'For', 'C': 'Geeks'}\n",
    " \n",
    "# using setdefault() method\n",
    "Third_value = Dictionary1.setdefault('C')\n",
    "print(\"Dictionary:\", Dictionary1)\n",
    "print(\"Third_value:\", Third_value)"
   ]
  },
  {
   "cell_type": "code",
   "execution_count": 34,
   "id": "75ff89f0",
   "metadata": {},
   "outputs": [
    {
     "name": "stdout",
     "output_type": "stream",
     "text": [
      "Dictionary: {'A': 'Geeks', 'B': 'For', 'C': None}\n",
      "Third_value: None\n",
      "Dictionary: {'A': 'Geeks', 'B': 'For', 'C': None, 'D': 'Geeks'}\n",
      "Fourth_value: Geeks\n"
     ]
    }
   ],
   "source": [
    "Dictionary1 = { 'A': 'Geeks', 'B': 'For'}\n",
    " \n",
    "# using setdefault() method when key is not in the Dictionary\n",
    "Third_value = Dictionary1.setdefault('C') #it also add key value pair in dict\n",
    "print(\"Dictionary:\", Dictionary1)\n",
    "print(\"Third_value:\", Third_value)\n",
    " \n",
    "# using setdefault() method when key is not in the Dictionary but default value is provided\n",
    "Fourth_value = Dictionary1.setdefault('D', 'Geeks')\n",
    "print(\"Dictionary:\", Dictionary1)\n",
    "print(\"Fourth_value:\", Fourth_value)"
   ]
  },
  {
   "cell_type": "code",
   "execution_count": null,
   "id": "bbcf04fb",
   "metadata": {},
   "outputs": [],
   "source": []
  },
  {
   "cell_type": "code",
   "execution_count": null,
   "id": "e3b67e06",
   "metadata": {},
   "outputs": [],
   "source": []
  },
  {
   "cell_type": "markdown",
   "id": "015146f0",
   "metadata": {},
   "source": [
    "# Default dict"
   ]
  },
  {
   "cell_type": "code",
   "execution_count": 20,
   "id": "4b03353d",
   "metadata": {},
   "outputs": [
    {
     "name": "stdout",
     "output_type": "stream",
     "text": [
      "Dictionary:\n",
      "{1: 'Geeks', 2: 'For', 3: 'Geeks'}\n",
      "Geeks\n"
     ]
    },
    {
     "ename": "KeyError",
     "evalue": "4",
     "output_type": "error",
     "traceback": [
      "\u001b[1;31m---------------------------------------------------------------------------\u001b[0m",
      "\u001b[1;31mKeyError\u001b[0m                                  Traceback (most recent call last)",
      "\u001b[1;32m<ipython-input-20-1adfddf0e22b>\u001b[0m in \u001b[0;36m<module>\u001b[1;34m\u001b[0m\n\u001b[0;32m      7\u001b[0m \u001b[0mprint\u001b[0m\u001b[1;33m(\u001b[0m\u001b[0mDict\u001b[0m\u001b[1;33m)\u001b[0m\u001b[1;33m\u001b[0m\u001b[1;33m\u001b[0m\u001b[0m\n\u001b[0;32m      8\u001b[0m \u001b[0mprint\u001b[0m\u001b[1;33m(\u001b[0m\u001b[0mDict\u001b[0m\u001b[1;33m[\u001b[0m\u001b[1;36m1\u001b[0m\u001b[1;33m]\u001b[0m\u001b[1;33m)\u001b[0m\u001b[1;33m\u001b[0m\u001b[1;33m\u001b[0m\u001b[0m\n\u001b[1;32m----> 9\u001b[1;33m \u001b[0mprint\u001b[0m\u001b[1;33m(\u001b[0m\u001b[0mDict\u001b[0m\u001b[1;33m[\u001b[0m\u001b[1;36m4\u001b[0m\u001b[1;33m]\u001b[0m\u001b[1;33m)\u001b[0m\u001b[1;33m\u001b[0m\u001b[1;33m\u001b[0m\u001b[0m\n\u001b[0m\u001b[0;32m     10\u001b[0m \u001b[1;31m# will raise a KeyError as the\u001b[0m\u001b[1;33m\u001b[0m\u001b[1;33m\u001b[0m\u001b[1;33m\u001b[0m\u001b[0m\n\u001b[0;32m     11\u001b[0m \u001b[1;31m# 4 is not present in the dictionary\u001b[0m\u001b[1;33m\u001b[0m\u001b[1;33m\u001b[0m\u001b[1;33m\u001b[0m\u001b[0m\n",
      "\u001b[1;31mKeyError\u001b[0m: 4"
     ]
    }
   ],
   "source": [
    "# Python program to demonstrate\n",
    "# dictionary\n",
    "  \n",
    "  \n",
    "Dict = {1: 'Geeks', 2: 'For', 3: 'Geeks'} \n",
    "print(\"Dictionary:\") \n",
    "print(Dict)\n",
    "print(Dict[1])\n",
    "#print(Dict[4])\n",
    "# will raise a KeyError as the\n",
    "# 4 is not present in the dictionary"
   ]
  },
  {
   "cell_type": "code",
   "execution_count": 35,
   "id": "65b09977",
   "metadata": {},
   "outputs": [
    {
     "data": {
      "text/plain": [
       "'Sometimes, when the KeyError is raised, it might become a problem. To overcome this Python introduces another \\ndictionary like container known as Defaultdict which is present inside the collections module.'"
      ]
     },
     "execution_count": 35,
     "metadata": {},
     "output_type": "execute_result"
    }
   ],
   "source": [
    "\"\"\"Sometimes, when the KeyError is raised, it might become a problem. To overcome this Python introduces another \n",
    "dictionary like container known as Defaultdict which is present inside the collections module.\"\"\""
   ]
  },
  {
   "cell_type": "code",
   "execution_count": null,
   "id": "839b85e4",
   "metadata": {},
   "outputs": [],
   "source": [
    "\"\"\"Defaultdict is a container like dictionaries present in the module collections.\n",
    "Defaultdict is a sub-class of the dict class that returns a dictionary-like object.\n",
    "The functionality of both dictionaries and defualtdict are almost same\n",
    "except for the fact that defualtdict never raises a KeyError. It provides a default value for the key that does not exists.\n",
    "\n",
    "Syntax: defaultdict(default_factory)\n",
    "\n",
    "Parameters:\n",
    "\n",
    "default_factory: A function returning the default value for the dictionary defined. \n",
    "If this argument is absent then the dictionary raises a KeyError.\"\"\""
   ]
  },
  {
   "cell_type": "code",
   "execution_count": 37,
   "id": "ad4e1118",
   "metadata": {},
   "outputs": [
    {
     "name": "stdout",
     "output_type": "stream",
     "text": [
      "1\n",
      "2\n",
      "Not Present\n"
     ]
    }
   ],
   "source": [
    "from collections import defaultdict\n",
    "\n",
    "# Function to return a default values for keys that is not present\n",
    "def def_value():\n",
    "    return \"Not Present\"\n",
    "      \n",
    "# Defining the dict\n",
    "d = defaultdict(def_value)\n",
    "d[\"a\"] = 1\n",
    "d[\"b\"] = 2\n",
    "  \n",
    "print(d[\"a\"])\n",
    "print(d[\"b\"])\n",
    "print(d[\"c\"])\n"
   ]
  },
  {
   "cell_type": "code",
   "execution_count": 38,
   "id": "caa45be0",
   "metadata": {},
   "outputs": [
    {
     "name": "stdout",
     "output_type": "stream",
     "text": [
      "1\n",
      "2\n",
      "Not Present\n"
     ]
    }
   ],
   "source": [
    "  \n",
    "from collections import defaultdict\n",
    "  \n",
    "      \n",
    "# Defining the dict and passing \n",
    "# lambda as default_factory argument\n",
    "d = defaultdict(lambda: \"Not Present\")\n",
    "d[\"a\"] = 1\n",
    "d[\"b\"] = 2\n",
    "  \n",
    "print(d[\"a\"])\n",
    "print(d[\"b\"])\n",
    "print(d[\"c\"])"
   ]
  },
  {
   "cell_type": "code",
   "execution_count": null,
   "id": "3bfdcaff",
   "metadata": {},
   "outputs": [],
   "source": [
    "#__missing__(): This function is used to provide the default value for the dictionary. \n",
    "#This function takes default_factory as an argument and if this argument is None, a KeyError is raised\n",
    "#otherwise it provides a default value for the given key. This method is basically called by the __getitem__() method \n",
    "#of the dict class when the requested key is not found. __getitem__() raises \n",
    "#or return the value returned by the __missing__(). method."
   ]
  },
  {
   "cell_type": "code",
   "execution_count": 39,
   "id": "13b5927e",
   "metadata": {},
   "outputs": [
    {
     "name": "stdout",
     "output_type": "stream",
     "text": [
      "Not Present\n",
      "Not Present\n"
     ]
    }
   ],
   "source": [
    "from collections import defaultdict\n",
    "  \n",
    "      \n",
    "# Defining the dict\n",
    "d = defaultdict(lambda: \"Not Present\")\n",
    "d[\"a\"] = 1\n",
    "d[\"b\"] = 2\n",
    "  \n",
    "# Provides the default value \n",
    "# for the key\n",
    "print(d.__missing__('a'))\n",
    "print(d.__missing__('d'))"
   ]
  },
  {
   "cell_type": "code",
   "execution_count": 40,
   "id": "5e2a6e74",
   "metadata": {},
   "outputs": [
    {
     "name": "stdout",
     "output_type": "stream",
     "text": [
      "Dictionary with values as list:\n",
      "defaultdict(<class 'list'>, {0: [0], 1: [1], 2: [2], 3: [3], 4: [4]})\n"
     ]
    }
   ],
   "source": [
    "#When the list class is passed as the default_factory argument,\n",
    "#then a defaultdict is created with the values that are list\n",
    "\n",
    "# Python program to demonstrate\n",
    "# defaultdict\n",
    "  \n",
    "  \n",
    "from collections import defaultdict\n",
    "  \n",
    "  \n",
    "# Defining a dict\n",
    "d = defaultdict(list)\n",
    "  \n",
    "for i in range(5):\n",
    "    d[i].append(i)\n",
    "      \n",
    "print(\"Dictionary with values as list:\")\n",
    "print(d)"
   ]
  },
  {
   "cell_type": "code",
   "execution_count": 41,
   "id": "15f2fb63",
   "metadata": {},
   "outputs": [
    {
     "name": "stdout",
     "output_type": "stream",
     "text": [
      "defaultdict(<class 'int'>, {1: 2, 2: 3, 3: 1, 4: 2})\n"
     ]
    }
   ],
   "source": [
    "#Using int as default_factory\n",
    "#When the int class is passed as the default_factory argument, then a defaultdict is created with default value as zero.\n",
    "from collections import defaultdict\n",
    "   \n",
    "   \n",
    "# Defining the dict\n",
    "d = defaultdict(int)\n",
    "   \n",
    "L = [1, 2, 3, 4, 2, 4, 1, 2]\n",
    "   \n",
    "# Iterate through the list\n",
    "# for keeping the count\n",
    "for i in L:\n",
    "       \n",
    "    # The default value is 0\n",
    "    # so there is no need to \n",
    "    # enter the key first\n",
    "    d[i] += 1\n",
    "       \n",
    "print(d)"
   ]
  },
  {
   "cell_type": "code",
   "execution_count": null,
   "id": "67e753c6",
   "metadata": {},
   "outputs": [],
   "source": []
  }
 ],
 "metadata": {
  "kernelspec": {
   "display_name": "Python 3",
   "language": "python",
   "name": "python3"
  },
  "language_info": {
   "codemirror_mode": {
    "name": "ipython",
    "version": 3
   },
   "file_extension": ".py",
   "mimetype": "text/x-python",
   "name": "python",
   "nbconvert_exporter": "python",
   "pygments_lexer": "ipython3",
   "version": "3.9.4"
  }
 },
 "nbformat": 4,
 "nbformat_minor": 5
}
