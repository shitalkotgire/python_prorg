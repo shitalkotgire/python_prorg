{
 "cells": [
  {
   "cell_type": "code",
   "execution_count": 2,
   "id": "92b3f478",
   "metadata": {},
   "outputs": [
    {
     "name": "stdout",
     "output_type": "stream",
     "text": [
      "system version: 3.9.4 (tags/v3.9.4:1f2e308, Apr  6 2021, 13:40:21) [MSC v.1928 64 bit (AMD64)]\n",
      "system info:sys.version_info(major=3, minor=9, micro=4, releaselevel='final', serial=0)\n"
     ]
    }
   ],
   "source": [
    "#Write a Python program to get the Python version you are using\n",
    "import sys\n",
    "#dir(sys)\n",
    "print (f\"system version: {sys.version}\")\n",
    "print (f\"system info:{sys.version_info}\")\n"
   ]
  },
  {
   "cell_type": "code",
   "execution_count": 3,
   "id": "9a83aa1b",
   "metadata": {},
   "outputs": [
    {
     "data": {
      "text/plain": [
       "['MAXYEAR',\n",
       " 'MINYEAR',\n",
       " '__all__',\n",
       " '__builtins__',\n",
       " '__cached__',\n",
       " '__doc__',\n",
       " '__file__',\n",
       " '__loader__',\n",
       " '__name__',\n",
       " '__package__',\n",
       " '__spec__',\n",
       " 'date',\n",
       " 'datetime',\n",
       " 'datetime_CAPI',\n",
       " 'sys',\n",
       " 'time',\n",
       " 'timedelta',\n",
       " 'timezone',\n",
       " 'tzinfo']"
      ]
     },
     "execution_count": 3,
     "metadata": {},
     "output_type": "execute_result"
    }
   ],
   "source": [
    "#Write a Python program to display the current date and time\n",
    "import datetime\n",
    "dir(datetime)\n"
   ]
  },
  {
   "cell_type": "code",
   "execution_count": 8,
   "id": "0d460f4b",
   "metadata": {},
   "outputs": [
    {
     "name": "stdout",
     "output_type": "stream",
     "text": [
      "2021-05-18 17:50:37.264862\n"
     ]
    }
   ],
   "source": [
    "print (datetime.datetime.now())"
   ]
  },
  {
   "cell_type": "code",
   "execution_count": 9,
   "id": "958371fd",
   "metadata": {},
   "outputs": [
    {
     "name": "stdout",
     "output_type": "stream",
     "text": [
      "Current date and time : \n",
      "2021-05-18 17:53:41\n"
     ]
    }
   ],
   "source": [
    "now = datetime.datetime.now()\n",
    "print (\"Current date and time : \")\n",
    "print (now.strftime(\"%Y-%m-%d %H:%M:%S\"))\n"
   ]
  },
  {
   "cell_type": "code",
   "execution_count": 14,
   "id": "ddc8d3b8",
   "metadata": {},
   "outputs": [
    {
     "name": "stdout",
     "output_type": "stream",
     "text": [
      "Enter comma separated no's:1,2,3,4\n",
      "<class 'list'>\n",
      "list:['1', '2', '3', '4']\n",
      "tupule:('1', '2', '3', '4')\n"
     ]
    }
   ],
   "source": [
    "#rogram which accepts a sequence of comma-separated numbers from user and generate a list and a tuple with those numbers. \n",
    "items=input(\"Enter comma separated no's:\")\n",
    "#print(items.split(\",\"))\n",
    "list1=items.split(\",\") #by default it stores in list\n",
    "tup=tuple(list1)\n",
    "print(type(list1))\n",
    "print(f\"list:{list1}\")\n",
    "print(f\"tupule:{tup}\")"
   ]
  },
  {
   "cell_type": "code",
   "execution_count": 17,
   "id": "73725941",
   "metadata": {},
   "outputs": [
    {
     "name": "stdout",
     "output_type": "stream",
     "text": [
      "Enter file name(with extention):123.txt\n",
      "extention of file is .txt\n"
     ]
    }
   ],
   "source": [
    "#program to accept a filename from the user and print the extension of that.\n",
    "file_name=input(\"Enter file name(with extention):\")\n",
    "s=file_name.split(\".\")\n",
    "print (f\"extention of file is .{s[-1]}\")"
   ]
  },
  {
   "cell_type": "code",
   "execution_count": 20,
   "id": "a5e6dc5d",
   "metadata": {},
   "outputs": [
    {
     "name": "stdout",
     "output_type": "stream",
     "text": [
      "<class 'tuple'>\n",
      "The examination will start from : 11 / 12 / 2014\n",
      "The examination will start from : 11 / 12 / 2014\n"
     ]
    }
   ],
   "source": [
    "exam_st_date = (11,12,2014)\n",
    "print(type(exam_st_date))\n",
    "print( \"The examination will start from : %i / %i / %i\" %exam_st_date)\n",
    "print( \"The examination will start from : %d / %d / %d\" %exam_st_date)"
   ]
  },
  {
   "cell_type": "code",
   "execution_count": 23,
   "id": "b3f00074",
   "metadata": {},
   "outputs": [
    {
     "name": "stdout",
     "output_type": "stream",
     "text": [
      "Enter any single digit no:5\n",
      "5 55 555\n",
      "sum of 5+55+555=615\n"
     ]
    }
   ],
   "source": [
    "# program that accepts an integer (n) and computes the value of n+nn+nnn.\n",
    "n=input(\"Enter any single digit no:\")\n",
    "nn=n*2\n",
    "nnn=n*3\n",
    "print(n,nn,nnn)\n",
    "sum =int(n)+int(nn)+int(nnn)\n",
    "print(f\"sum of {n}+{nn}+{nnn}={sum}\")"
   ]
  },
  {
   "cell_type": "code",
   "execution_count": 30,
   "id": "fd375e66",
   "metadata": {},
   "outputs": [
    {
     "name": "stdout",
     "output_type": "stream",
     "text": [
      "Return the absolute value of the argument.\n",
      "print(value, ..., sep=' ', end='\\n', file=sys.stdout, flush=False)\n",
      "\n",
      "Prints the values to a stream, or to sys.stdout by default.\n",
      "Optional keyword arguments:\n",
      "file:  a file-like object (stream); defaults to the current sys.stdout.\n",
      "sep:   string inserted between values, default a space.\n",
      "end:   string appended after the last value, default a newline.\n",
      "flush: whether to forcibly flush the stream.\n"
     ]
    }
   ],
   "source": [
    "#program to print the documents (syntax, description etc.) of Python built-in function(s)\n",
    "#Sample function : abs()\n",
    "print(abs.__doc__)\n",
    "#print(sum.__doc__)\n",
    "print(print.__doc__)\n",
    "print "
   ]
  },
  {
   "cell_type": "code",
   "execution_count": 41,
   "id": "e4f23ed1",
   "metadata": {},
   "outputs": [
    {
     "name": "stdout",
     "output_type": "stream",
     "text": [
      "Enter the year:21\n",
      "Enter the month:3\n",
      "      March 21\n",
      "Mo Tu We Th Fr Sa Su\n",
      " 1  2  3  4  5  6  7\n",
      " 8  9 10 11 12 13 14\n",
      "15 16 17 18 19 20 21\n",
      "22 23 24 25 26 27 28\n",
      "29 30 31\n",
      "\n"
     ]
    }
   ],
   "source": [
    "#Write a Python program to print the calendar of a given month and year.\n",
    "#Note: Use 'calendar' module.\n",
    "import calendar\n",
    "y=int(input(\"Enter the year:\"))\n",
    "m=int(input(\"Enter the month:\"))\n",
    "print (calendar.month(y,m))\n"
   ]
  },
  {
   "cell_type": "code",
   "execution_count": null,
   "id": "057f250d",
   "metadata": {},
   "outputs": [],
   "source": [
    "#Write a Python program to calculate number of days between two dates.\n",
    "Sample dates : (2014, 7, 2), (2014, 7, 11)\n",
    "Expected output : 9 days\n",
    "    "
   ]
  },
  {
   "cell_type": "code",
   "execution_count": 56,
   "id": "f8bf221f",
   "metadata": {},
   "outputs": [
    {
     "name": "stdout",
     "output_type": "stream",
     "text": [
      "2021-01-01\n",
      "<class 'datetime.date'>\n",
      "40 days, 0:00:00\n",
      "<class 'datetime.timedelta'>\n",
      "40\n"
     ]
    }
   ],
   "source": [
    "#from datetime import date\n",
    "import datetime\n",
    "f_date=date(2021,1,1)\n",
    "e_date=date(2021,2,10)\n",
    "print(f_date)\n",
    "print(type(f_date))\n",
    "diff=e_date - f_date\n",
    "print(diff)\n",
    "print(type(diff))\n",
    "print(diff.days)"
   ]
  },
  {
   "cell_type": "code",
   "execution_count": 57,
   "id": "48884406",
   "metadata": {},
   "outputs": [
    {
     "name": "stdout",
     "output_type": "stream",
     "text": [
      "abcabc\n",
      ".py.py.py\n"
     ]
    }
   ],
   "source": [
    "def larger_string(str, n):\n",
    "   result = \"\"\n",
    "   for i in range(n):\n",
    "      result = result + str\n",
    "   return result\n",
    "\n",
    "print(larger_string('abc', 2))\n",
    "print(larger_string('.py', 3))"
   ]
  },
  {
   "cell_type": "code",
   "execution_count": 62,
   "id": "1e37cbcc",
   "metadata": {},
   "outputs": [
    {
     "name": "stdout",
     "output_type": "stream",
     "text": [
      "Enter a string:hi\n",
      "Enter a number:5\n",
      "hihihihihi\n",
      "hi*5: hihihihihi\n"
     ]
    }
   ],
   "source": [
    "str=input(\"Enter a string:\")\n",
    "n=int(input(\"Enter a number:\"))\n",
    "print(str*n)\n",
    "print(f\"{str}*{n}:\",str*n)"
   ]
  },
  {
   "cell_type": "code",
   "execution_count": 73,
   "id": "5f75c0ea",
   "metadata": {},
   "outputs": [
    {
     "name": "stdout",
     "output_type": "stream",
     "text": [
      "6.324555320336759\n"
     ]
    }
   ],
   "source": [
    "#program to compute the distance between the points (x1, y1) and (x2, y2).\n",
    "#distance=squareroot(x2-x2)^2+ (y2-y1)^2 \n",
    "import math\n",
    "p1 = [4, 0]\n",
    "p2 = [6, 6]\n",
    "distance = math.sqrt( ((p1[0]-p2[0])**2)+((p1[1]-p2[1])**2) )\n",
    "\n",
    "print(distance)"
   ]
  },
  {
   "cell_type": "code",
   "execution_count": 76,
   "id": "086b29c0",
   "metadata": {},
   "outputs": [
    {
     "data": {
      "text/plain": [
       "<_io.TextIOWrapper name='abc.txt' mode='w' encoding='cp1252'>"
      ]
     },
     "execution_count": 76,
     "metadata": {},
     "output_type": "execute_result"
    }
   ],
   "source": [
    "#Write a Python program to check whether a file exists.\n",
    "import os.path\n",
    "open('abc.txt', 'w')\n",
    "print(os.path.isfile('abc.txt'))\n",
    "\n",
    "#this will always return true because even if the file doesn't exist it will be created."
   ]
  },
  {
   "cell_type": "code",
   "execution_count": 77,
   "id": "20fd2d3a",
   "metadata": {},
   "outputs": [
    {
     "name": "stdout",
     "output_type": "stream",
     "text": [
      "{True: 'Tips'}\n"
     ]
    }
   ],
   "source": [
    "print({True: 'yes', 1: 'no', 1.0: 'Tips'})"
   ]
  },
  {
   "cell_type": "code",
   "execution_count": 80,
   "id": "34e677f7",
   "metadata": {},
   "outputs": [
    {
     "name": "stdout",
     "output_type": "stream",
     "text": [
      "True\n"
     ]
    }
   ],
   "source": [
    "import os.path\n",
    "try:\n",
    "    with open('abc.txt', 'r') as f_check:\n",
    "        pass\n",
    "except FileNotFoundError as notfound:\n",
    "    pass\n",
    "\n",
    "print(os.path.isfile('abc.txt'))"
   ]
  },
  {
   "cell_type": "code",
   "execution_count": 89,
   "id": "3702062b",
   "metadata": {},
   "outputs": [
    {
     "ename": "TypeError",
     "evalue": "'str' object is not callable",
     "output_type": "error",
     "traceback": [
      "\u001b[1;31m---------------------------------------------------------------------------\u001b[0m",
      "\u001b[1;31mTypeError\u001b[0m                                 Traceback (most recent call last)",
      "\u001b[1;32m<ipython-input-89-befb72954732>\u001b[0m in \u001b[0;36m<module>\u001b[1;34m\u001b[0m\n\u001b[0;32m      4\u001b[0m \u001b[1;32mfor\u001b[0m \u001b[0mi\u001b[0m \u001b[1;32min\u001b[0m \u001b[0mlist1\u001b[0m\u001b[1;33m:\u001b[0m\u001b[1;33m\u001b[0m\u001b[1;33m\u001b[0m\u001b[0m\n\u001b[0;32m      5\u001b[0m     \u001b[1;31m#print(str(i))\u001b[0m\u001b[1;33m\u001b[0m\u001b[1;33m\u001b[0m\u001b[1;33m\u001b[0m\u001b[0m\n\u001b[1;32m----> 6\u001b[1;33m     \u001b[0mstr1\u001b[0m\u001b[1;33m=\u001b[0m\u001b[0mstr1\u001b[0m\u001b[1;33m+\u001b[0m\u001b[0mstr\u001b[0m\u001b[1;33m(\u001b[0m\u001b[0mi\u001b[0m\u001b[1;33m)\u001b[0m\u001b[1;33m\u001b[0m\u001b[1;33m\u001b[0m\u001b[0m\n\u001b[0m\u001b[0;32m      7\u001b[0m \u001b[0mprint\u001b[0m\u001b[1;33m(\u001b[0m\u001b[0mstr1\u001b[0m\u001b[1;33m)\u001b[0m\u001b[1;33m\u001b[0m\u001b[1;33m\u001b[0m\u001b[0m\n",
      "\u001b[1;31mTypeError\u001b[0m: 'str' object is not callable"
     ]
    }
   ],
   "source": [
    "#program to concatenate all elements in a list into a string and return\n",
    "list1=[1,2,3,4,5]\n",
    "str1=''\n",
    "for i in list1:\n",
    "    #print(str(i))\n",
    "    str1=str1+str(i)\n",
    "print(str1)"
   ]
  },
  {
   "cell_type": "code",
   "execution_count": 91,
   "id": "53d584ff",
   "metadata": {},
   "outputs": [
    {
     "name": "stdout",
     "output_type": "stream",
     "text": [
      "1\n",
      "2\n",
      "24\n"
     ]
    }
   ],
   "source": [
    "#program to compute the greatest common divisor (GCD) of two positive integers.\n",
    "def gcd(x, y):\n",
    "    gcd = 1\n",
    "    \n",
    "    if x % y == 0:\n",
    "        return y\n",
    "    \n",
    "    for k in range(int(y / 2), 0, -1):\n",
    "        if x % k == 0 and y % k == 0:\n",
    "            gcd = k\n",
    "            break  \n",
    "    return gcd\n",
    "\n",
    "print(gcd(12, 17))\n",
    "print(gcd(4, 6))\n",
    "print(gcd(336,360))\n"
   ]
  },
  {
   "cell_type": "code",
   "execution_count": 92,
   "id": "3d2ffa6d",
   "metadata": {},
   "outputs": [
    {
     "name": "stdout",
     "output_type": "stream",
     "text": [
      "12\n",
      "255\n"
     ]
    }
   ],
   "source": [
    "#program to get the least common multiple (LCM) of two positive integers.\n",
    "def lcm(x, y):\n",
    "   if x > y:\n",
    "       z = x\n",
    "   else:\n",
    "       z = y\n",
    "\n",
    "   while(True):\n",
    "       if((z % x == 0) and (z % y == 0)):\n",
    "           lcm = z\n",
    "           break\n",
    "       z += 1\n",
    "\n",
    "   return lcm\n",
    "print(lcm(4, 6))\n",
    "print(lcm(15, 17))\n"
   ]
  },
  {
   "cell_type": "code",
   "execution_count": 93,
   "id": "b4d3d24e",
   "metadata": {},
   "outputs": [
    {
     "name": "stdout",
     "output_type": "stream",
     "text": [
      "30\n"
     ]
    }
   ],
   "source": [
    "#program to add two objects if both objects are an integer type.\n",
    "def add_numbers(a, b):\n",
    "    if not (isinstance(a, int) and isinstance(b, int)):\n",
    "         raise TypeError(\"Inputs must be integers\")\n",
    "    return a + b\n",
    "\n",
    "print(add_numbers(10, 20))"
   ]
  },
  {
   "cell_type": "code",
   "execution_count": 97,
   "id": "e1034ca9",
   "metadata": {},
   "outputs": [
    {
     "name": "stdout",
     "output_type": "stream",
     "text": [
      "False\n"
     ]
    }
   ],
   "source": [
    "print (isinstance(10.5, int))"
   ]
  },
  {
   "cell_type": "code",
   "execution_count": 99,
   "id": "19b13b40",
   "metadata": {},
   "outputs": [
    {
     "ename": "Exception",
     "evalue": "Sorry, no numbers below zero",
     "output_type": "error",
     "traceback": [
      "\u001b[1;31m---------------------------------------------------------------------------\u001b[0m",
      "\u001b[1;31mException\u001b[0m                                 Traceback (most recent call last)",
      "\u001b[1;32m<ipython-input-99-2edc57024fbc>\u001b[0m in \u001b[0;36m<module>\u001b[1;34m\u001b[0m\n\u001b[0;32m      2\u001b[0m \u001b[1;33m\u001b[0m\u001b[0m\n\u001b[0;32m      3\u001b[0m \u001b[1;32mif\u001b[0m \u001b[0mx\u001b[0m \u001b[1;33m<\u001b[0m \u001b[1;36m0\u001b[0m\u001b[1;33m:\u001b[0m\u001b[1;33m\u001b[0m\u001b[1;33m\u001b[0m\u001b[0m\n\u001b[1;32m----> 4\u001b[1;33m   \u001b[1;32mraise\u001b[0m \u001b[0mException\u001b[0m\u001b[1;33m(\u001b[0m\u001b[1;34m\"Sorry, no numbers below zero\"\u001b[0m\u001b[1;33m)\u001b[0m\u001b[1;33m\u001b[0m\u001b[1;33m\u001b[0m\u001b[0m\n\u001b[0m",
      "\u001b[1;31mException\u001b[0m: Sorry, no numbers below zero"
     ]
    }
   ],
   "source": [
    "x = -1\n",
    "\n",
    "if x < 0:\n",
    "  raise Exception(\"Sorry, no numbers below zero\")\n"
   ]
  },
  {
   "cell_type": "code",
   "execution_count": 103,
   "id": "61024dac",
   "metadata": {},
   "outputs": [
    {
     "ename": "TypeError",
     "evalue": "Only integers are allowed",
     "output_type": "error",
     "traceback": [
      "\u001b[1;31m---------------------------------------------------------------------------\u001b[0m",
      "\u001b[1;31mTypeError\u001b[0m                                 Traceback (most recent call last)",
      "\u001b[1;32m<ipython-input-103-ce8aca7ae648>\u001b[0m in \u001b[0;36m<module>\u001b[1;34m\u001b[0m\n\u001b[0;32m      2\u001b[0m \u001b[1;33m\u001b[0m\u001b[0m\n\u001b[0;32m      3\u001b[0m \u001b[1;32mif\u001b[0m \u001b[1;32mnot\u001b[0m \u001b[0mtype\u001b[0m\u001b[1;33m(\u001b[0m\u001b[0mx\u001b[0m\u001b[1;33m)\u001b[0m \u001b[1;32mis\u001b[0m \u001b[0mint\u001b[0m\u001b[1;33m:\u001b[0m\u001b[1;33m\u001b[0m\u001b[1;33m\u001b[0m\u001b[0m\n\u001b[1;32m----> 4\u001b[1;33m       \u001b[1;32mraise\u001b[0m \u001b[0mTypeError\u001b[0m\u001b[1;33m(\u001b[0m\u001b[1;34m\"Only integers are allowed\"\u001b[0m\u001b[1;33m)\u001b[0m\u001b[1;33m\u001b[0m\u001b[1;33m\u001b[0m\u001b[0m\n\u001b[0m",
      "\u001b[1;31mTypeError\u001b[0m: Only integers are allowed"
     ]
    }
   ],
   "source": [
    "x = \"hello\"\n",
    "\n",
    "if not type(x) is int:\n",
    "      raise TypeError(\"Only integers are allowed\")"
   ]
  },
  {
   "cell_type": "code",
   "execution_count": 110,
   "id": "c1c172f1",
   "metadata": {},
   "outputs": [
    {
     "name": "stdout",
     "output_type": "stream",
     "text": [
      "64\n",
      "struct\n"
     ]
    }
   ],
   "source": [
    "#program to determine if a Python shell is executing in 32bit or 64bit mode on OS\n",
    "import struct\n",
    "print(struct.calcsize(\"P\") * 8)\n"
   ]
  },
  {
   "cell_type": "code",
   "execution_count": 111,
   "id": "a3293c3e",
   "metadata": {},
   "outputs": [
    {
     "name": "stdout",
     "output_type": "stream",
     "text": [
      "nt\n",
      "Windows\n",
      "10\n"
     ]
    }
   ],
   "source": [
    "#Write a Python program to get OS name, platform and release information.\n",
    "import platform\n",
    "import os\n",
    "print(os.name)\n",
    "print(platform.system())\n",
    "print(platform.release())"
   ]
  },
  {
   "cell_type": "code",
   "execution_count": 112,
   "id": "c5a94826",
   "metadata": {},
   "outputs": [
    {
     "name": "stdout",
     "output_type": "stream",
     "text": [
      "['d:\\\\users\\\\skotgire\\\\appdata\\\\local\\\\programs\\\\python\\\\python39', 'd:\\\\users\\\\skotgire\\\\appdata\\\\local\\\\programs\\\\python\\\\python39\\\\lib\\\\site-packages']\n"
     ]
    }
   ],
   "source": [
    "# program to locate Python site-packages.\n",
    "import site; \n",
    "print(site.getsitepackages())"
   ]
  },
  {
   "cell_type": "code",
   "execution_count": 116,
   "id": "a0c15d25",
   "metadata": {
    "scrolled": true
   },
   "outputs": [],
   "source": [
    "#program to get the path and name of the file that is currently executing\n",
    "#execute in pycham\n",
    "import os\n",
    "#print(\"Current File Name : \",os.path.realpath(__file__))"
   ]
  },
  {
   "cell_type": "code",
   "execution_count": 117,
   "id": "b4eb971a",
   "metadata": {},
   "outputs": [
    {
     "name": "stdout",
     "output_type": "stream",
     "text": [
      "8\n"
     ]
    }
   ],
   "source": [
    "#program to find out the number of CPUs using.\n",
    "\n",
    "import multiprocessing\n",
    "print(multiprocessing.cpu_count())"
   ]
  },
  {
   "cell_type": "code",
   "execution_count": 123,
   "id": "70a66eb5",
   "metadata": {},
   "outputs": [
    {
     "name": "stdout",
     "output_type": "stream",
     "text": [
      "['.ipynb_checkpoints', '123.rtf', 'Document.rtf', 'groupdisscution_shital', 'JN', 'prog1_venv', 'programs', 'project_venv', 'pychamproject2', 'pythonProject', 'pythonProject1', 'trialofgit']\n"
     ]
    }
   ],
   "source": [
    "#program to list all files in a directory in Python\n",
    "from os import listdir\n",
    "from os.path import isfile, join\n",
    "files_list = [f for f in listdir('d:/shital') ]\n",
    "#files_list = [f for f in listdir('d:/shital') if isfile(join('d:/shital', f))]\n",
    "print(files_list);\n"
   ]
  },
  {
   "cell_type": "code",
   "execution_count": null,
   "id": "73e74877",
   "metadata": {},
   "outputs": [],
   "source": []
  }
 ],
 "metadata": {
  "kernelspec": {
   "display_name": "Python 3",
   "language": "python",
   "name": "python3"
  },
  "language_info": {
   "codemirror_mode": {
    "name": "ipython",
    "version": 3
   },
   "file_extension": ".py",
   "mimetype": "text/x-python",
   "name": "python",
   "nbconvert_exporter": "python",
   "pygments_lexer": "ipython3",
   "version": "3.9.4"
  }
 },
 "nbformat": 4,
 "nbformat_minor": 5
}
