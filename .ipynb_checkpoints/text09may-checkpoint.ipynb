{
 "cells": [
  {
   "cell_type": "code",
   "execution_count": 50,
   "id": "91d4521e",
   "metadata": {},
   "outputs": [
    {
     "name": "stdout",
     "output_type": "stream",
     "text": [
      "1 6 2 7 3 8 4 9 5 10 "
     ]
    }
   ],
   "source": [
    "l1=[1,2,3,4,5]\n",
    "l2=[6,7,8,9,10]\n",
    "y=len(l1)\n",
    "for i in range (0,y):\n",
    "    print(l1[i],l2[i], end=\" \")\n",
    "   "
   ]
  },
  {
   "cell_type": "code",
   "execution_count": 38,
   "id": "605c5a39",
   "metadata": {},
   "outputs": [
    {
     "name": "stdout",
     "output_type": "stream",
     "text": [
      "{1: 2, 2: 3, 3: 4, 4: 5, 5: 6}\n"
     ]
    }
   ],
   "source": [
    "l1=[1,2,3,4,5]\n",
    "d={}\n",
    "#y=len(l1)\n",
    "#print(y)\n",
    "d={x: x  for x in l1}\n",
    "print(d)\n"
   ]
  },
  {
   "cell_type": "code",
   "execution_count": 56,
   "id": "44755540",
   "metadata": {},
   "outputs": [
    {
     "name": "stdout",
     "output_type": "stream",
     "text": [
      "['khush', 'trivadi', 'programmer']\n"
     ]
    }
   ],
   "source": [
    "list1=[\"khush\",\" \",\"trivadi\",\" \",\"programmer\"]\n",
    "list2=[]\n",
    "for i in list1:\n",
    "    if i==\" \":\n",
    "        continue\n",
    "    else:\n",
    "        list12=list2.append(i)\n",
    "print (list2)"
   ]
  },
  {
   "cell_type": "code",
   "execution_count": 81,
   "id": "c01868c1",
   "metadata": {},
   "outputs": [
    {
     "name": "stdout",
     "output_type": "stream",
     "text": [
      "['a', 'b', ['c', ['d', 'e', ['f', 'g', 'h', 'i', 'j'], 'k'], 'l'], 'm', 'n']\n"
     ]
    }
   ],
   "source": [
    "list1=['a','b',['c',['d','e',['f','g'],'k'],'l'],'m','n']\n",
    "list2=['h','i','j'] \n",
    "list1[2][1][2].extend(list2)\n",
    "print(list1)\n",
    " "
   ]
  },
  {
   "cell_type": "code",
   "execution_count": 82,
   "id": "7aa98bc4",
   "metadata": {},
   "outputs": [
    {
     "name": "stdout",
     "output_type": "stream",
     "text": [
      "['a', 'b', ['c', ['d', 'e', ['f', 'g', ['h', 'i', 'j']], 'k'], 'l'], 'm', 'n']\n"
     ]
    }
   ],
   "source": [
    "list1=['a','b',['c',['d','e',['f','g'],'k'],'l'],'m','n']\n",
    "list2=['h','i','j'] \n",
    "list1[2][1][2].append(list2)\n",
    "print(list1)\n",
    " "
   ]
  },
  {
   "cell_type": "code",
   "execution_count": null,
   "id": "f624ffdd",
   "metadata": {},
   "outputs": [],
   "source": []
  }
 ],
 "metadata": {
  "kernelspec": {
   "display_name": "Python 3",
   "language": "python",
   "name": "python3"
  },
  "language_info": {
   "codemirror_mode": {
    "name": "ipython",
    "version": 3
   },
   "file_extension": ".py",
   "mimetype": "text/x-python",
   "name": "python",
   "nbconvert_exporter": "python",
   "pygments_lexer": "ipython3",
   "version": "3.9.4"
  }
 },
 "nbformat": 4,
 "nbformat_minor": 5
}
