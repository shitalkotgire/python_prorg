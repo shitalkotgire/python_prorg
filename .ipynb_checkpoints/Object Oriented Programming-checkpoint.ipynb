{
 "cells": [
  {
   "cell_type": "markdown",
   "id": "b6b88d75",
   "metadata": {},
   "source": [
    "# object oriented programming\n",
    "\n"
   ]
  },
  {
   "cell_type": "code",
   "execution_count": 8,
   "id": "7480528c",
   "metadata": {},
   "outputs": [
    {
     "name": "stdout",
     "output_type": "stream",
     "text": [
      "shital\n",
      "30\n",
      "Hello my name is shital\n",
      "my age is  30\n"
     ]
    },
    {
     "ename": "AttributeError",
     "evalue": "'A' object has no attribute 'age'",
     "output_type": "error",
     "traceback": [
      "\u001b[1;31m---------------------------------------------------------------------------\u001b[0m",
      "\u001b[1;31mAttributeError\u001b[0m                            Traceback (most recent call last)",
      "\u001b[1;32m<ipython-input-8-57d10f361893>\u001b[0m in \u001b[0;36m<module>\u001b[1;34m\u001b[0m\n\u001b[0;32m     14\u001b[0m \u001b[1;31m#a.age=40\u001b[0m\u001b[1;33m\u001b[0m\u001b[1;33m\u001b[0m\u001b[1;33m\u001b[0m\u001b[0m\n\u001b[0;32m     15\u001b[0m \u001b[1;32mdel\u001b[0m \u001b[0ma\u001b[0m\u001b[1;33m.\u001b[0m\u001b[0mage\u001b[0m\u001b[1;33m\u001b[0m\u001b[1;33m\u001b[0m\u001b[0m\n\u001b[1;32m---> 16\u001b[1;33m \u001b[0mprint\u001b[0m\u001b[1;33m(\u001b[0m\u001b[0ma\u001b[0m\u001b[1;33m.\u001b[0m\u001b[0mage\u001b[0m\u001b[1;33m)\u001b[0m\u001b[1;33m\u001b[0m\u001b[1;33m\u001b[0m\u001b[0m\n\u001b[0m",
      "\u001b[1;31mAttributeError\u001b[0m: 'A' object has no attribute 'age'"
     ]
    }
   ],
   "source": [
    "class A: #class name start with capital letter\n",
    "#    doct_string--optinal\n",
    "    def __init__(self,name,age): #best for practice\n",
    "        #self it should be first parameter of fun--anyname ,it ref to selft instance of class\n",
    "        self.name=name\n",
    "        self.age=age\n",
    "    def myfun(self):\n",
    "        print(\"Hello my name is \"+self.name)\n",
    "        print(\"my age is \",self.age)\n",
    "a=A(\"shital\",30)\n",
    "print(a.name)\n",
    "print(a.age)\n",
    "a.myfun()\n",
    "#a.age=40\n",
    "del a.age\n",
    "print(a.age)"
   ]
  },
  {
   "cell_type": "code",
   "execution_count": 9,
   "id": "d55089eb",
   "metadata": {},
   "outputs": [
    {
     "name": "stdout",
     "output_type": "stream",
     "text": [
      "hi\n"
     ]
    }
   ],
   "source": [
    "class B():\n",
    "    def p(self):\n",
    "        print(\"hi\")\n",
    "b=B()\n",
    "b.p()\n"
   ]
  },
  {
   "cell_type": "code",
   "execution_count": 15,
   "id": "1a3f6be4",
   "metadata": {},
   "outputs": [
    {
     "name": "stdout",
     "output_type": "stream",
     "text": [
      "my name is shital\n"
     ]
    }
   ],
   "source": [
    "class A:\n",
    "    def __init(self):\n",
    "        pass\n",
    "    def myfun(self,name):\n",
    "        print(\"my name is \"+name)\n",
    "a=A()\n",
    "#del a\n",
    "a.myfun(\"shital\")"
   ]
  },
  {
   "cell_type": "code",
   "execution_count": 13,
   "id": "0a08bef2",
   "metadata": {},
   "outputs": [
    {
     "name": "stdout",
     "output_type": "stream",
     "text": [
      "25 Vipul\n",
      "Name:Vipul\n"
     ]
    }
   ],
   "source": [
    "#not necessary that 1st variable should be same for diff methods\n",
    "class Student:\n",
    "    def __init__(self,nm,ag):\n",
    "        print(ag,nm)\n",
    "        self.name=nm\n",
    "        self.age=ag\n",
    "\n",
    "    def show(django):\n",
    "        print(\"Name:\"+django.name)\n",
    "    \n",
    "\n",
    "stud=Student('Vipul',25)\n",
    "stud.show()\n"
   ]
  },
  {
   "cell_type": "code",
   "execution_count": 19,
   "id": "81bb34cf",
   "metadata": {},
   "outputs": [
    {
     "name": "stdout",
     "output_type": "stream",
     "text": [
      "70\n",
      "30\n",
      "70\n"
     ]
    }
   ],
   "source": [
    "class student:\n",
    "    x=10\n",
    "    y=20\n",
    "    def __init__(self):\n",
    "        pass\n",
    "#        self.x=x\n",
    "#        self.y=y\n",
    "        \n",
    "    def show(self,x,y):\n",
    "        print(x+y)  #accessing function variable\n",
    "        print(self.x+self.y) #accessing class variables\n",
    "        self.x=x #reassigning values\n",
    "        self.y=y\n",
    "        print(self.x+self.y)\n",
    "stud=student()\n",
    "stud.show(30,40)"
   ]
  },
  {
   "cell_type": "code",
   "execution_count": 21,
   "id": "aca85b90",
   "metadata": {},
   "outputs": [
    {
     "name": "stdout",
     "output_type": "stream",
     "text": [
      "1\n",
      "No Break\n"
     ]
    }
   ],
   "source": [
    "count = 0\n",
    "while (count < 1):    \n",
    "    count = count+1\n",
    "    print(count)\n",
    "#    break\n",
    "else:\n",
    "    print(\"No Break\")\n",
    "    "
   ]
  },
  {
   "cell_type": "code",
   "execution_count": null,
   "id": "f0a14204",
   "metadata": {},
   "outputs": [],
   "source": []
  }
 ],
 "metadata": {
  "kernelspec": {
   "display_name": "Python 3",
   "language": "python",
   "name": "python3"
  },
  "language_info": {
   "codemirror_mode": {
    "name": "ipython",
    "version": 3
   },
   "file_extension": ".py",
   "mimetype": "text/x-python",
   "name": "python",
   "nbconvert_exporter": "python",
   "pygments_lexer": "ipython3",
   "version": "3.9.4"
  }
 },
 "nbformat": 4,
 "nbformat_minor": 5
}
