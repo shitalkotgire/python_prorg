{
 "cells": [
  {
   "cell_type": "code",
   "execution_count": 14,
   "id": "2c960cb8",
   "metadata": {},
   "outputs": [
    {
     "name": "stdout",
     "output_type": "stream",
     "text": [
      " The name is Shital,the salery is 20,employee id is 455\n",
      "None\n",
      "20\n"
     ]
    }
   ],
   "source": [
    "#class variable and class methods to change class variable\n",
    "\n",
    "\"\"\"Python class method is a way to define a function for the Python class. \n",
    "It receives the class as an implicit first argument. Using @classmethod decorator, \n",
    "it is possible to create as many constructors for a class that behaves like a factory constructor.\"\"\"\n",
    "\n",
    "class employee():\n",
    "    no_of_leaves=10      #class variable\n",
    "    def __init__(self,aname,aroll_no,aemp_id):\n",
    "        self.name=aname\n",
    "        self.roll_no=aroll_no\n",
    "        self.emp_id=aemp_id\n",
    "    def printdetails(self):\n",
    "        return f\" The name is {self.name},the salery is {self.roll_no},employee id is {self.emp_id}\"\n",
    "    @classmethod\n",
    "    def change_leave(cls,leaves):   #class method takes cls as default parameter\n",
    "        cls.no_of_leaves=leaves\n",
    "        \n",
    "shital=employee(\"Shital\",20,455)\n",
    "print(shital.printdetails())\n",
    "print(shital.change_leave(20))\n",
    "print(shital.no_of_leaves)"
   ]
  },
  {
   "cell_type": "code",
   "execution_count": null,
   "id": "1ce0f1b2",
   "metadata": {},
   "outputs": [],
   "source": []
  }
 ],
 "metadata": {
  "kernelspec": {
   "display_name": "Python 3",
   "language": "python",
   "name": "python3"
  },
  "language_info": {
   "codemirror_mode": {
    "name": "ipython",
    "version": 3
   },
   "file_extension": ".py",
   "mimetype": "text/x-python",
   "name": "python",
   "nbconvert_exporter": "python",
   "pygments_lexer": "ipython3",
   "version": "3.9.4"
  }
 },
 "nbformat": 4,
 "nbformat_minor": 5
}
