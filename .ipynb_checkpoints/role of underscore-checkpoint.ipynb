{
 "cells": [
  {
   "cell_type": "code",
   "execution_count": 1,
   "id": "18dfa904",
   "metadata": {},
   "outputs": [
    {
     "data": {
      "text/plain": [
       "14"
      ]
     },
     "execution_count": 1,
     "metadata": {},
     "output_type": "execute_result"
    }
   ],
   "source": [
    "5+9\n"
   ]
  },
  {
   "cell_type": "code",
   "execution_count": 4,
   "id": "a1b62bd2",
   "metadata": {},
   "outputs": [
    {
     "data": {
      "text/plain": [
       "19"
      ]
     },
     "execution_count": 4,
     "metadata": {},
     "output_type": "execute_result"
    }
   ],
   "source": [
    "5+_\n",
    "_\n"
   ]
  },
  {
   "cell_type": "code",
   "execution_count": 5,
   "id": "607777cf",
   "metadata": {},
   "outputs": [
    {
     "data": {
      "text/plain": [
       "19"
      ]
     },
     "execution_count": 5,
     "metadata": {},
     "output_type": "execute_result"
    }
   ],
   "source": [
    "#python automatically stores the value of the last expression in the interpreter to a particular variable called \"_.\" You can also assign these value to another variable if you want.\n",
    "_"
   ]
  },
  {
   "cell_type": "code",
   "execution_count": null,
   "id": "9a03fc97",
   "metadata": {},
   "outputs": [],
   "source": [
    "#Underscore(_) is also used to ignore the values. If you don't want to use specific values while unpacking, just assign that value to underscore(_)."
   ]
  },
  {
   "cell_type": "code",
   "execution_count": 10,
   "id": "2fb1712a",
   "metadata": {},
   "outputs": [
    {
     "name": "stdout",
     "output_type": "stream",
     "text": [
      "10 30\n",
      "20\n"
     ]
    }
   ],
   "source": [
    "a,_,c=10,20,30\n",
    "print(a,c)\n",
    "print(_)"
   ]
  },
  {
   "cell_type": "code",
   "execution_count": 12,
   "id": "fdb31c0d",
   "metadata": {},
   "outputs": [
    {
     "name": "stdout",
     "output_type": "stream",
     "text": [
      "10 60\n",
      "[20, 30, 40, 50]\n"
     ]
    }
   ],
   "source": [
    "a,*_,c=10,20,30,40,50,60\n",
    "print(a,c)\n",
    "print(_)"
   ]
  },
  {
   "cell_type": "code",
   "execution_count": 17,
   "id": "c342641e",
   "metadata": {},
   "outputs": [
    {
     "name": "stdout",
     "output_type": "stream",
     "text": [
      "0\n",
      "1\n",
      "2\n",
      "3\n",
      "4\n",
      "Python\n",
      "JS\n",
      "PHP\n",
      "Java\n",
      "5\n",
      "6\n",
      "7\n",
      "8\n",
      "9\n"
     ]
    }
   ],
   "source": [
    "#in looping\n",
    "for _ in range(5):\n",
    "    print(_)\n",
    "    \n",
    "languages = [\"Python\", \"JS\", \"PHP\", \"Java\"]\n",
    "for _ in languages:\n",
    "    print(_)\n",
    "    \n",
    "_=5\n",
    "while _<10:\n",
    "    print(_)\n",
    "    _+=1"
   ]
  },
  {
   "cell_type": "code",
   "execution_count": 18,
   "id": "67d59e14",
   "metadata": {},
   "outputs": [
    {
     "name": "stdout",
     "output_type": "stream",
     "text": [
      "1000000 2 52 9131\n"
     ]
    }
   ],
   "source": [
    "#Separating Digits Of Numbers  you can separate the group of digits as you like for better understanding.\n",
    "#you can also use underscore(_) to separate the binary, octal or hex parts of numbers.\n",
    "\n",
    "million=1_000_000\n",
    "b=0b_0010\n",
    "o=0o_64\n",
    "h=0x_23_ab\n",
    "print(million,b,o,h)"
   ]
  },
  {
   "cell_type": "code",
   "execution_count": null,
   "id": "75e7c3dc",
   "metadata": {},
   "outputs": [],
   "source": [
    "Underscore(_) can be used to name variables, functions and classes, etc..,\n",
    "\n",
    "Single Pre Underscore:- _variable\n",
    "Signle Post Underscore:- variable_\n",
    "Double Pre Underscores:- __variable\n",
    "Double Pre and Post Underscores:- __variable__"
   ]
  },
  {
   "cell_type": "code",
   "execution_count": 21,
   "id": "16d0b85a",
   "metadata": {},
   "outputs": [
    {
     "name": "stdout",
     "output_type": "stream",
     "text": [
      "datacamp\n",
      "7\n"
     ]
    }
   ],
   "source": [
    "class Test:\n",
    "    def __init__(self):\n",
    "        self._name = \"datacamp\"\n",
    "        self._num = 7\n",
    "\n",
    "obj = Test()\n",
    "print(obj._name)\n",
    "print(obj._num)"
   ]
  },
  {
   "cell_type": "code",
   "execution_count": null,
   "id": "fb3f3c88",
   "metadata": {},
   "outputs": [],
   "source": [
    "single pre underscore doesn't stop you from accessing the single pre underscore variable.\n",
    "\n",
    "But, single pre underscore effects the names that are imported from the module."
   ]
  },
  {
   "cell_type": "code",
   "execution_count": 22,
   "id": "1a0945db",
   "metadata": {},
   "outputs": [],
   "source": [
    "## filename:- my_functions.py\n",
    "\n",
    "def func():\n",
    "    return \"datacamp\"\n",
    "\n",
    "def _private_func():\n",
    "    return 7"
   ]
  },
  {
   "cell_type": "code",
   "execution_count": 24,
   "id": "75edb7ed",
   "metadata": {},
   "outputs": [
    {
     "ename": "ModuleNotFoundError",
     "evalue": "No module named 'my_function'",
     "output_type": "error",
     "traceback": [
      "\u001b[1;31m---------------------------------------------------------------------------\u001b[0m",
      "\u001b[1;31mModuleNotFoundError\u001b[0m                       Traceback (most recent call last)",
      "\u001b[1;32m<ipython-input-24-ba152b7d2756>\u001b[0m in \u001b[0;36m<module>\u001b[1;34m\u001b[0m\n\u001b[1;32m----> 1\u001b[1;33m \u001b[1;32mfrom\u001b[0m \u001b[0mmy_function\u001b[0m \u001b[1;32mimport\u001b[0m \u001b[1;33m*\u001b[0m\u001b[1;33m\u001b[0m\u001b[1;33m\u001b[0m\u001b[0m\n\u001b[0m\u001b[0;32m      2\u001b[0m \u001b[0mfun\u001b[0m\u001b[1;33m(\u001b[0m\u001b[1;33m)\u001b[0m\u001b[1;33m\u001b[0m\u001b[1;33m\u001b[0m\u001b[0m\n",
      "\u001b[1;31mModuleNotFoundError\u001b[0m: No module named 'my_function'"
     ]
    }
   ],
   "source": [
    "try on pycharm\n",
    "\n",
    "from my_function import *\n",
    "fun()\n",
    "\n",
    "'datacamp'\n",
    "\n",
    "_private_func()\n",
    "Traceback (most recent call last):\n",
    "  File \"<stdin>\", line 1, in <module>\n",
    "NameError: name '_private_func' is not defined"
   ]
  },
  {
   "cell_type": "code",
   "execution_count": 25,
   "id": "bb72b278",
   "metadata": {},
   "outputs": [
    {
     "ename": "ModuleNotFoundError",
     "evalue": "No module named 'my_functions'",
     "output_type": "error",
     "traceback": [
      "\u001b[1;31m---------------------------------------------------------------------------\u001b[0m",
      "\u001b[1;31mModuleNotFoundError\u001b[0m                       Traceback (most recent call last)",
      "\u001b[1;32m<ipython-input-25-73314e50467f>\u001b[0m in \u001b[0;36m<module>\u001b[1;34m\u001b[0m\n\u001b[1;32m----> 1\u001b[1;33m \u001b[1;32mimport\u001b[0m \u001b[0mmy_functions\u001b[0m\u001b[1;33m\u001b[0m\u001b[1;33m\u001b[0m\u001b[0m\n\u001b[0m\u001b[0;32m      2\u001b[0m \u001b[0mmy_functions\u001b[0m\u001b[1;33m.\u001b[0m\u001b[0mfunc\u001b[0m\u001b[1;33m(\u001b[0m\u001b[1;33m)\u001b[0m\u001b[1;33m\u001b[0m\u001b[1;33m\u001b[0m\u001b[0m\n\u001b[0;32m      3\u001b[0m \u001b[0mmy_functions\u001b[0m\u001b[1;33m.\u001b[0m\u001b[0m_private_func\u001b[0m\u001b[1;33m(\u001b[0m\u001b[1;33m)\u001b[0m   \u001b[1;31m#now it works\u001b[0m\u001b[1;33m\u001b[0m\u001b[1;33m\u001b[0m\u001b[0m\n",
      "\u001b[1;31mModuleNotFoundError\u001b[0m: No module named 'my_functions'"
     ]
    }
   ],
   "source": [
    "import my_functions\n",
    "my_functions.func()\n",
    "my_functions._private_func()   #now it works"
   ]
  },
  {
   "cell_type": "code",
   "execution_count": null,
   "id": "613f2e20",
   "metadata": {},
   "outputs": [],
   "source": [
    " #single_postunderscore\n",
    "    Sometimes if you want to use Python Keywords as a variable\n",
    "    , function or class names, you can use this convention for that."
   ]
  },
  {
   "cell_type": "code",
   "execution_count": 26,
   "id": "8c485944",
   "metadata": {},
   "outputs": [
    {
     "ename": "SyntaxError",
     "evalue": "invalid syntax (<ipython-input-26-ae2972da6316>, line 1)",
     "output_type": "error",
     "traceback": [
      "\u001b[1;36m  File \u001b[1;32m\"<ipython-input-26-ae2972da6316>\"\u001b[1;36m, line \u001b[1;32m1\u001b[0m\n\u001b[1;33m    def function(class):\u001b[0m\n\u001b[1;37m                 ^\u001b[0m\n\u001b[1;31mSyntaxError\u001b[0m\u001b[1;31m:\u001b[0m invalid syntax\n"
     ]
    }
   ],
   "source": [
    "def function(class):\n"
   ]
  },
  {
   "cell_type": "code",
   "execution_count": 28,
   "id": "e2cd5c3d",
   "metadata": {},
   "outputs": [],
   "source": [
    "def function(class_):\n",
    "    pass"
   ]
  },
  {
   "cell_type": "code",
   "execution_count": null,
   "id": "60385917",
   "metadata": {},
   "outputs": [],
   "source": [
    "#Double Pre Underscore\n",
    "tells the Python interpreter to rewriteName Mangling:- interpreter of the Python alters the variable name in a way that it is challenging to clash when the class is inherited.\n",
    "    the attribute name of subclasses to avoid naming conflicts.\n",
    "Name Mangling:- interpreter of the Python alters the variable name in a way that it is challenging to clash when the class is inherited.\n",
    "    "
   ]
  },
  {
   "cell_type": "code",
   "execution_count": null,
   "id": "5a34a286",
   "metadata": {},
   "outputs": [],
   "source": [
    "class Sample():\n",
    "\n",
    "    def __init__(self):\n",
    "        self.a = 1\n",
    "        self._b = 2\n",
    "        self.__c = 3\n",
    "obj1 = Sample()\n",
    "dir(obj1)"
   ]
  }
 ],
 "metadata": {
  "kernelspec": {
   "display_name": "Python 3",
   "language": "python",
   "name": "python3"
  },
  "language_info": {
   "codemirror_mode": {
    "name": "ipython",
    "version": 3
   },
   "file_extension": ".py",
   "mimetype": "text/x-python",
   "name": "python",
   "nbconvert_exporter": "python",
   "pygments_lexer": "ipython3",
   "version": "3.9.4"
  }
 },
 "nbformat": 4,
 "nbformat_minor": 5
}
