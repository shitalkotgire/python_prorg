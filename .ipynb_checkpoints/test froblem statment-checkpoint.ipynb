{
 "cells": [
  {
   "cell_type": "code",
   "execution_count": 2,
   "id": "5b932cf3",
   "metadata": {},
   "outputs": [
    {
     "name": "stdout",
     "output_type": "stream",
     "text": [
      "[2, 3, 4, 5, 6]\n"
     ]
    }
   ],
   "source": [
    "l1=[1,2,3,4,5]\n",
    "l2=[i+1 for i in l1]\n",
    "print (l2)"
   ]
  },
  {
   "cell_type": "code",
   "execution_count": 3,
   "id": "2ba07db7",
   "metadata": {},
   "outputs": [
    {
     "name": "stdout",
     "output_type": "stream",
     "text": [
      "{1: 1, 2: 2, 3: 3, 4: 4, 5: 5}\n"
     ]
    }
   ],
   "source": [
    "l1=[1,2,3,4,5]\n",
    "d1={i:i for i in l1}\n",
    "print(d1) "
   ]
  },
  {
   "cell_type": "code",
   "execution_count": 10,
   "id": "95ad8269",
   "metadata": {},
   "outputs": [
    {
     "name": "stdout",
     "output_type": "stream",
     "text": [
      "['a', 'b', 'c']\n",
      "c\n",
      "b\n",
      "a\n"
     ]
    },
    {
     "ename": "IndexError",
     "evalue": "pop from empty list",
     "output_type": "error",
     "traceback": [
      "\u001b[1;31m---------------------------------------------------------------------------\u001b[0m",
      "\u001b[1;31mIndexError\u001b[0m                                Traceback (most recent call last)",
      "\u001b[1;32m<ipython-input-10-e4a8ee038942>\u001b[0m in \u001b[0;36m<module>\u001b[1;34m\u001b[0m\n\u001b[0;32m      9\u001b[0m \u001b[0mprint\u001b[0m\u001b[1;33m(\u001b[0m\u001b[0mstack\u001b[0m\u001b[1;33m.\u001b[0m\u001b[0mpop\u001b[0m\u001b[1;33m(\u001b[0m\u001b[1;33m)\u001b[0m\u001b[1;33m)\u001b[0m\u001b[1;33m\u001b[0m\u001b[1;33m\u001b[0m\u001b[0m\n\u001b[0;32m     10\u001b[0m \u001b[0mprint\u001b[0m\u001b[1;33m(\u001b[0m\u001b[0mstack\u001b[0m\u001b[1;33m.\u001b[0m\u001b[0mpop\u001b[0m\u001b[1;33m(\u001b[0m\u001b[1;33m)\u001b[0m\u001b[1;33m)\u001b[0m\u001b[1;33m\u001b[0m\u001b[1;33m\u001b[0m\u001b[0m\n\u001b[1;32m---> 11\u001b[1;33m \u001b[0mprint\u001b[0m\u001b[1;33m(\u001b[0m\u001b[0mstack\u001b[0m\u001b[1;33m.\u001b[0m\u001b[0mpop\u001b[0m\u001b[1;33m(\u001b[0m\u001b[1;33m)\u001b[0m\u001b[1;33m)\u001b[0m\u001b[1;33m\u001b[0m\u001b[1;33m\u001b[0m\u001b[0m\n\u001b[0m\u001b[0;32m     12\u001b[0m \u001b[1;33m\u001b[0m\u001b[0m\n",
      "\u001b[1;31mIndexError\u001b[0m: pop from empty list"
     ]
    }
   ],
   "source": [
    "#stack behaviour\n",
    "stack=[]\n",
    "stack.append(\"a\")\n",
    "stack.append(\"b\")\n",
    "stack.append('c')\n",
    "print(stack)\n",
    "#stack.pop()\n",
    "#print(stack)\n",
    "print(stack.pop())\n",
    "print(stack.pop())\n",
    "print(stack.pop())\n",
    "#print(stack.pop())\n",
    "\n"
   ]
  },
  {
   "cell_type": "code",
   "execution_count": 20,
   "id": "43b5923d",
   "metadata": {},
   "outputs": [
    {
     "ename": "SyntaxError",
     "evalue": "invalid syntax (<ipython-input-20-e856e29bc911>, line 2)",
     "output_type": "error",
     "traceback": [
      "\u001b[1;36m  File \u001b[1;32m\"<ipython-input-20-e856e29bc911>\"\u001b[1;36m, line \u001b[1;32m2\u001b[0m\n\u001b[1;33m    def add(s1,0):\u001b[0m\n\u001b[1;37m               ^\u001b[0m\n\u001b[1;31mSyntaxError\u001b[0m\u001b[1;31m:\u001b[0m invalid syntax\n"
     ]
    }
   ],
   "source": [
    "#using fun\n",
    "def add(s1,0):\n",
    "    s1.append()\n",
    "    print (stack)\n",
    "def delete(s1):\n",
    "    print(s1.pop())\n",
    "stack=[]\n",
    "a=0\n",
    "add(a,stack)\n"
   ]
  },
  {
   "cell_type": "code",
   "execution_count": 25,
   "id": "d146cfef",
   "metadata": {},
   "outputs": [
    {
     "name": "stdout",
     "output_type": "stream",
     "text": [
      "[[1, 2, 3, 4], [5, 6, 7, 8], [10, 11, 13]]\n",
      "[1, 2, 3, 4, 5, 6, 7, 8, 10, 11, 13]\n"
     ]
    }
   ],
   "source": [
    "#flatning list\n",
    "l1=[[1,2,3,4],[5,6,7,8],[10,11,13]]\n",
    "l2=[]\n",
    "for sublist in l1:\n",
    "    if type(sublist) is list:\n",
    "        for items in sublist:\n",
    "            l2.append(items)\n",
    "    else:\n",
    "        l2.append(items)\n",
    "print(l1)\n",
    "print(l2)\n",
    "            "
   ]
  },
  {
   "cell_type": "code",
   "execution_count": 26,
   "id": "7ae8e608",
   "metadata": {},
   "outputs": [
    {
     "name": "stdout",
     "output_type": "stream",
     "text": [
      "[[1, 2, 3, 4], [5, 6, 7, 8], [10, 11, 13], [5, 6]]\n",
      "[1, 2, 3, 4, 5, 6, 7, 8, 10, 11, 13, 5, 6]\n"
     ]
    }
   ],
   "source": [
    "#flatning list\n",
    "l1=[[1,2,3,4],[5,6,7,8],[10,11,13],[5,6]]\n",
    "l2=[]\n",
    "for sublist in l1:\n",
    "    if type(sublist) is list:\n",
    "        for items in sublist:\n",
    "            l2.append(items)\n",
    "    else:\n",
    "        l2.append(items)\n",
    "print(l1)\n",
    "print(l2)\n",
    "            "
   ]
  },
  {
   "cell_type": "code",
   "execution_count": 28,
   "id": "d2da6c4d",
   "metadata": {},
   "outputs": [
    {
     "name": "stdout",
     "output_type": "stream",
     "text": [
      "[[1, 2, 3, 4], [5, 6, 7, 8], [10, 11, 13]]\n",
      "[1, 2, 3, 4, 5, 6, 7, 8, 10, 11, 13]\n"
     ]
    }
   ],
   "source": [
    "#flatning list using comprehention \n",
    "l1=[[1,2,3,4],[5,6,7,8],[10,11,13]]\n",
    "l2=[]\n",
    "l2=[items for sublist in l1 for items in sublist]\n",
    "print(l1)\n",
    "print(l2)\n",
    "      "
   ]
  },
  {
   "cell_type": "code",
   "execution_count": null,
   "id": "fff138f8",
   "metadata": {},
   "outputs": [],
   "source": [
    "#The 2D list can be flattened recursively as well. \n",
    "#works both for regular and irregular list of lists\n",
    "def flatten(list_of_lists):\n",
    "    if len(list_of_lists) == 0:\n",
    "        return list_of_lists\n",
    "    if isinstance(list_of_lists[0], list):\n",
    "        return flatten(list_of_lists[0]) + flatten(list_of_lists[1:])\n",
    "    return list_of_lists[:1] + flatten(list_of_lists[1:])\n",
    "\n",
    "\n",
    "print(flatten([[1, 2, 3, 4], [5, 6, 7], [8, 9], 10]))"
   ]
  }
 ],
 "metadata": {
  "kernelspec": {
   "display_name": "Python 3",
   "language": "python",
   "name": "python3"
  },
  "language_info": {
   "codemirror_mode": {
    "name": "ipython",
    "version": 3
   },
   "file_extension": ".py",
   "mimetype": "text/x-python",
   "name": "python",
   "nbconvert_exporter": "python",
   "pygments_lexer": "ipython3",
   "version": "3.9.4"
  }
 },
 "nbformat": 4,
 "nbformat_minor": 5
}
