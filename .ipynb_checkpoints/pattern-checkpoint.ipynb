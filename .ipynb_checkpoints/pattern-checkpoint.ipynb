{
 "cells": [
  {
   "cell_type": "code",
   "execution_count": 1,
   "id": "503edd07",
   "metadata": {},
   "outputs": [
    {
     "name": "stdout",
     "output_type": "stream",
     "text": [
      "enter the no lines:5\n",
      "1 \n",
      "1 2 \n",
      "1 2 3 \n",
      "1 2 3 4 \n",
      "1 2 3 4 5 \n"
     ]
    }
   ],
   "source": [
    "l=int(input(\"enter the no lines:\"))\n",
    "for i in range (0,l):\n",
    "    for j in range (0,i+1):\n",
    "        print(j+1,end=\" \")\n",
    "    print (\"\\r\")\n",
    "    "
   ]
  },
  {
   "cell_type": "code",
   "execution_count": 2,
   "id": "cafbf045",
   "metadata": {},
   "outputs": [
    {
     "name": "stdout",
     "output_type": "stream",
     "text": [
      "enter the no lines:5\n",
      "* \n",
      "* * \n",
      "* * * \n",
      "* * * * \n",
      "* * * * * \n"
     ]
    }
   ],
   "source": [
    "l=int(input(\"enter the no lines:\"))\n",
    "for i in range (0,l):\n",
    "    for j in range (0,i+1):\n",
    "        print(\"*\",end=\" \")\n",
    "    print (\"\\r\")\n",
    "    "
   ]
  },
  {
   "cell_type": "code",
   "execution_count": 3,
   "id": "8f6f104a",
   "metadata": {},
   "outputs": [
    {
     "name": "stdout",
     "output_type": "stream",
     "text": [
      "enter the no lines:5\n",
      "1 \n",
      "1 2 \n",
      "1 2 3 \n",
      "1 2 3 4 \n",
      "1 2 3 4 5 \n"
     ]
    }
   ],
   "source": [
    "l=int(input(\"enter the no lines:\"))\n",
    "for i in range (l):\n",
    "    for j in range (i+1):\n",
    "        print(j+1,end=\" \")\n",
    "    print (\"\\r\")\n",
    "    "
   ]
  },
  {
   "cell_type": "code",
   "execution_count": 5,
   "id": "cbb93456",
   "metadata": {},
   "outputs": [
    {
     "name": "stdout",
     "output_type": "stream",
     "text": [
      "enter the no lines:5\n",
      "1 \n",
      "2 2 \n",
      "3 3 3 \n",
      "4 4 4 4 \n",
      "5 5 5 5 5 \n"
     ]
    }
   ],
   "source": [
    "l=int(input(\"enter the no lines:\"))\n",
    "for i in range (0,l):\n",
    "    for j in range (0,i+1):\n",
    "        print(i+1,end=\" \")\n",
    "    print (\"\\r\")\n",
    "    "
   ]
  },
  {
   "cell_type": "code",
   "execution_count": 9,
   "id": "b8302b11",
   "metadata": {},
   "outputs": [
    {
     "name": "stdout",
     "output_type": "stream",
     "text": [
      "enter the no lines:5\n",
      "5 5 5 5 5 \n",
      "4 4 4 4 \n",
      "3 3 3 \n",
      "2 2 \n",
      "1 \n"
     ]
    }
   ],
   "source": [
    "l=int(input(\"enter the no lines:\"))\n",
    "for i in range (l,0,-1):\n",
    "    for j in range (i,0,-1):\n",
    "        print(i,end=\" \")\n",
    "    print (\"\\r\")\n",
    "    "
   ]
  },
  {
   "cell_type": "code",
   "execution_count": 11,
   "id": "3455cf47",
   "metadata": {},
   "outputs": [
    {
     "name": "stdout",
     "output_type": "stream",
     "text": [
      "enter the no lines:5\n",
      "5 4 3 2 1 \n",
      "4 3 2 1 \n",
      "3 2 1 \n",
      "2 1 \n",
      "1 \n"
     ]
    }
   ],
   "source": [
    "l=int(input(\"enter the no lines:\"))\n",
    "for i in range (l,0,-1):\n",
    "    for j in range (i,0,-1):\n",
    "        print(j,end=\" \")\n",
    "    print (\"\\r\")\n",
    "    "
   ]
  },
  {
   "cell_type": "code",
   "execution_count": 19,
   "id": "e85498c7",
   "metadata": {},
   "outputs": [
    {
     "name": "stdout",
     "output_type": "stream",
     "text": [
      "enter the no lines:5\n",
      "5 5 5 5 5 \n",
      "4 4 4 4 \n",
      "3 3 3 \n",
      "2 2 \n",
      "1 \n"
     ]
    }
   ],
   "source": [
    " #Reverse Pyramid of Numbers\n",
    "l=int(input(\"enter the no lines:\"))\n",
    "for i in range (l,0,-1):\n",
    "    for j in range (i,0,-1):\n",
    "        print(i,end=\" \")\n",
    "    print (\"\\r\")\n",
    "    "
   ]
  },
  {
   "cell_type": "code",
   "execution_count": 17,
   "id": "ddfcd7d9",
   "metadata": {},
   "outputs": [
    {
     "name": "stdout",
     "output_type": "stream",
     "text": [
      "enter the no lines:5\n",
      "5 4 3 2 1 \n",
      "4 3 2 1 \n",
      "3 2 1 \n",
      "2 1 \n",
      "1 \n"
     ]
    }
   ],
   "source": [
    "# Inverted Half Pyramid Number Pattern\n",
    "l=int(input(\"enter the no lines:\"))\n",
    "for i in range (l,0,-1):\n",
    "    for j in range (i,0,-1):\n",
    "        print(j,end=\" \")\n",
    "    print (\"\\r\")\n",
    "    "
   ]
  },
  {
   "cell_type": "code",
   "execution_count": 3,
   "id": "1a984f15",
   "metadata": {
    "scrolled": false
   },
   "outputs": [
    {
     "name": "stdout",
     "output_type": "stream",
     "text": [
      "5432112345\r\n",
      "54322345\r\n",
      "543345\r\n",
      "5445\r\n",
      "55\r\n"
     ]
    }
   ],
   "source": [
    "for i in range (5,0,-1):\n",
    "    num=5\n",
    "    for j in range (1,i+1):\n",
    "        print (num,end=\"\")\n",
    "        num-=1\n",
    "    for j in range (1,i+1):\n",
    "        num+=1\n",
    "        print (num,end=\"\")\n",
    "    print(\"\\r\")"
   ]
  },
  {
   "cell_type": "code",
   "execution_count": 1,
   "id": "4c85cff0",
   "metadata": {},
   "outputs": [
    {
     "name": "stdout",
     "output_type": "stream",
     "text": [
      "Enter number of rows: 5\n",
      "        * \n",
      "      * * * \n",
      "    * * * * * \n",
      "  * * * * * * * \n",
      "* * * * * * * * * \n"
     ]
    }
   ],
   "source": [
    "rows = int(input(\"Enter number of rows: \"))\n",
    "\n",
    "k = 0\n",
    "\n",
    "for i in range(1, rows+1):\n",
    "    for space in range(1, (rows-i)+1):\n",
    "        print(end=\"  \")\n",
    "   \n",
    "    while k!=(2*i-1):\n",
    "        print(\"* \", end=\"\")\n",
    "        k += 1\n",
    "   \n",
    "    k = 0\n",
    "    print()\n"
   ]
  },
  {
   "cell_type": "code",
   "execution_count": null,
   "id": "a0815cdd",
   "metadata": {},
   "outputs": [],
   "source": [
    "rows = int(input(\"Enter number of rows: \"))\n",
    "\n",
    "k = 0\n",
    "count=0\n",
    "count1=0\n",
    "\n",
    "for i in range(1, rows+1):\n",
    "    for space in range(1, (rows-i)+1):\n",
    "        print(\"  \", end=\"\")\n",
    "        count+=1\n",
    "    \n",
    "    while k!=((2*i)-1):\n",
    "        if count<=rows-1:\n",
    "            print(i+k, end=\" \")\n",
    "            count+=1\n",
    "        else:\n",
    "            count1+=1\n",
    "            print(i+k-(2*count1), end=\" \")\n",
    "        k += 1\n",
    "    \n",
    "    count1 = count = k = 0\n",
    "    print()"
   ]
  }
 ],
 "metadata": {
  "kernelspec": {
   "display_name": "Python 3",
   "language": "python",
   "name": "python3"
  },
  "language_info": {
   "codemirror_mode": {
    "name": "ipython",
    "version": 3
   },
   "file_extension": ".py",
   "mimetype": "text/x-python",
   "name": "python",
   "nbconvert_exporter": "python",
   "pygments_lexer": "ipython3",
   "version": "3.9.4"
  }
 },
 "nbformat": 4,
 "nbformat_minor": 5
}
