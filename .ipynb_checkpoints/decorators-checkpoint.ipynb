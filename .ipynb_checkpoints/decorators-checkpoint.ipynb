{
 "cells": [
  {
   "cell_type": "markdown",
   "id": "e002dc08",
   "metadata": {},
   "source": [
    "# Decorators\n"
   ]
  },
  {
   "cell_type": "code",
   "execution_count": 5,
   "id": "c0216ba4",
   "metadata": {},
   "outputs": [
    {
     "name": "stdout",
     "output_type": "stream",
     "text": [
      "Error\n"
     ]
    }
   ],
   "source": [
    "def check(div):\n",
    "    def inner(a,b):\n",
    "        if a==0 or b==0:\n",
    "            return (\"This is non divisible becoz one value is zero\")\n",
    "        else:\n",
    "            return div(a,b)\n",
    "    return inner\n",
    "\n",
    "def checky(div):\n",
    "    def inner(a,b):\n",
    "        if a==0 or b==0:\n",
    "            return (\"Error\")\n",
    "        else:\n",
    "            return div(a,b)\n",
    "    return inner\n",
    "\n",
    "@checky\n",
    "@check\n",
    "def div(a,b):\n",
    "    return a/b\n",
    "print(div(0,0))"
   ]
  },
  {
   "cell_type": "code",
   "execution_count": 1,
   "id": "cb3bece0",
   "metadata": {},
   "outputs": [
    {
     "name": "stdout",
     "output_type": "stream",
     "text": [
      "x: 1\n",
      "y: 2\n",
      "x: 1\n",
      "y: 2\n"
     ]
    }
   ],
   "source": [
    "#function returning function\n",
    "def f(x):\n",
    "    print(\"x:\",x)\n",
    "    def g(y):\n",
    "        print(\"y:\",y)\n",
    "    return g\n",
    "f(1)(2)\n",
    "#or\n",
    "c=f(1)\n",
    "c(2)\n"
   ]
  },
  {
   "cell_type": "code",
   "execution_count": 2,
   "id": "1ebb8ad7",
   "metadata": {},
   "outputs": [
    {
     "ename": "SyntaxError",
     "evalue": "invalid syntax (<ipython-input-2-6c0e7925eed2>, line 1)",
     "output_type": "error",
     "traceback": [
      "\u001b[1;36m  File \u001b[1;32m\"<ipython-input-2-6c0e7925eed2>\"\u001b[1;36m, line \u001b[1;32m1\u001b[0m\n\u001b[1;33m    applying 2 decorators\u001b[0m\n\u001b[1;37m             ^\u001b[0m\n\u001b[1;31mSyntaxError\u001b[0m\u001b[1;31m:\u001b[0m invalid syntax\n"
     ]
    }
   ],
   "source": [
    "#applying 2 decorators"
   ]
  },
  {
   "cell_type": "code",
   "execution_count": null,
   "id": "3842a160",
   "metadata": {},
   "outputs": [],
   "source": []
  }
 ],
 "metadata": {
  "kernelspec": {
   "display_name": "Python 3",
   "language": "python",
   "name": "python3"
  },
  "language_info": {
   "codemirror_mode": {
    "name": "ipython",
    "version": 3
   },
   "file_extension": ".py",
   "mimetype": "text/x-python",
   "name": "python",
   "nbconvert_exporter": "python",
   "pygments_lexer": "ipython3",
   "version": "3.9.4"
  }
 },
 "nbformat": 4,
 "nbformat_minor": 5
}
