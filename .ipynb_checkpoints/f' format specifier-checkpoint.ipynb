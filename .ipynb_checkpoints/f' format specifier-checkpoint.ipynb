{
 "cells": [
  {
   "cell_type": "code",
   "execution_count": 1,
   "id": "c09e0559",
   "metadata": {},
   "outputs": [
    {
     "name": "stdout",
     "output_type": "stream",
     "text": [
      "Datacamp is an Educational company.\n"
     ]
    }
   ],
   "source": [
    "## declaring variables\n",
    "name = \"Datacamp\"\n",
    "type_of_company = \"Educational\"\n",
    "\n",
    "## enclose your variable within the {} to display it's value in the output\n",
    "print(f\"{name} is an {type_of_company} company.\")\n"
   ]
  },
  {
   "cell_type": "code",
   "execution_count": 2,
   "id": "4b71b1d8",
   "metadata": {},
   "outputs": [
    {
     "name": "stdout",
     "output_type": "stream",
     "text": [
      "25\n"
     ]
    }
   ],
   "source": [
    "## arithmetic expression\n",
    "print(f\"{5 * 5}\")\n"
   ]
  },
  {
   "cell_type": "code",
   "execution_count": 3,
   "id": "b350cc1b",
   "metadata": {},
   "outputs": [
    {
     "name": "stdout",
     "output_type": "stream",
     "text": [
      "25\n"
     ]
    }
   ],
   "source": [
    "## arithmetic expression\n",
    "print(5 * 5)"
   ]
  },
  {
   "cell_type": "code",
   "execution_count": 5,
   "id": "6a3798c5",
   "metadata": {},
   "outputs": [
    {
     "name": "stdout",
     "output_type": "stream",
     "text": [
      "Hello, Datacamp\n",
      "Hello, Datacamp\n"
     ]
    }
   ],
   "source": [
    "def greet(name):\n",
    "    return \"Hello, \" + name\n",
    "## calling the function using f-string\n",
    "name = \"Datacamp\"\n",
    "print(f\"{greet(name)}\")\n",
    "print(greet(name))"
   ]
  },
  {
   "cell_type": "code",
   "execution_count": 6,
   "id": "a73df700",
   "metadata": {},
   "outputs": [
    {
     "name": "stdout",
     "output_type": "stream",
     "text": [
      "Datacamp Is An Educational Company.\n"
     ]
    }
   ],
   "source": [
    "## calling the 'title' method which makes the first letter of every word upper\n",
    "string = \"datacamp is an educational company.\"\n",
    "print(f\"{string.title()}\")\n"
   ]
  },
  {
   "cell_type": "code",
   "execution_count": 7,
   "id": "728ee1ae",
   "metadata": {},
   "outputs": [
    {
     "name": "stdout",
     "output_type": "stream",
     "text": [
      "Hello, 'Datacamp'\n",
      "\n",
      "Hello, \"Datacamp\"\n"
     ]
    }
   ],
   "source": [
    "name = \"Datacamp\"\n",
    "\n",
    "## displaying single quotations\n",
    "print(f\"Hello, \\'{name}\\'\")\n",
    "\n",
    "print()\n",
    "\n",
    "## displaying double quotations\n",
    "print(f\"Hello, \\\"{name}\\\"\")"
   ]
  },
  {
   "cell_type": "code",
   "execution_count": 8,
   "id": "71abaeb3",
   "metadata": {},
   "outputs": [
    {
     "data": {
      "text/plain": [
       "'Hello, Datacamp'"
      ]
     },
     "execution_count": 8,
     "metadata": {},
     "output_type": "execute_result"
    }
   ],
   "source": [
    "f'{\"Hello, Datacamp\"}'\n"
   ]
  },
  {
   "cell_type": "code",
   "execution_count": 9,
   "id": "d599f9bf",
   "metadata": {},
   "outputs": [
    {
     "data": {
      "text/plain": [
       "'Hello, Datacamp'"
      ]
     },
     "execution_count": 9,
     "metadata": {},
     "output_type": "execute_result"
    }
   ],
   "source": [
    "f\"{'Hello, Datacamp'}\""
   ]
  },
  {
   "cell_type": "code",
   "execution_count": 10,
   "id": "915ee390",
   "metadata": {},
   "outputs": [
    {
     "data": {
      "text/plain": [
       "'Hello, Datacamp'"
      ]
     },
     "execution_count": 10,
     "metadata": {},
     "output_type": "execute_result"
    }
   ],
   "source": [
    "f\"\"\"Hello, Datacamp\"\"\""
   ]
  },
  {
   "cell_type": "code",
   "execution_count": 11,
   "id": "24c24980",
   "metadata": {},
   "outputs": [
    {
     "data": {
      "text/plain": [
       "'Hello, Datacamp'"
      ]
     },
     "execution_count": 11,
     "metadata": {},
     "output_type": "execute_result"
    }
   ],
   "source": [
    "f'''Hello, Datacamp'''"
   ]
  },
  {
   "cell_type": "code",
   "execution_count": 12,
   "id": "3fb0d241",
   "metadata": {},
   "outputs": [
    {
     "name": "stdout",
     "output_type": "stream",
     "text": [
      "{Datacamp}\n"
     ]
    }
   ],
   "source": [
    "#We have to use a double set of braces to print the braces using f-string. Let's see an example.\n",
    "print(f\"{{Datacamp}}\")\n"
   ]
  },
  {
   "cell_type": "code",
   "execution_count": 13,
   "id": "3db11267",
   "metadata": {},
   "outputs": [
    {
     "name": "stdout",
     "output_type": "stream",
     "text": [
      "{{Datacamp}}\n"
     ]
    }
   ],
   "source": [
    "print(f\"{{{{Datacamp}}}}\")"
   ]
  },
  {
   "cell_type": "code",
   "execution_count": 14,
   "id": "14032f74",
   "metadata": {},
   "outputs": [
    {
     "name": "stdout",
     "output_type": "stream",
     "text": [
      "John is 19 years old.\n"
     ]
    }
   ],
   "source": [
    "##You have to use a different quotation to the dictionary key and f-string. \n",
    "##You are not permitted to use the same quotations for a dictionary key as if it was an f-string.\n",
    "person = {\"name\": \"John\", \"age\": 19}\n",
    "print(f\"{person['name']} is {person['age']} years old.\")"
   ]
  },
  {
   "cell_type": "code",
   "execution_count": 19,
   "id": "3ec2d4cd",
   "metadata": {},
   "outputs": [
    {
     "ename": "SyntaxError",
     "evalue": "f-string: unmatched '[' (<ipython-input-19-6849ff0810ae>, line 2)",
     "output_type": "error",
     "traceback": [
      "\u001b[1;36m  File \u001b[1;32m\"<ipython-input-19-6849ff0810ae>\"\u001b[1;36m, line \u001b[1;32m2\u001b[0m\n\u001b[1;33m    print(f'{person['name']} is {person['age']} years old.')\u001b[0m\n\u001b[1;37m                     ^\u001b[0m\n\u001b[1;31mSyntaxError\u001b[0m\u001b[1;31m:\u001b[0m f-string: unmatched '['\n"
     ]
    }
   ],
   "source": [
    "person = {\"name\": \"John\", \"age\": 19}\n",
    "print(f'{person['name']} is {person['age']} years old.')"
   ]
  },
  {
   "cell_type": "code",
   "execution_count": 20,
   "id": "07c8b1d1",
   "metadata": {},
   "outputs": [
    {
     "name": "stdout",
     "output_type": "stream",
     "text": [
      "John is 19 years old.\n"
     ]
    }
   ],
   "source": [
    "#we able to display the object\n",
    "class Sample:\n",
    "\n",
    "    def __init__(self, name, age):\n",
    "        self.name = name\n",
    "        self.age = age\n",
    "\n",
    "    ## this method will be called when we print the object\n",
    "    def __str__(self):\n",
    "        return f'{self.name} is {self.age} years old.'\n",
    "john = Sample(\"John\", 19)\n",
    "\n",
    "## it'll wake up the __str__() method\n",
    "print(f\"{john}\")"
   ]
  },
  {
   "cell_type": "code",
   "execution_count": null,
   "id": "603fdbaa",
   "metadata": {},
   "outputs": [],
   "source": []
  }
 ],
 "metadata": {
  "kernelspec": {
   "display_name": "Python 3",
   "language": "python",
   "name": "python3"
  },
  "language_info": {
   "codemirror_mode": {
    "name": "ipython",
    "version": 3
   },
   "file_extension": ".py",
   "mimetype": "text/x-python",
   "name": "python",
   "nbconvert_exporter": "python",
   "pygments_lexer": "ipython3",
   "version": "3.9.4"
  }
 },
 "nbformat": 4,
 "nbformat_minor": 5
}
