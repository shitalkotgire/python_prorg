{
 "cells": [
  {
   "cell_type": "code",
   "execution_count": 13,
   "id": "2f4bb7d3",
   "metadata": {},
   "outputs": [
    {
     "ename": "IndentationError",
     "evalue": "expected an indented block (<ipython-input-13-cd9b02e16483>, line 9)",
     "output_type": "error",
     "traceback": [
      "\u001b[1;36m  File \u001b[1;32m\"<ipython-input-13-cd9b02e16483>\"\u001b[1;36m, line \u001b[1;32m9\u001b[0m\n\u001b[1;33m    \u001b[0m\n\u001b[1;37m    ^\u001b[0m\n\u001b[1;31mIndentationError\u001b[0m\u001b[1;31m:\u001b[0m expected an indented block\n"
     ]
    }
   ],
   "source": [
    "l1=[1,3,2,4,5,6,2,1,6,1,1,3,2]\n",
    "dup =[]\n",
    "for i in l1:\n",
    "    if i%2 !=0:\n",
    "        dup.append(i)\n",
    "        print ( i ,\" :\", l1.count(i))\n",
    "            if i in dup:\n",
    "             \n",
    "    "
   ]
  },
  {
   "cell_type": "code",
   "execution_count": 20,
   "id": "38712668",
   "metadata": {},
   "outputs": [
    {
     "name": "stdout",
     "output_type": "stream",
     "text": [
      "[1, 2, 3, 4, 5, 6, 7, 8, 9, 10]\n",
      "[1, 2, 3, 4, 5, 50, 7, 8, 9, 10]\n",
      "['P', 'y', 't', 'h', '0', 'n']\n",
      "[1, 2, 3, 4, 5, 50, 7, 8, 9, 10, ['P', 'y', 't', 'h', '0', 'n']]\n",
      "t\n"
     ]
    }
   ],
   "source": [
    "list1=[1,2,3,4,5,6,7,8,9,10]\n",
    "print(list1)\n",
    "list1[5]=50\n",
    "print (list1)\n",
    "list2=[\"P\",\"y\",\"t\",\"h\",\"0\",\"n\"]\n",
    "print(list2)\n",
    "list1.append(list2)\n",
    "print(list1)\n",
    "print(list1[10][2])"
   ]
  },
  {
   "cell_type": "code",
   "execution_count": 21,
   "id": "04f47a18",
   "metadata": {},
   "outputs": [
    {
     "name": "stdout",
     "output_type": "stream",
     "text": [
      "55\n"
     ]
    }
   ],
   "source": [
    "list1=[1,2,3,4,5,6,7,8,9,10]\n",
    "sum=0\n",
    "for i in list1:\n",
    "    sum =\n",
    "    sum=i+sum\n",
    "print(sum)\n",
    "    "
   ]
  },
  {
   "cell_type": "code",
   "execution_count": 29,
   "id": "f2feeccf",
   "metadata": {},
   "outputs": [
    {
     "name": "stdout",
     "output_type": "stream",
     "text": [
      "[1, 2, 3, 4, 5, 6]\n",
      "[6, 5, 4, 3, 2, 1]\n"
     ]
    }
   ],
   "source": [
    "#Replace values in list using Python [duplicate] \n",
    "l1=[1,3,2,4,5,6,2,1,6,1,1,3,2]\n",
    "dup=[]\n",
    "for i in l1:\n",
    "    if i not in dup:\n",
    "        dup.append(i)\n",
    "dup.sort()\n",
    "print(dup)\n",
    "#dup.sort(reverse= True)\n",
    "dup.reverse()\n",
    "print(dup)        "
   ]
  },
  {
   "cell_type": "code",
   "execution_count": 43,
   "id": "6ffe4f07",
   "metadata": {},
   "outputs": [
    {
     "ename": "TypeError",
     "evalue": "'int' object is not callable",
     "output_type": "error",
     "traceback": [
      "\u001b[1;31m---------------------------------------------------------------------------\u001b[0m",
      "\u001b[1;31mTypeError\u001b[0m                                 Traceback (most recent call last)",
      "\u001b[1;32m<ipython-input-43-f0106725aa02>\u001b[0m in \u001b[0;36m<module>\u001b[1;34m\u001b[0m\n\u001b[0;32m      2\u001b[0m \u001b[0mlist2\u001b[0m\u001b[1;33m=\u001b[0m\u001b[1;33m[\u001b[0m\u001b[1;33m]\u001b[0m\u001b[1;33m\u001b[0m\u001b[1;33m\u001b[0m\u001b[0m\n\u001b[0;32m      3\u001b[0m \u001b[1;32mfor\u001b[0m \u001b[0mi\u001b[0m \u001b[1;32min\u001b[0m \u001b[0mlist1\u001b[0m\u001b[1;33m:\u001b[0m\u001b[1;33m\u001b[0m\u001b[1;33m\u001b[0m\u001b[0m\n\u001b[1;32m----> 4\u001b[1;33m     \u001b[0mlist2\u001b[0m\u001b[1;33m=\u001b[0m\u001b[0mlist1\u001b[0m\u001b[1;33m.\u001b[0m\u001b[0mappend\u001b[0m\u001b[1;33m(\u001b[0m\u001b[0mi\u001b[0m\u001b[1;33m.\u001b[0m\u001b[0msort\u001b[0m\u001b[1;33m(\u001b[0m\u001b[0mkey\u001b[0m\u001b[1;33m=\u001b[0m\u001b[0mi\u001b[0m\u001b[1;33m[\u001b[0m\u001b[1;36m1\u001b[0m\u001b[1;33m]\u001b[0m\u001b[1;33m)\u001b[0m\u001b[1;33m)\u001b[0m\u001b[1;33m\u001b[0m\u001b[1;33m\u001b[0m\u001b[0m\n\u001b[0m\u001b[0;32m      5\u001b[0m \u001b[0mprint\u001b[0m\u001b[1;33m(\u001b[0m\u001b[0mlist1\u001b[0m\u001b[1;33m)\u001b[0m\u001b[1;33m\u001b[0m\u001b[1;33m\u001b[0m\u001b[0m\n",
      "\u001b[1;31mTypeError\u001b[0m: 'int' object is not callable"
     ]
    }
   ],
   "source": [
    "\n",
    "\n",
    "list1 = [[5, 2], [3, 3], [6, 1]]\n",
    "list2=[]\n",
    "for i in list1:\n",
    "    \n",
    " #   list2=list1.append(i.sort(key=i[1]))\n",
    "print(list1)"
   ]
  },
  {
   "cell_type": "code",
   "execution_count": null,
   "id": "ae77cc2a",
   "metadata": {},
   "outputs": [],
   "source": []
  }
 ],
 "metadata": {
  "kernelspec": {
   "display_name": "Python 3",
   "language": "python",
   "name": "python3"
  },
  "language_info": {
   "codemirror_mode": {
    "name": "ipython",
    "version": 3
   },
   "file_extension": ".py",
   "mimetype": "text/x-python",
   "name": "python",
   "nbconvert_exporter": "python",
   "pygments_lexer": "ipython3",
   "version": "3.9.4"
  }
 },
 "nbformat": 4,
 "nbformat_minor": 5
}
