{
 "cells": [
  {
   "cell_type": "code",
   "execution_count": 16,
   "id": "82674bf5",
   "metadata": {},
   "outputs": [
    {
     "name": "stdout",
     "output_type": "stream",
     "text": [
      "<_io.TextIOWrapper name='test.txt' mode='r' encoding='cp1252'>\n"
     ]
    }
   ],
   "source": [
    "#File handling\n",
    "#mode r-read ,w-write,a-append,x-create\n",
    "file=(open(\"test.txt\",\"r\"))\n",
    "#print(file.read())\n",
    "print(file)\n",
    "#file.close()"
   ]
  },
  {
   "cell_type": "code",
   "execution_count": 4,
   "id": "85715e00",
   "metadata": {},
   "outputs": [],
   "source": [
    "file=open (\"hello1.txt\",\"x\")\n",
    "file.close()"
   ]
  },
  {
   "cell_type": "code",
   "execution_count": 11,
   "id": "007f678f",
   "metadata": {},
   "outputs": [
    {
     "name": "stdout",
     "output_type": "stream",
     "text": [
      "Hello\n"
     ]
    }
   ],
   "source": [
    "f = open(\"test.txt\", \"r\")\n",
    "print(f.read(5))"
   ]
  },
  {
   "cell_type": "code",
   "execution_count": 18,
   "id": "8f7875fc",
   "metadata": {},
   "outputs": [
    {
     "name": "stdout",
     "output_type": "stream",
     "text": [
      "Hello shital\n",
      "<class 'str'>\n"
     ]
    }
   ],
   "source": [
    "file=open(\"test.txt\",\"r\")\n",
    "data=file.read()\n",
    "print(data)\n",
    "print (type (data))\n",
    "file.close()"
   ]
  },
  {
   "cell_type": "code",
   "execution_count": 24,
   "id": "ecb8a2a2",
   "metadata": {},
   "outputs": [
    {
     "name": "stdout",
     "output_type": "stream",
     "text": [
      "Hello shital\n",
      "\n",
      "hi how r you\n",
      "\n"
     ]
    }
   ],
   "source": [
    "file=open(\"test.txt\",\"r\") # default mode r -read\n",
    "#data=file.read()\n",
    "line1=file.readline()\n",
    "print(line1)\n",
    "line2=file.readline()\n",
    "print(line2)\n",
    "\n",
    "file.close()"
   ]
  },
  {
   "cell_type": "code",
   "execution_count": 28,
   "id": "b54136fd",
   "metadata": {},
   "outputs": [
    {
     "name": "stdout",
     "output_type": "stream",
     "text": [
      "sucessful\n"
     ]
    }
   ],
   "source": [
    "f=open('student.txt',\"w\")\n",
    "#\\n it understand and decode it for new line\n",
    "#f=open('student.txt',mode=\"w\")\n",
    "f.write(\"hello\\n\")\n",
    "f.write(\"hi\\n\")\n",
    "f.write(\"how r u\\n\")\n",
    "f.close()\n",
    "print(\"sucessful\")"
   ]
  },
  {
   "cell_type": "code",
   "execution_count": 29,
   "id": "2b403775",
   "metadata": {},
   "outputs": [
    {
     "name": "stdout",
     "output_type": "stream",
     "text": [
      "hello\n",
      "hi\n",
      "how r u\n",
      "\n"
     ]
    }
   ],
   "source": [
    "f=open(\"student.txt\",'r')\n",
    "data=f.read()\n",
    "print(data)\n",
    "f.close()"
   ]
  },
  {
   "cell_type": "code",
   "execution_count": 30,
   "id": "262e6d8c",
   "metadata": {},
   "outputs": [],
   "source": [
    "f=open('student.txt',mode='rb') #rb=read binery mode \n",
    "# it cant understand \\n here \n",
    "data=f.read()\n",
    "f.close()"
   ]
  },
  {
   "cell_type": "code",
   "execution_count": 31,
   "id": "93ec1257",
   "metadata": {},
   "outputs": [
    {
     "name": "stdout",
     "output_type": "stream",
     "text": [
      "sucessful\n"
     ]
    }
   ],
   "source": [
    "with open('student.txt',\"w\") as f: #with treat as function\n",
    "#f=open('student.txt',mode=\"w\")\n",
    "    f.write(\"hello\\n\")\n",
    "    f.write(\"hi\\n\")\n",
    "    f.write(\"how r u\\n\")\n",
    "#no need to write  close()\n",
    "print(\"sucessful\")"
   ]
  },
  {
   "cell_type": "code",
   "execution_count": 35,
   "id": "8cce5ae3",
   "metadata": {},
   "outputs": [
    {
     "data": {
      "text/plain": [
       "'r+ =read and then write\\nw+ =write and then read \\na+ =append and  then read'"
      ]
     },
     "execution_count": 35,
     "metadata": {},
     "output_type": "execute_result"
    }
   ],
   "source": [
    "\"\"\"r+ =read and then write\n",
    "w+ =write and then read \n",
    "a+ =append and  then read\"\"\""
   ]
  },
  {
   "cell_type": "code",
   "execution_count": 37,
   "id": "a4425d7a",
   "metadata": {},
   "outputs": [],
   "source": [
    "#f=open(\"student.txt\",'x') # throws error as file is alerady exit \n",
    "f=open(\"student.txt\",'w') #overwrite in same file\n",
    "f.write(\"hiii\")\n",
    "f.close()"
   ]
  },
  {
   "cell_type": "code",
   "execution_count": 47,
   "id": "33adefdb",
   "metadata": {},
   "outputs": [
    {
     "name": "stdout",
     "output_type": "stream",
     "text": [
      "11\n",
      "11\n"
     ]
    }
   ],
   "source": [
    "#. The pointer is placed at the beginning of the file and this will overwrite any existing file with the same name. \n",
    "f=open(\"student.txt\",'r+') #read and then write(append)\n",
    "#data =f.read()\n",
    "print(data)\n",
    "data=f.write(\"\\n i am fine\")\n",
    "print(data)\n",
    "f.close()"
   ]
  },
  {
   "cell_type": "code",
   "execution_count": 54,
   "id": "72613918",
   "metadata": {},
   "outputs": [
    {
     "name": "stdout",
     "output_type": "stream",
     "text": [
      "name: student.txt\n",
      "mode: r\n",
      "True\n",
      "False\n",
      "False\n"
     ]
    }
   ],
   "source": [
    "f=open('student.txt','r')\n",
    "print(f\"name:\",f.name)\n",
    "print(f\"mode:\",f.mode)\n",
    "print(f.readable()) #if \n",
    "print(f.writable())\n",
    "#f.close()\n",
    "print(f.closed) "
   ]
  },
  {
   "cell_type": "code",
   "execution_count": null,
   "id": "6f613091",
   "metadata": {},
   "outputs": [],
   "source": [
    "f=open (\".jpg\",\"r\")\n",
    "read="
   ]
  },
  {
   "cell_type": "code",
   "execution_count": null,
   "id": "1b1279a0",
   "metadata": {},
   "outputs": [],
   "source": []
  }
 ],
 "metadata": {
  "kernelspec": {
   "display_name": "Python 3",
   "language": "python",
   "name": "python3"
  },
  "language_info": {
   "codemirror_mode": {
    "name": "ipython",
    "version": 3
   },
   "file_extension": ".py",
   "mimetype": "text/x-python",
   "name": "python",
   "nbconvert_exporter": "python",
   "pygments_lexer": "ipython3",
   "version": "3.9.4"
  }
 },
 "nbformat": 4,
 "nbformat_minor": 5
}
