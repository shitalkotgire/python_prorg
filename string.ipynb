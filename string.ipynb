{
 "cells": [
  {
   "cell_type": "code",
   "execution_count": 5,
   "id": "b949a2d8",
   "metadata": {},
   "outputs": [
    {
     "name": "stdout",
     "output_type": "stream",
     "text": [
      "10\n"
     ]
    }
   ],
   "source": [
    "#program to calculate the length of a string\n",
    "str1=\"hello word\"\n",
    "count=0\n",
    "for a in str1:\n",
    "    count+=1\n",
    "print (count)"
   ]
  },
  {
   "cell_type": "code",
   "execution_count": 6,
   "id": "1fbdbcc0",
   "metadata": {},
   "outputs": [
    {
     "name": "stdout",
     "output_type": "stream",
     "text": [
      "10\n"
     ]
    }
   ],
   "source": [
    "print(len(str1))\n"
   ]
  },
  {
   "cell_type": "code",
   "execution_count": 9,
   "id": "28a8b5ae",
   "metadata": {},
   "outputs": [
    {
     "data": {
      "text/plain": [
       "4"
      ]
     },
     "execution_count": 9,
     "metadata": {},
     "output_type": "execute_result"
    }
   ],
   "source": [
    "t1=[1,2,3,4]\n",
    "len(t1)"
   ]
  },
  {
   "cell_type": "code",
   "execution_count": 17,
   "id": "f5726714",
   "metadata": {},
   "outputs": [
    {
     "name": "stdout",
     "output_type": "stream",
     "text": [
      "{'h': 1, 'e': 2, 'l': 3, 'o': 3, ' ': 1, 'g': 2}\n"
     ]
    }
   ],
   "source": [
    "#program to count the number of characters (character frequency) in a string.\n",
    "str1=\"hello google\"\n",
    "dict = {}\n",
    "for n in str1:\n",
    "    keys = dict.keys()\n",
    "    if n in keys:\n",
    "        dict[n] += 1  #[] indicates value of dict\n",
    "    else:\n",
    "        dict[n] = 1  \n",
    "print(dict)"
   ]
  },
  {
   "cell_type": "code",
   "execution_count": 22,
   "id": "b5044d82",
   "metadata": {},
   "outputs": [
    {
     "name": "stdout",
     "output_type": "stream",
     "text": [
      "Input comma separated sequence of wordshi,hewllo,bye\n",
      "['bye', 'hewllo', 'hi']\n"
     ]
    }
   ],
   "source": [
    "#Prints the unique words in sorted form from a comma separated sequence of words\n",
    "items = input(\"Input comma separated sequence of words\")\n",
    "words = [word \n",
    "for word in items.split(\",\")] #list comprehention syntax\n",
    "print(sorted(words))\n",
    "#pint(\",\".join(sorted(list(set(words)))))\n"
   ]
  },
  {
   "cell_type": "code",
   "execution_count": 31,
   "id": "f677f63b",
   "metadata": {},
   "outputs": [
    {
     "name": "stdout",
     "output_type": "stream",
     "text": [
      "elgoog olleh\n"
     ]
    }
   ],
   "source": [
    "#Write a Python prog to reverses a string \n",
    "str1=\"hello google\"\n",
    "#print(reversed(str1))\n",
    "print(''.join(reversed(str1)))"
   ]
  },
  {
   "cell_type": "code",
   "execution_count": 30,
   "id": "c1cce2bc",
   "metadata": {},
   "outputs": [
    {
     "name": "stdout",
     "output_type": "stream",
     "text": [
      "elgoog olleh\n"
     ]
    }
   ],
   "source": [
    "str1=\"hello google\"\n",
    "#revstr=\"\"\n",
    "revstr=str1[::-1]  #[::-1] means start at the end and end at position 0, move with the step -1.\n",
    "print(revstr)"
   ]
  },
  {
   "cell_type": "code",
   "execution_count": 39,
   "id": "f8e47484",
   "metadata": {},
   "outputs": [
    {
     "name": "stdout",
     "output_type": "stream",
     "text": [
      "olleh\n",
      "hello is not palindrome\n"
     ]
    }
   ],
   "source": [
    "# program to check if a string is palindrome or not\n",
    "#str1=\"malayalam\"\n",
    "str1=\"hello\"\n",
    "\n",
    "str3=str1[::-1]\n",
    "print (str3)\n",
    "if str1 == str3:\n",
    "    print (\"%s is palindrome\" %str1)\n",
    "else:\n",
    "     print (\"%s is not palindrome\" %str1)"
   ]
  },
  {
   "cell_type": "code",
   "execution_count": 42,
   "id": "d4cc65e7",
   "metadata": {},
   "outputs": [
    {
     "name": "stdout",
     "output_type": "stream",
     "text": [
      "malayalam\n",
      "Yes\n"
     ]
    }
   ],
   "source": [
    "x = \"malayalam\"\n",
    " \n",
    "w = \"\"\n",
    "for i in x:\n",
    "    w = i + w\n",
    "print(w) \n",
    "if (x == w):\n",
    "    print(\"Yes\")\n",
    "else:\n",
    "    print(\"No\")\n",
    "   "
   ]
  },
  {
   "cell_type": "code",
   "execution_count": 1,
   "id": "217a6f51",
   "metadata": {},
   "outputs": [
    {
     "name": "stdout",
     "output_type": "stream",
     "text": [
      "The strings are anagrams.\n"
     ]
    }
   ],
   "source": [
    "# function to check if two strings are\n",
    "# anagram or not\n",
    "def check(s1, s2):\n",
    "     \n",
    "    # the sorted strings are checked\n",
    "    if(sorted(s1)== sorted(s2)):\n",
    "        print(\"The strings are anagrams.\")\n",
    "    else:\n",
    "        print(\"The strings aren't anagrams.\")        \n",
    "         \n",
    "# driver code \n",
    "s1 =\"listen\"\n",
    "s2 =\"silent\"\n",
    "check(s1, s2)"
   ]
  },
  {
   "cell_type": "code",
   "execution_count": 5,
   "id": "ac8d3b71",
   "metadata": {},
   "outputs": [
    {
     "name": "stdout",
     "output_type": "stream",
     "text": [
      "1-2-3-4\n"
     ]
    }
   ],
   "source": [
    "#join function\n",
    "l1=['1','2','3','4']\n",
    "s=\"-\"\n",
    "s=s.join(l1)\n",
    "print(s)"
   ]
  },
  {
   "cell_type": "code",
   "execution_count": 7,
   "id": "24569d49",
   "metadata": {},
   "outputs": [
    {
     "name": "stdout",
     "output_type": "stream",
     "text": [
      "1.2.3.4\n"
     ]
    }
   ],
   "source": [
    "l1=['1','2','3','4']\n",
    "s=\".\"\n",
    "s=s.join(l1)\n",
    "print(s)"
   ]
  },
  {
   "cell_type": "code",
   "execution_count": 8,
   "id": "0b333fa9",
   "metadata": {},
   "outputs": [
    {
     "name": "stdout",
     "output_type": "stream",
     "text": [
      "geeks\n"
     ]
    }
   ],
   "source": [
    "list1 = ['g','e','e','k', 's'] \n",
    "print(\"\".join(list1))"
   ]
  },
  {
   "cell_type": "code",
   "execution_count": 9,
   "id": "7968d7df",
   "metadata": {},
   "outputs": [
    {
     "name": "stdout",
     "output_type": "stream",
     "text": [
      "['welcome', 'to', 'the', 'jungle']\n"
     ]
    }
   ],
   "source": [
    "txt = \"welcome to the jungle\"\n",
    "x = txt.split()\n",
    "print(x)"
   ]
  },
  {
   "cell_type": "code",
   "execution_count": 10,
   "id": "8d7ecbca",
   "metadata": {},
   "outputs": [
    {
     "name": "stdout",
     "output_type": "stream",
     "text": [
      "['My', 'name', 'is', 'shital']\n"
     ]
    }
   ],
   "source": [
    "#split()\n",
    "str1=\"My name is shital\"\n",
    "print (str1.split())"
   ]
  },
  {
   "cell_type": "code",
   "execution_count": 13,
   "id": "e73ea05a",
   "metadata": {},
   "outputs": [
    {
     "name": "stdout",
     "output_type": "stream",
     "text": [
      "['My', 'name', 'is', 'shital']\n"
     ]
    }
   ],
   "source": [
    "#split()\n",
    "str1=\"My#name#is#shital\"\n",
    "print (str1.split('#'))"
   ]
  },
  {
   "cell_type": "code",
   "execution_count": null,
   "id": "370002de",
   "metadata": {},
   "outputs": [],
   "source": []
  }
 ],
 "metadata": {
  "kernelspec": {
   "display_name": "Python 3",
   "language": "python",
   "name": "python3"
  },
  "language_info": {
   "codemirror_mode": {
    "name": "ipython",
    "version": 3
   },
   "file_extension": ".py",
   "mimetype": "text/x-python",
   "name": "python",
   "nbconvert_exporter": "python",
   "pygments_lexer": "ipython3",
   "version": "3.9.4"
  }
 },
 "nbformat": 4,
 "nbformat_minor": 5
}
